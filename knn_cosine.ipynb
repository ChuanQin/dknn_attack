{
 "cells": [
  {
   "cell_type": "code",
   "execution_count": 5,
   "metadata": {},
   "outputs": [
    {
     "name": "stdout",
     "output_type": "stream",
     "text": [
      "The autoreload extension is already loaded. To reload it, use:\n",
      "  %reload_ext autoreload\n"
     ]
    }
   ],
   "source": [
    "%matplotlib inline\n",
    "\n",
    "%load_ext autoreload\n",
    "%autoreload 2\n",
    "\n",
    "from matplotlib.gridspec import GridSpec\n",
    "import matplotlib.pyplot as plt\n",
    "import matplotlib\n",
    "from skimage.transform import resize\n",
    "from imageio import imread, imwrite\n",
    "import pandas as pd\n",
    "import glob\n",
    "import pickle\n",
    "import numpy as np\n",
    "import tensorflow as tf\n",
    "import keras\n",
    "from keras.models import load_model\n",
    "import keras.backend as K\n",
    "\n",
    "from lib.utils import load_gtsrb\n",
    "\n",
    "from lib.lib_knn import *\n",
    "from lib.knn_attack import *\n",
    "\n",
    "import os\n",
    "os.environ[\"CUDA_DEVICE_ORDER\"] = \"PCI_BUS_ID\"\n",
    "os.environ[\"CUDA_VISIBLE_DEVICES\"] = \"1\"\n",
    "\n",
    "config = tf.ConfigProto()\n",
    "config.gpu_options.allow_growth = True\n",
    "sess = tf.Session(config=config)\n",
    "from keras.backend.tensorflow_backend import set_session\n",
    "set_session(sess)\n",
    "\n",
    "from scipy.spatial.distance import cosine\n",
    "import timeit\n",
    "import falconn"
   ]
  },
  {
   "cell_type": "code",
   "execution_count": 2,
   "metadata": {},
   "outputs": [],
   "source": [
    "np.random.seed(1234)"
   ]
  },
  {
   "cell_type": "code",
   "execution_count": 3,
   "metadata": {},
   "outputs": [],
   "source": [
    "from keras.datasets import mnist\n",
    "\n",
    "(X_train, y_train), (X_test, y_test) = mnist.load_data()\n",
    "X_train = X_train[:, :, :, np.newaxis] / 255.\n",
    "X_test = X_test[:, :, :, np.newaxis] / 255.\n",
    "# y_train = y_train[:, np.newaxis]\n",
    "# y_test = y_test[:, np.newaxis]\n",
    "# from sklearn.model_selection import train_test_split\n",
    "# X_train, X_val, y_train, y_val = train_test_split(\n",
    "#     X_train, y_train, test_size=0.1)"
   ]
  },
  {
   "cell_type": "code",
   "execution_count": 4,
   "metadata": {},
   "outputs": [],
   "source": [
    "X_train_nm = X_train/np.sqrt(np.sum(X_train**2, axis=(1, 2, 3), keepdims=True))\n",
    "X_test_nm = X_test/np.sqrt(np.sum(X_test**2, axis=(1, 2, 3), keepdims=True))\n",
    "X_train_nm = X_train_nm.reshape(-1, 784)\n",
    "X_test_nm = X_test_nm.reshape(-1, 784)"
   ]
  },
  {
   "cell_type": "code",
   "execution_count": 5,
   "metadata": {},
   "outputs": [],
   "source": [
    "def compute_cosine(u, v):\n",
    "    \"\"\"\n",
    "    Asssume normalized inputs\n",
    "    \"\"\"\n",
    "    assert u.ndim >= v.ndim\n",
    "    v_rs = v.reshape(-1)\n",
    "    if u.ndim > v.ndim:\n",
    "        u_rs = u.reshape(len(u), -1)\n",
    "#         cdist = np.array([cosine(u_i, v_rs) for u_i in u_rs])\n",
    "        cdist = np.array([1 - np.dot(u_i, v_rs) for u_i in u_rs])\n",
    "    else:\n",
    "        u_rs = u.reshape(-1)\n",
    "#         cdist = cosine(u_rs, v_rs)\n",
    "        cdist = 1 - np.dot(u_rs, v_rs)\n",
    "    return cdist\n",
    "\n",
    "\n",
    "def find_nn(Q, X, k):\n",
    "    assert Q.shape[1:] == X.shape[1:]\n",
    "    nn = np.zeros((len(Q), k), dtype=np.int32)\n",
    "    axis = tuple(np.arange(1, X.ndim, dtype=np.int32))\n",
    "    for i, q in enumerate(Q):\n",
    "        ind = np.argsort(compute_cosine(X, q))[:k]\n",
    "        nn[i] = ind\n",
    "    return nn\n",
    "\n",
    "\n",
    "def classify(nn, y_X):\n",
    "    vote = np.array([np.argmax(np.bincount(y)) for y in y_X[nn]])\n",
    "    return vote\n",
    "\n",
    "\n",
    "def find_acc(nn, y_Q, y_X):\n",
    "    vote = classify(nn, y_X)\n",
    "    print(np.mean(vote == y_Q))\n",
    "    \n",
    "    \n",
    "def find_nn_diff_class(Q, y_Q, X, y_X, k):\n",
    "    target = np.zeros((len(Q), k), dtype=np.int32)\n",
    "    axis = tuple(np.arange(1, X.ndim, dtype=np.int32))\n",
    "    for i, (q, y_q) in enumerate(zip(Q, y_Q)):\n",
    "        ind = np.argsort(compute_cosine(X, q))\n",
    "        target[i] = ind[y_X[ind] != y_q][:k]\n",
    "    return target\n",
    "\n",
    "\n",
    "def move_to_target(q, y_q, target, X, y_X, k, n_steps=5):\n",
    "    \"\"\"\n",
    "    Move in straight line to target with binary search.\n",
    "    Stop when adv is misclassified.\n",
    "    \"\"\"\n",
    "    axis = tuple(np.arange(1, X.ndim, dtype=np.int32))\n",
    "    line = target - q\n",
    "    hi = 1\n",
    "    lo = 0\n",
    "    adv = None\n",
    "    for step in range(n_steps):\n",
    "        mid = (hi + lo)/2\n",
    "        x_new = mid*line + q\n",
    "        new_neighbors = np.argsort(np.sum((X - x_new)**2, axis=axis))[:k]\n",
    "        y_pred = np.argmax(np.bincount(y_X[new_neighbors]))\n",
    "        if y_pred == y_q:\n",
    "            lo = mid\n",
    "        else:\n",
    "            hi = mid\n",
    "            adv = x_new\n",
    "    return adv\n",
    "            \n",
    "    \n",
    "def attack_v2(Q, y_Q, X, y_X, k, n_steps=5):\n",
    "    \"\"\"\n",
    "    Naive attack v2 (untargeted): \n",
    "    Complexity is O(k * n_X log (n_X) * n_Q * n_steps)\n",
    "    \n",
    "    1. Choose trianing sample of target class from X closest to query\n",
    "    2. Find closest sample of the same class to the mean of K\n",
    "    3. Add that sample to K\n",
    "    4. Repeat 2. - 3. until |K| = k/2 + 1\n",
    "    5. Move query closer to mean of K, terminate when query becomes\n",
    "       adversarial\n",
    "    \"\"\"\n",
    "    \n",
    "    nn = find_nn_diff_class(Q, y_Q, X, y_X, 1)\n",
    "    X_adv = np.zeros_like(Q)\n",
    "    axis = tuple(np.arange(1, X.ndim, dtype=np.int32))\n",
    "    \n",
    "    for i, (q, y_q) in enumerate(zip(Q, y_Q)):\n",
    "        \n",
    "        if i % 200 == 0:\n",
    "            print(i)\n",
    "        \n",
    "        n_neighbors = int(np.floor(k/2) + 1)\n",
    "        K = np.zeros((n_neighbors, ) + Q.shape[1:])\n",
    "                    \n",
    "        # Step 1.\n",
    "        K[0] = X[nn[i, 0]]\n",
    "        K_ind = [nn[i, 0]]\n",
    "\n",
    "        for j in range(1, n_neighbors):\n",
    "            \n",
    "            # Step 2.\n",
    "            mean = np.mean(K[:j], axis=0)\n",
    "            ind = np.argsort(np.sum((X - mean)**2, axis=axis))\n",
    "            new_nbs = ind[y_X[ind] != y_q]\n",
    "            \n",
    "            # Step 3.\n",
    "            for new_nb in new_nbs:\n",
    "                if new_nb not in K_ind:\n",
    "                    K_ind.append(new_nb)\n",
    "                    K[j] = X[new_nb]\n",
    "                    break\n",
    "                    \n",
    "        # Step 5.\n",
    "        mean = np.mean(K, axis=0)\n",
    "        X_adv[i] = move_to_target(q, y_q, mean, X, y_X, k, n_steps)\n",
    "        \n",
    "    return X_adv"
   ]
  },
  {
   "cell_type": "markdown",
   "metadata": {},
   "source": [
    "Choosing k, l, num_probe: https://github.com/FALCONN-LIB/FALCONN/wiki/LSH-Primer"
   ]
  },
  {
   "cell_type": "code",
   "execution_count": 6,
   "metadata": {},
   "outputs": [],
   "source": [
    "def setup_lsh(X, num_probes=100):\n",
    "    assert X.ndim == 2\n",
    "    params_cp = falconn.LSHConstructionParameters()\n",
    "    params_cp.dimension = X.shape[1]\n",
    "    params_cp.lsh_family = falconn.LSHFamily.CrossPolytope\n",
    "    params_cp.distance_function = falconn.DistanceFunction.EuclideanSquared\n",
    "    params_cp.l = 100\n",
    "    params_cp.num_rotations = 1\n",
    "    params_cp.seed = 1234\n",
    "    params_cp.num_setup_threads = 0\n",
    "    params_cp.storage_hash_table = falconn.StorageHashTable.BitPackedFlatHashTable\n",
    "    falconn.compute_number_of_hash_functions(16, params_cp)\n",
    "    \n",
    "    table = falconn.LSHIndex(params_cp)\n",
    "    table.setup(X)\n",
    "    query_object = table.construct_query_object()\n",
    "    query_object.set_num_probes(num_probes)\n",
    "    \n",
    "    return query_object"
   ]
  },
  {
   "cell_type": "code",
   "execution_count": 28,
   "metadata": {},
   "outputs": [],
   "source": [
    "params_cp = falconn.LSHConstructionParameters()\n",
    "params_cp.dimension = 784\n",
    "params_cp.lsh_family = falconn.LSHFamily.CrossPolytope\n",
    "params_cp.distance_function = falconn.DistanceFunction.EuclideanSquared\n",
    "params_cp.l = 50\n",
    "# we set one rotation, since the data is dense enough,\n",
    "# for sparse data set it to 2\n",
    "params_cp.num_rotations = 1\n",
    "params_cp.seed = 1234\n",
    "# we want to use all the available threads to set up\n",
    "params_cp.num_setup_threads = 0\n",
    "params_cp.storage_hash_table = falconn.StorageHashTable.BitPackedFlatHashTable\n",
    "# we build 18-bit hashes so that each table has\n",
    "# 2^18 bins; this is a good choise since 2^18 is of the same\n",
    "# order of magnitude as the number of data points\n",
    "falconn.compute_number_of_hash_functions(16, params_cp)"
   ]
  },
  {
   "cell_type": "code",
   "execution_count": 29,
   "metadata": {},
   "outputs": [],
   "source": [
    "table = falconn.LSHIndex(params_cp)\n",
    "table.setup(X_train_nm)"
   ]
  },
  {
   "cell_type": "code",
   "execution_count": 30,
   "metadata": {},
   "outputs": [],
   "source": [
    "query_object = table.construct_query_object()"
   ]
  },
  {
   "cell_type": "code",
   "execution_count": 36,
   "metadata": {},
   "outputs": [],
   "source": [
    "query_object.set_num_probes(50)"
   ]
  },
  {
   "cell_type": "code",
   "execution_count": 127,
   "metadata": {},
   "outputs": [
    {
     "name": "stdout",
     "output_type": "stream",
     "text": [
      "1.0\n",
      "402.54560889001004\n"
     ]
    }
   ],
   "source": [
    "# k=1, l=50, t=50\n",
    "nn_lsh = np.zeros((len(X_test), 75))\n",
    "t1 = timeit.default_timer()\n",
    "for i, x in enumerate(X_test_nm):\n",
    "    nn_lsh[i] = query_object.find_k_nearest_neighbors(x, 75)\n",
    "t2 = timeit.default_timer()\n",
    "acc = np.mean(nn_lsh == nn)\n",
    "print(acc)\n",
    "print(t2 - t1)"
   ]
  },
  {
   "cell_type": "code",
   "execution_count": 19,
   "metadata": {},
   "outputs": [
    {
     "name": "stdout",
     "output_type": "stream",
     "text": [
      "0.989744\n",
      "161.95659640501253\n"
     ]
    }
   ],
   "source": [
    "# k=2, l=200, t=200\n",
    "nn_lsh = np.zeros((len(X_test), 75))\n",
    "t1 = timeit.default_timer()\n",
    "for i, x in enumerate(X_test_nm):\n",
    "    nn_lsh[i] = query_object.find_k_nearest_neighbors(x, 75)\n",
    "t2 = timeit.default_timer()\n",
    "acc = np.mean(nn_lsh == nn)\n",
    "print(acc)\n",
    "print(t2 - t1)"
   ]
  },
  {
   "cell_type": "code",
   "execution_count": 27,
   "metadata": {},
   "outputs": [
    {
     "name": "stdout",
     "output_type": "stream",
     "text": [
      "0.9973226666666667\n",
      "208.35451043001376\n"
     ]
    }
   ],
   "source": [
    "# k=2, l=300, t=300\n",
    "nn_lsh = np.zeros((len(X_test), 75))\n",
    "t1 = timeit.default_timer()\n",
    "for i, x in enumerate(X_test_nm):\n",
    "    nn_lsh[i] = query_object.find_k_nearest_neighbors(x, 75)\n",
    "t2 = timeit.default_timer()\n",
    "acc = np.mean(nn_lsh == nn)\n",
    "print(acc)\n",
    "print(t2 - t1)"
   ]
  },
  {
   "cell_type": "code",
   "execution_count": 22,
   "metadata": {},
   "outputs": [
    {
     "name": "stdout",
     "output_type": "stream",
     "text": [
      "1.0\n",
      "902.5806880800519\n"
     ]
    }
   ],
   "source": [
    "nn_lsh = np.zeros((len(X_test), 75))\n",
    "t1 = timeit.default_timer()\n",
    "for i, x in enumerate(X_test_nm):\n",
    "    nn_lsh[i] = np.argsort(compute_cosine(X_train_nm, x))[:75]\n",
    "t2 = timeit.default_timer()\n",
    "acc = np.mean(nn_lsh == nn)\n",
    "print(acc)\n",
    "print(t2 - t1)"
   ]
  },
  {
   "cell_type": "code",
   "execution_count": 103,
   "metadata": {},
   "outputs": [
    {
     "name": "stdout",
     "output_type": "stream",
     "text": [
      "0.8886093333333334\n",
      "107.8704757199157\n"
     ]
    }
   ],
   "source": [
    "nn_lsh = np.zeros((len(X_test), 75))\n",
    "t1 = timeit.default_timer()\n",
    "for i, x in enumerate(X_test_nm):\n",
    "    nn_lsh[i] = query_object.find_k_nearest_neighbors(x, 75)\n",
    "t2 = timeit.default_timer()\n",
    "acc = np.mean(nn_lsh == nn)\n",
    "print(acc)\n",
    "print(t2 - t1)"
   ]
  },
  {
   "cell_type": "code",
   "execution_count": 86,
   "metadata": {
    "scrolled": true
   },
   "outputs": [
    {
     "name": "stdout",
     "output_type": "stream",
     "text": [
      "550\n",
      "0.9517306666666666\n",
      "161.63525019795634\n",
      "775\n",
      "0.9716373333333334\n",
      "188.16776536405087\n",
      "887\n",
      "0.9776586666666667\n",
      "197.0630873311311\n",
      "943\n"
     ]
    },
    {
     "ename": "KeyboardInterrupt",
     "evalue": "",
     "output_type": "error",
     "traceback": [
      "\u001b[0;31m---------------------------------------------------------------------------\u001b[0m",
      "\u001b[0;31mKeyboardInterrupt\u001b[0m                         Traceback (most recent call last)",
      "\u001b[0;32m<ipython-input-86-e84822e09d7f>\u001b[0m in \u001b[0;36m<module>\u001b[0;34m()\u001b[0m\n\u001b[1;32m     15\u001b[0m     \u001b[0mt1\u001b[0m \u001b[0;34m=\u001b[0m \u001b[0mtimeit\u001b[0m\u001b[0;34m.\u001b[0m\u001b[0mdefault_timer\u001b[0m\u001b[0;34m(\u001b[0m\u001b[0;34m)\u001b[0m\u001b[0;34m\u001b[0m\u001b[0m\n\u001b[1;32m     16\u001b[0m     \u001b[0;32mfor\u001b[0m \u001b[0mi\u001b[0m\u001b[0;34m,\u001b[0m \u001b[0mx\u001b[0m \u001b[0;32min\u001b[0m \u001b[0menumerate\u001b[0m\u001b[0;34m(\u001b[0m\u001b[0mX_test_nm\u001b[0m\u001b[0;34m)\u001b[0m\u001b[0;34m:\u001b[0m\u001b[0;34m\u001b[0m\u001b[0m\n\u001b[0;32m---> 17\u001b[0;31m         \u001b[0mnn_lsh\u001b[0m\u001b[0;34m[\u001b[0m\u001b[0mi\u001b[0m\u001b[0;34m]\u001b[0m \u001b[0;34m=\u001b[0m \u001b[0mquery_object\u001b[0m\u001b[0;34m.\u001b[0m\u001b[0mfind_k_nearest_neighbors\u001b[0m\u001b[0;34m(\u001b[0m\u001b[0mx\u001b[0m\u001b[0;34m,\u001b[0m \u001b[0;36m75\u001b[0m\u001b[0;34m)\u001b[0m\u001b[0;34m\u001b[0m\u001b[0m\n\u001b[0m\u001b[1;32m     18\u001b[0m     \u001b[0mt2\u001b[0m \u001b[0;34m=\u001b[0m \u001b[0mtimeit\u001b[0m\u001b[0;34m.\u001b[0m\u001b[0mdefault_timer\u001b[0m\u001b[0;34m(\u001b[0m\u001b[0;34m)\u001b[0m\u001b[0;34m\u001b[0m\u001b[0m\n\u001b[1;32m     19\u001b[0m     \u001b[0macc\u001b[0m \u001b[0;34m=\u001b[0m \u001b[0mnp\u001b[0m\u001b[0;34m.\u001b[0m\u001b[0mmean\u001b[0m\u001b[0;34m(\u001b[0m\u001b[0mnn_lsh\u001b[0m \u001b[0;34m==\u001b[0m \u001b[0mnn\u001b[0m\u001b[0;34m)\u001b[0m\u001b[0;34m\u001b[0m\u001b[0m\n",
      "\u001b[0;32m/usr/local/lib/python3.5/dist-packages/falconn/__init__.py\u001b[0m in \u001b[0;36mfind_k_nearest_neighbors\u001b[0;34m(self, query, k)\u001b[0m\n\u001b[1;32m    108\u001b[0m         \u001b[0;32mif\u001b[0m \u001b[0mk\u001b[0m \u001b[0;34m<=\u001b[0m \u001b[0;36m0\u001b[0m\u001b[0;34m:\u001b[0m\u001b[0;34m\u001b[0m\u001b[0m\n\u001b[1;32m    109\u001b[0m             \u001b[0;32mraise\u001b[0m \u001b[0mValueError\u001b[0m\u001b[0;34m(\u001b[0m\u001b[0;34m'k must be positive rather than {}'\u001b[0m\u001b[0;34m.\u001b[0m\u001b[0mformat\u001b[0m\u001b[0;34m(\u001b[0m\u001b[0mk\u001b[0m\u001b[0;34m)\u001b[0m\u001b[0;34m)\u001b[0m\u001b[0;34m\u001b[0m\u001b[0m\n\u001b[0;32m--> 110\u001b[0;31m         \u001b[0;32mreturn\u001b[0m \u001b[0mself\u001b[0m\u001b[0;34m.\u001b[0m\u001b[0m_inner_entity\u001b[0m\u001b[0;34m.\u001b[0m\u001b[0mfind_k_nearest_neighbors\u001b[0m\u001b[0;34m(\u001b[0m\u001b[0mquery\u001b[0m\u001b[0;34m,\u001b[0m \u001b[0mk\u001b[0m\u001b[0;34m)\u001b[0m\u001b[0;34m\u001b[0m\u001b[0m\n\u001b[0m\u001b[1;32m    111\u001b[0m \u001b[0;34m\u001b[0m\u001b[0m\n\u001b[1;32m    112\u001b[0m     \u001b[0;32mdef\u001b[0m \u001b[0mfind_near_neighbors\u001b[0m\u001b[0;34m(\u001b[0m\u001b[0mself\u001b[0m\u001b[0;34m,\u001b[0m \u001b[0mquery\u001b[0m\u001b[0;34m,\u001b[0m \u001b[0mthreshold\u001b[0m\u001b[0;34m)\u001b[0m\u001b[0;34m:\u001b[0m\u001b[0;34m\u001b[0m\u001b[0m\n",
      "\u001b[0;31mKeyboardInterrupt\u001b[0m: "
     ]
    }
   ],
   "source": [
    "hi = 1e3\n",
    "lo = 1e2\n",
    "import timeit\n",
    "\n",
    "for _ in range(5):\n",
    "    probe = int((hi + lo) / 2)\n",
    "    print(probe)\n",
    "#     params_cp.l = probe\n",
    "#     table = falconn.LSHIndex(params_cp)\n",
    "#     table.setup(X_train_nm)\n",
    "#     query_object = table.construct_query_object()\n",
    "    query_object.set_num_probes(probe)\n",
    "    \n",
    "    nn_lsh = np.zeros((len(X_test), 75))\n",
    "    t1 = timeit.default_timer()\n",
    "    for i, x in enumerate(X_test_nm):\n",
    "        nn_lsh[i] = query_object.find_k_nearest_neighbors(x, 75)\n",
    "    t2 = timeit.default_timer()\n",
    "    acc = np.mean(nn_lsh == nn)\n",
    "    print(acc)\n",
    "    print(t2 - t1)\n",
    "    if acc > 0.9999:\n",
    "        hi = probe\n",
    "        best_probe = probe\n",
    "    else:\n",
    "        lo = probe\n",
    "\n",
    "print(best_probe)"
   ]
  },
  {
   "cell_type": "code",
   "execution_count": 35,
   "metadata": {},
   "outputs": [
    {
     "name": "stdout",
     "output_type": "stream",
     "text": [
      "0.8886093333333334\n",
      "102.53956407611258\n",
      "0.9874973333333333\n"
     ]
    }
   ],
   "source": [
    "# Ignore order and only consider set of NN\n",
    "\n",
    "# k=2, l=50, t=100\n",
    "nn_lsh = np.zeros((len(X_test), 75))\n",
    "t1 = timeit.default_timer()\n",
    "for i, x in enumerate(X_test_nm):\n",
    "    nn_lsh[i] = query_object.find_k_nearest_neighbors(x, 75)\n",
    "t2 = timeit.default_timer()\n",
    "\n",
    "acc = np.mean(nn_lsh == nn)\n",
    "print(acc)\n",
    "print(t2 - t1)\n",
    "\n",
    "cor = 0\n",
    "for i in range(len(X_test)):\n",
    "    for n in nn_lsh[i]:\n",
    "        if n in nn[i]:\n",
    "            cor += 1\n",
    "print(cor / (len(X_test)*75))"
   ]
  },
  {
   "cell_type": "code",
   "execution_count": 37,
   "metadata": {},
   "outputs": [
    {
     "name": "stdout",
     "output_type": "stream",
     "text": [
      "0.7475853333333333\n",
      "65.3898569450248\n",
      "0.9645013333333333\n"
     ]
    }
   ],
   "source": [
    "# k=2, l=50, t=50\n",
    "nn_lsh = np.zeros((len(X_test), 75))\n",
    "t1 = timeit.default_timer()\n",
    "for i, x in enumerate(X_test_nm):\n",
    "    nn_lsh[i] = query_object.find_k_nearest_neighbors(x, 75)\n",
    "t2 = timeit.default_timer()\n",
    "\n",
    "acc = np.mean(nn_lsh == nn)\n",
    "print(acc)\n",
    "print(t2 - t1)\n",
    "\n",
    "cor = 0\n",
    "for i in range(len(X_test)):\n",
    "    for n in nn_lsh[i]:\n",
    "        if n in nn[i]:\n",
    "            cor += 1\n",
    "print(cor / (len(X_test)*75))"
   ]
  },
  {
   "cell_type": "code",
   "execution_count": null,
   "metadata": {},
   "outputs": [],
   "source": [
    "nn = np.zeros((len(X_test), 75))\n",
    "for i, x in enumerate(X_test_nm):\n",
    "    nn[i] = np.argsort(compute_cosine(X_train, x))[:75]"
   ]
  },
  {
   "cell_type": "code",
   "execution_count": 18,
   "metadata": {},
   "outputs": [],
   "source": [
    "nn = pickle.load(open(\"nn_test_cosine.p\", \"rb\"))"
   ]
  },
  {
   "cell_type": "markdown",
   "metadata": {},
   "source": [
    "---"
   ]
  },
  {
   "cell_type": "code",
   "execution_count": 6,
   "metadata": {},
   "outputs": [
    {
     "name": "stdout",
     "output_type": "stream",
     "text": [
      "10000/10000 [==============================] - 1s 139us/step\n"
     ]
    },
    {
     "data": {
      "text/plain": [
       "[0.03731346611475783, 0.9924]"
      ]
     },
     "execution_count": 6,
     "metadata": {},
     "output_type": "execute_result"
    }
   ],
   "source": [
    "from keras.models import Sequential\n",
    "from keras.models import Model\n",
    "from keras.layers import Dense, Flatten, Conv2D, Input, Activation\n",
    "\n",
    "inpt = Input(shape=(28, 28, 1))\n",
    "l1 = Conv2D(64, (8, 8), strides=(2, 2), padding='same', activation='relu')(inpt)\n",
    "l2 = Conv2D(128, (6, 6), strides=(2, 2), padding='same', activation='relu')(l1)\n",
    "l3 = Conv2D(128, (5, 5), strides=(1, 1), padding='valid', activation='relu')(l2)\n",
    "flat = Flatten()(l3)\n",
    "l4 = Dense(10, activation=None)(flat)\n",
    "out = Activation('softmax')(l4)\n",
    "\n",
    "model = Model(inputs=inpt, outputs=out)\n",
    "l1_rep = Model(inputs=inpt, outputs=l1)\n",
    "l2_rep = Model(inputs=inpt, outputs=l2)\n",
    "l3_rep = Model(inputs=inpt, outputs=l3)\n",
    "l4_rep = Model(inputs=inpt, outputs=l4)\n",
    "\n",
    "model.compile(loss=keras.losses.sparse_categorical_crossentropy,\n",
    "              optimizer=keras.optimizers.Adam(1e-3),\n",
    "              metrics=['accuracy'])\n",
    "\n",
    "# model.fit(X_train, y_train,\n",
    "#           batch_size=128,\n",
    "#           epochs=15,\n",
    "#           verbose=1,\n",
    "#           validation_data=(X_test, y_test))\n",
    "\n",
    "# model.save_weights('keras_weights/mnist_cnn.h5')\n",
    "\n",
    "model.load_weights('keras_weights/mnist_cnn.h5')\n",
    "model.evaluate(X_test, y_test)"
   ]
  },
  {
   "cell_type": "code",
   "execution_count": 11,
   "metadata": {},
   "outputs": [],
   "source": [
    "rep_ts = [l1_rep, l2_rep, l3_rep, l4_rep]"
   ]
  },
  {
   "cell_type": "code",
   "execution_count": 7,
   "metadata": {},
   "outputs": [],
   "source": [
    "# Randomly chosen calibrate set 75 samples from each class\n",
    "ind_cal = np.zeros((750, ), dtype=np.int32)\n",
    "for i in range(10):\n",
    "    ind = np.where(y_test == i)[0]\n",
    "    np.random.shuffle(ind)\n",
    "    ind_cal[i*75 : (i + 1)*75] = ind[:75]\n",
    "ind_test = np.arange(len(X_test), dtype=np.int32)\n",
    "ind_test = np.setdiff1d(ind_test, ind_cal)"
   ]
  },
  {
   "cell_type": "code",
   "execution_count": 8,
   "metadata": {},
   "outputs": [],
   "source": [
    "X_cal = X_test[ind_cal]\n",
    "y_cal = y_test[ind_cal]\n",
    "X_test = X_test[ind_test]\n",
    "y_test = y_test[ind_test]"
   ]
  },
  {
   "cell_type": "code",
   "execution_count": 14,
   "metadata": {},
   "outputs": [],
   "source": [
    "rep_train_nm = get_all_rep_nm(sess, X_train, rep_ts)\n",
    "rep_test_nm = get_all_rep_nm(sess, X_test, rep_ts)\n",
    "rep_cal_nm = get_all_rep_nm(sess, X_cal, rep_ts)"
   ]
  },
  {
   "cell_type": "markdown",
   "metadata": {},
   "source": [
    "Test accuracy of LSH on representation of cal set "
   ]
  },
  {
   "cell_type": "code",
   "execution_count": 68,
   "metadata": {},
   "outputs": [],
   "source": [
    "nn = []\n",
    "for l in range(len(rep_cal_nm)):\n",
    "    nnl = np.zeros((len(rep_cal_nm[0]), 75))\n",
    "    for i, x in enumerate(rep_cal_nm[l]):\n",
    "        nnl[i] = np.argsort(compute_cosine(rep_train_nm[l], x))[:75]\n",
    "    nn.append(nnl)"
   ]
  },
  {
   "cell_type": "code",
   "execution_count": 74,
   "metadata": {},
   "outputs": [
    {
     "name": "stdout",
     "output_type": "stream",
     "text": [
      "0\n",
      "0.5414222222222222\n",
      "29.703716783085838\n",
      "0.9038933333333333\n",
      "1\n",
      "0.4805333333333333\n",
      "10.252685402985662\n",
      "0.8605155555555556\n",
      "2\n",
      "0.8453155555555556\n",
      "3.362640169914812\n",
      "0.9736177777777778\n",
      "3\n",
      "0.9565688888888889\n",
      "1.0621919420082122\n",
      "0.9951288888888888\n"
     ]
    }
   ],
   "source": [
    "for l, rep in enumerate(rep_train_nm):\n",
    "    \n",
    "    print(l)\n",
    "    query = setup_lsh(rep, 50)\n",
    "    nn_lsh = np.zeros((len(rep_cal_nm[l]), 75))\n",
    "    \n",
    "    t1 = timeit.default_timer()\n",
    "    for i, x in enumerate(rep_cal_nm[l]):\n",
    "        nn_lsh[i] = query.find_k_nearest_neighbors(x, 75)\n",
    "    t2 = timeit.default_timer()\n",
    "    acc = np.mean(nn_lsh == nn[l])\n",
    "    print(acc)\n",
    "    print(t2 - t1)\n",
    "    cor = 0\n",
    "    for i in range(len(rep_cal_nm[l])):\n",
    "        for n in nn_lsh[i]:\n",
    "            if n in nn[l][i]:\n",
    "                cor += 1\n",
    "    print(cor / (len(rep_cal_nm[l])*75))"
   ]
  },
  {
   "cell_type": "code",
   "execution_count": 76,
   "metadata": {},
   "outputs": [
    {
     "name": "stdout",
     "output_type": "stream",
     "text": [
      "0\n",
      "0.7146488888888889\n",
      "52.47372901183553\n",
      "0.9571733333333333\n",
      "1\n",
      "0.6457777777777778\n",
      "19.432745156111196\n",
      "0.9277333333333333\n",
      "2\n",
      "0.9175644444444444\n",
      "5.8617943280842155\n",
      "0.9886222222222222\n",
      "3\n",
      "0.9655111111111111\n",
      "1.452528720954433\n",
      "0.9961066666666667\n"
     ]
    }
   ],
   "source": [
    "for l, rep in enumerate(rep_train_nm):\n",
    "    \n",
    "    print(l)\n",
    "    query = setup_lsh(rep, 100)\n",
    "    nn_lsh = np.zeros((len(rep_cal_nm[l]), 75))\n",
    "    \n",
    "    t1 = timeit.default_timer()\n",
    "    for i, x in enumerate(rep_cal_nm[l]):\n",
    "        nn_lsh[i] = query.find_k_nearest_neighbors(x, 75)\n",
    "    t2 = timeit.default_timer()\n",
    "    acc = np.mean(nn_lsh == nn[l])\n",
    "    print(acc)\n",
    "    print(t2 - t1)\n",
    "    cor = 0\n",
    "    for i in range(len(rep_cal_nm[l])):\n",
    "        for n in nn_lsh[i]:\n",
    "            if n in nn[l][i]:\n",
    "                cor += 1\n",
    "    print(cor / (len(rep_cal_nm[l])*75))"
   ]
  },
  {
   "cell_type": "code",
   "execution_count": 78,
   "metadata": {},
   "outputs": [
    {
     "name": "stdout",
     "output_type": "stream",
     "text": [
      "0\n",
      "0.81344\n",
      "51.455603271955624\n",
      "0.9736177777777778\n",
      "1\n",
      "0.7333866666666666\n",
      "18.230628283927217\n",
      "0.9495644444444444\n",
      "2\n",
      "0.9523911111111111\n",
      "5.156674404162914\n",
      "0.9939555555555556\n",
      "3\n",
      "0.9674311111111111\n",
      "1.8746885349974036\n",
      "0.9968\n"
     ]
    }
   ],
   "source": [
    "# l=100\n",
    "\n",
    "for l, rep in enumerate(rep_train_nm):\n",
    "    \n",
    "    print(l)\n",
    "    query = setup_lsh(rep, 100)\n",
    "    nn_lsh = np.zeros((len(rep_cal_nm[l]), 75))\n",
    "    \n",
    "    t1 = timeit.default_timer()\n",
    "    for i, x in enumerate(rep_cal_nm[l]):\n",
    "        nn_lsh[i] = query.find_k_nearest_neighbors(x, 75)\n",
    "    t2 = timeit.default_timer()\n",
    "    acc = np.mean(nn_lsh == nn[l])\n",
    "    print(acc)\n",
    "    print(t2 - t1)\n",
    "    cor = 0\n",
    "    for i in range(len(rep_cal_nm[l])):\n",
    "        for n in nn_lsh[i]:\n",
    "            if n in nn[l][i]:\n",
    "                cor += 1\n",
    "    print(cor / (len(rep_cal_nm[l])*75))"
   ]
  },
  {
   "cell_type": "markdown",
   "metadata": {},
   "source": [
    "Test accuracy of deep kNN"
   ]
  },
  {
   "cell_type": "code",
   "execution_count": 15,
   "metadata": {},
   "outputs": [],
   "source": [
    "query = []\n",
    "for rep in rep_train_nm:\n",
    "    query.append(setup_lsh(rep, 100))"
   ]
  },
  {
   "cell_type": "code",
   "execution_count": null,
   "metadata": {},
   "outputs": [],
   "source": [
    "# Compute multiset A from cal set\n",
    "A = []\n",
    "\n",
    "for l in range(4):\n",
    "    print(l)\n",
    "    nn = query_nn(query[l], rep_cal_nm[l], 75)\n",
    "    bincount = [np.bincount(y, minlength=10) for y in y_train[nn]]\n",
    "    A_l = []\n",
    "    for j, b in enumerate(bincount):\n",
    "        label = y_cal[j]\n",
    "        A_l.append(75 - b[label])\n",
    "    A.append(np.array(A_l))\n",
    "A = np.array(A)"
   ]
  },
  {
   "cell_type": "code",
   "execution_count": 90,
   "metadata": {},
   "outputs": [],
   "source": [
    "pickle.dump(A, open(\"A_cosine_lsh.p\", \"wb\"))"
   ]
  },
  {
   "cell_type": "code",
   "execution_count": 16,
   "metadata": {},
   "outputs": [],
   "source": [
    "A = pickle.load(open(\"A_cosine_lsh.p\", \"rb\"))"
   ]
  },
  {
   "cell_type": "code",
   "execution_count": null,
   "metadata": {},
   "outputs": [],
   "source": [
    "# alphas, sum_alphas = dknn_classify(A, rep_test_nm, query, y_train)\n",
    "alphas, sum_alphas = dknn_classify(rep_test_nm, query, y_train)"
   ]
  },
  {
   "cell_type": "code",
   "execution_count": 27,
   "metadata": {},
   "outputs": [],
   "source": [
    "A_sum = np.sum(A, axis=0)"
   ]
  },
  {
   "cell_type": "code",
   "execution_count": 31,
   "metadata": {
    "scrolled": true
   },
   "outputs": [
    {
     "data": {
      "text/plain": [
       "array([  0,   0,  10,   0,   0,   0,   0,   0,   0,   0,   0,   0,   1,\n",
       "         1,   0,   0,   0,   0,   0,   0,   0,   0,   0,   0,   1,   0,\n",
       "         0,   0,   1,   0,   0,   0,   0,   0,   0,   0,   3,  80,   2,\n",
       "         0,   0,   0,   2,   0,   0,   0,   0,   8,   0,   8,   2,   0,\n",
       "         0,   0,   0,   2,   0,   0,   0,   0,   0,   0,   3,  10,   0,\n",
       "         3,   0,   0,   0,   0,   8,   0,   0,   0,   0,   0,   0,   0,\n",
       "         0,   0,   0,   0,   0,   0,   0,   0,   0,   0,   0,   0,   0,\n",
       "         0,   0,   0,   2,   0,   0,   0,   0,   0,   0,   0,   0,   0,\n",
       "         0,   0,   0,   0,   0,   0,   0,   0,   0,   0,   0,   0,   0,\n",
       "         0,   0,   0,   0,   0,   0,   0,   0,   1,   0,   0,   0,   0,\n",
       "         0,   0, 207,   0,   0,   0,   0,   0,  25,   0,   0,   0,   0,\n",
       "         0,   0,   0,   0,   0,   0,   0,   0,   1,   0,   0,  84,   2,\n",
       "         0,   1,   6,  93,   0,   0,   0,   1,   0,  15,   0,   0,   1,\n",
       "         2,   1, 133,   0,   0,  10,  12,   0,  13,   0,   2,   2,  19,\n",
       "        21,   1,   0,   0,   1,   0,   0,   0, 271,  10,   5,   0,  13,\n",
       "        46,   0,   7, 101,   0,   0,  31,   1,   0,  10,   0,   0,   4,\n",
       "         0,  76,   0,   0,   0,   0,   0,   0,   0, 111,  11,   0,   0,\n",
       "         1,  15,  11,   3,   2,  10,   0,   1,   9,   0,  13,   1,   0,\n",
       "         0,   0,   1,  82,   0,  33,  86,   0,   8,  46,  24,   0,   2,\n",
       "        42,   0,   3,   3,   0,   1,  74,   0,   5,   1,   9,   3,   0,\n",
       "        69,   0,  12,   4,   0,   0,  77,   1,   0,   0,  12,  13,   0,\n",
       "         9, 119,   0,  73,  12,   5,  69,   0,   0,   2,   4,   0,  17,\n",
       "         1,   0,   0,  22,   4,  33,   0,   4,   2,   5,   2,   0,   9,\n",
       "         2,   0,  55,   4,  30,  42,   7,  19,   0,   0,   7,   4,   1,\n",
       "         8,   4,   0,   5,   0,  36,   1,   0,   0,  20,   0,  78,   0,\n",
       "         0,   0,   0,   0,  14,   0,   1,   0,   0,   2,   0,   3,  12,\n",
       "         3,   7,   1,   0,  92, 109,   2,   0,  33,   7,  11,   3,   1,\n",
       "         0,   3,  16,  52,  13,   5,   0,  14,   2,  28,  14,  44,  20,\n",
       "         0,   0,  30,   5,   1,   0,   0,   0,   0,   0,  80,   3,   0,\n",
       "         0,   0,   0,  19,  25,   0,  42,   0,   0,   2,  11,   0,   1,\n",
       "         4,   2,   3,  11,   1,   7,  26,  13,   7,   3,   1,   0,   0,\n",
       "        12,  15,  23,   1,   1,   0,  21,   0,  60,   0,  32,   0,   8,\n",
       "        13,   9,  12,  29,   0,   0,   0,  24,   0,   1,   1,  10,  11,\n",
       "         0,  34,   1,   0,   0,   2,   0,  25,  21,   0,   0,   0,   0,\n",
       "         6,  13,   5,   3,  44,   8,   0,  13,   0,   0,   0,   0,   0,\n",
       "         0,   0,   0,   0,  64,   4,   0,   0,   0,   0,   1,   0,   0,\n",
       "         0,   1,   0,  16,   0,   0,   9,   0,   1,   6,   0,   0,   0,\n",
       "         5,   0,   0,  30,   6,   1,   0,   1,   0,   0,   0,   0,   0,\n",
       "        61,   0,   0,   0,   0,   0,   0,   3,   1,  12,   0,   4,   0,\n",
       "         0,   2,   0,   0,   0,   0, 256,   0,   0,   0,   0,   0,   0,\n",
       "         0,   0,   1,   0,  16,   0,   0,   0,   1,   0,   0,   0,  39,\n",
       "         0,   0,   0,  14,   3,  29,   0,   0,  14,   0,  17,   3,   4,\n",
       "         0,   0,   0,   0,   0, 218,   0,   0,  32,   0,  16,   0, 121,\n",
       "         0,  38,   0,   0,  53,   1,   0,   0,   0,  31,   0,   0,   0,\n",
       "         0,   0,   0,   0,  86,  11,   0,   2,   0,   0,  21,   0,   0,\n",
       "         0,   1,   0,   0,   0,   2,   4,   9,   1,   0,   2,  24,   5,\n",
       "         0,   2,  18,   0,   0,   0,   2,   1,  14,   0,   0,   0,   0,\n",
       "        95,   2,   0,   0,   0,   0,   1,   0,   0,   7,   0,   4,  11,\n",
       "         1, 114,  34,   0,   0,  46,   4,   1,  43,   0,  38,   3,   1,\n",
       "         0,   0,   0,   2,  62,   2,  39,  87,   3,   1,  16,  38,  26,\n",
       "         6,   3,   1,   3,   9,   0,  50,   1,   2,   0,  63,   0,  49,\n",
       "         0,   0,   0,  93,   0, 138,  13,   3,   0,  63,  26,  29,   5,\n",
       "        52,   0,   0,  46,   4,  11,   7,   0,   1, 129,   2,   2,   0,\n",
       "         4,   1,   4,  18,   0,   1,   2,   1,  65,   1,   1,  16,  61,\n",
       "         0,  22,   2,  12,   2,   1,   1,   1,   0,   0,  28,   3,   5,\n",
       "        90,   0,   2,  71,   2,   0,   1,   0,  10,  11,   6,   0,   0,\n",
       "         1,   3,  47,   2,   9,   0,   0,   6, 173, 120,  19,  14,   0,\n",
       "         0,   1,   0,   0,   1,   9,   5,   1,  11])"
      ]
     },
     "execution_count": 31,
     "metadata": {},
     "output_type": "execute_result"
    }
   ],
   "source": [
    "A_sum"
   ]
  },
  {
   "cell_type": "code",
   "execution_count": 32,
   "metadata": {},
   "outputs": [],
   "source": [
    "p = np.zeros((len(X_test), 10))\n",
    "sum_A = np.sum(A, 0)\n",
    "\n",
    "for i, s in enumerate(sum_alphas):\n",
    "    p[i] = np.array([np.sum(ss <= sum_A) for ss in s]) / len(sum_A)"
   ]
  },
  {
   "cell_type": "code",
   "execution_count": 39,
   "metadata": {},
   "outputs": [
    {
     "data": {
      "text/plain": [
       "(array([ 832.,  744., 1039.,  799.,  777.,    0.,    0.,    0.,    0.,\n",
       "        5059.]),\n",
       " array([0.00533333, 0.1048    , 0.20426667, 0.30373333, 0.4032    ,\n",
       "        0.50266667, 0.60213333, 0.7016    , 0.80106667, 0.90053333,\n",
       "        1.        ]),\n",
       " <a list of 10 Patch objects>)"
      ]
     },
     "execution_count": 39,
     "metadata": {},
     "output_type": "execute_result"
    },
    {
     "data": {
      "image/png": "[encoded data removed]",
      "text/plain": [
       "<Figure size 432x288 with 1 Axes>"
      ]
     },
     "metadata": {
      "needs_background": "light"
     },
     "output_type": "display_data"
    }
   ],
   "source": [
    "plt.hist(np.max(p, 1))"
   ]
  },
  {
   "cell_type": "code",
   "execution_count": 37,
   "metadata": {},
   "outputs": [
    {
     "data": {
      "text/plain": [
       "array([0.        , 0.        , 0.47866667, 0.        , 0.        ,\n",
       "       0.        , 0.        , 0.        , 0.        , 0.        ])"
      ]
     },
     "execution_count": 37,
     "metadata": {},
     "output_type": "execute_result"
    }
   ],
   "source": [
    "p[1]"
   ]
  },
  {
   "cell_type": "code",
   "execution_count": 40,
   "metadata": {},
   "outputs": [
    {
     "data": {
      "text/plain": [
       "0.9883243243243244"
      ]
     },
     "execution_count": 40,
     "metadata": {},
     "output_type": "execute_result"
    }
   ],
   "source": [
    "np.mean(np.argmax(p, 1) == y_test)"
   ]
  },
  {
   "cell_type": "code",
   "execution_count": 41,
   "metadata": {},
   "outputs": [],
   "source": [
    "pickle.dump(alphas, open(\"alphas_test.p\", \"wb\"))"
   ]
  },
  {
   "cell_type": "markdown",
   "metadata": {},
   "source": [
    "---\n",
    "\n",
    "## 1. Attack Baseline (from paper)"
   ]
  },
  {
   "cell_type": "code",
   "execution_count": 17,
   "metadata": {},
   "outputs": [],
   "source": [
    "X_3 = X_train[y_train == 3]\n",
    "X_7 = X_train[y_train == 7]\n",
    "X_37 = X_train[(y_train == 3) | (y_train == 7)]\n",
    "y_37 = y_train[(y_train == 3) | (y_train == 7)]\n",
    "X_37_test = X_test[(y_test == 3) | (y_test == 7)]\n",
    "y_37_test = y_test[(y_test == 3) | (y_test == 7)]"
   ]
  },
  {
   "cell_type": "code",
   "execution_count": 18,
   "metadata": {},
   "outputs": [],
   "source": [
    "rep_37_test = [rep[(y_test == 3) | (y_test == 7)] for rep in rep_test_nm]"
   ]
  },
  {
   "cell_type": "code",
   "execution_count": 321,
   "metadata": {},
   "outputs": [],
   "source": [
    "class BaselineAttack(object):\n",
    "    \n",
    "    def __init__(self, sess, model, get_rep, X, X_rep, y_X, \n",
    "                 pert_norm=2, batch_size=1000, lr=1e-3, \n",
    "                 abort_early=True, init_const=1, min_dist=1,\n",
    "                 pert_bound=0.3):\n",
    "        \"\"\"\n",
    "        X_rep must be normalized\n",
    "        \"\"\"\n",
    "    \n",
    "        self.sess = sess\n",
    "        self.model = model\n",
    "        self.X = X\n",
    "        self.X_rep = X_rep\n",
    "        self.y_X = y_X\n",
    "        self.batch_size = batch_size\n",
    "        self.abort_early = abort_early\n",
    "        self.init_const = init_const\n",
    "        self.min_dist = min_dist\n",
    "        self.pert_norm = pert_norm\n",
    "        self.pert_bound = pert_bound\n",
    "        \n",
    "        input_ndim = X.ndim\n",
    "        input_axis = np.arange(1, input_ndim)\n",
    "        input_shape = (batch_size, ) + X.shape[1:]\n",
    "        rep_ndim = X_rep.ndim\n",
    "        rep_axis = np.arange(1, rep_ndim)\n",
    "        rep_shape = (batch_size, ) + X_rep.shape[1:]\n",
    "\n",
    "        # Objective variable\n",
    "        modifier = tf.Variable(np.zeros(input_shape), dtype=tf.float32)\n",
    "\n",
    "        # These are variables to be more efficient in sending data to tf\n",
    "        q_var = tf.Variable(np.zeros(input_shape), dtype=tf.float32, name='q_var')\n",
    "        target_var = tf.Variable(np.zeros(rep_shape), dtype=tf.float32, name='target_var')\n",
    "        const_var = tf.Variable(\n",
    "            np.zeros(batch_size), dtype=tf.float32, name='const_var')\n",
    "\n",
    "        # and here's what we use to assign them\n",
    "        self.assign_q = tf.placeholder(tf.float32, input_shape, name='assign_q')\n",
    "        self.assign_target = tf.placeholder(tf.float32, rep_shape, name='assign_target')\n",
    "        self.assign_const = tf.placeholder(\n",
    "            tf.float32, [batch_size], name='assign_const')\n",
    "\n",
    "        # Clip to ensure pixel value is between 0 and 1\n",
    "        self.new_q = tf.clip_by_value(q_var + modifier, 0., 1.)\n",
    "        # Get reprentation tensor\n",
    "        rep = get_rep(self.new_q)\n",
    "        rep = tf.reshape(rep, [batch_size, -1])\n",
    "        self.rep = rep / tf.norm(rep, axis=1, keepdims=True)\n",
    "\n",
    "        # L2 perturbation loss\n",
    "        l2dist = tf.reduce_sum(tf.square(modifier), input_axis)\n",
    "        self.l2dist = tf.maximum(0., l2dist - self.pert_bound**2)\n",
    "        # Similarity loss\n",
    "        dist_loss = tf.reduce_sum(tf.square(self.rep - target_var), rep_axis)\n",
    "        self.dist_loss = tf.maximum(0., dist_loss - self.min_dist**2)\n",
    "        \n",
    "        # Setup optimizer\n",
    "        start_vars = set(x.name for x in tf.global_variables())\n",
    "        if pert_norm == 2:\n",
    "            # For L-2 norm constraint, we use Adam optimizer with\n",
    "            # a penalty term\n",
    "            self.loss = tf.reduce_mean(const_var*self.dist_loss + self.l2dist)\n",
    "            optimizer = tf.train.AdamOptimizer(lr)\n",
    "            self.train_step = optimizer.minimize(self.loss, var_list=[modifier])\n",
    "        elif pert_norm == np.inf:\n",
    "            # For L-inf norm constraint, we use L-BFGS-B optimizer \n",
    "            # to provide correct bound, optimizer setup is moved to attack()\n",
    "            self.loss = tf.reduce_mean(self.dist_loss)\n",
    "            self.modifier = modifier\n",
    "        else:\n",
    "            raise ValueError('Invalid choice for perturbation norm!')\n",
    "            \n",
    "        end_vars = tf.global_variables()\n",
    "        new_vars = [x for x in end_vars if x.name not in start_vars]\n",
    "\n",
    "        self.setup = []\n",
    "        self.setup.append(q_var.assign(self.assign_q))\n",
    "        self.setup.append(target_var.assign(self.assign_target))\n",
    "        self.setup.append(const_var.assign(self.assign_const))\n",
    "        self.init = tf.variables_initializer(var_list=[modifier] + new_vars)\n",
    "        \n",
    "    def attack(self, Q, Q_rep, y_Q, bin_search_steps=5, max_iter=200):\n",
    "        r = []\n",
    "        for i in range(0, len(Q), self.batch_size):\n",
    "            print(\"Running Baseline Attack on instance {} of {}\".format(\n",
    "                i, len(Q)))\n",
    "            r.extend(self.attack_batch(Q[i:i + self.batch_size],\n",
    "                                       Q_rep[i:i + self.batch_size],\n",
    "                                       y_Q[i:i + self.batch_size],\n",
    "                                       bin_search_steps=bin_search_steps,\n",
    "                                       max_iter=max_iter))\n",
    "        return np.array(r)\n",
    "\n",
    "        \n",
    "    def attack_batch(self, Q, Q_rep, y_Q, bin_search_steps=5, max_iter=200):   \n",
    "        \n",
    "        # Find closest rep of different class\n",
    "        print(\"  Finding nn representation as target...\")\n",
    "        nn = find_nn_diff_class(Q_rep, y_Q, self.X_rep, self.y_X, 1)\n",
    "        target_rep = np.squeeze(self.X_rep[nn])\n",
    "        # Find nn to target rep to save nn search time during optimization\n",
    "        # check_rep = find_nn(target_rep, self.X_rep, 100)\n",
    "        \n",
    "        # ============ Optimizing with L-inf norm constraints =========== #\n",
    "        # L-BFGS-B optimizer only needs to be called once\n",
    "        if self.pert_norm == np.inf:\n",
    "            self.sess.run(self.init)\n",
    "            Q_batch = Q[:self.batch_size]\n",
    "            target_rep_batch = target_rep[:self.batch_size]\n",
    "            const = np.ones(self.batch_size) * self.init_const\n",
    "            \n",
    "            # Set the variables so that we don't have to send them over again\n",
    "            self.sess.run(\n",
    "                self.setup, {\n",
    "                    self.assign_q: Q_batch,\n",
    "                    self.assign_target: target_rep_batch,\n",
    "                    self.assign_const: const\n",
    "                })\n",
    "            \n",
    "            # Set up variables bound and optimizer\n",
    "            upper_bound = np.minimum(self.pert_bound, 1 - Q_batch)\n",
    "            lower_bound = np.maximum(-self.pert_bound, -Q_batch)\n",
    "            var_to_bounds = {self.modifier: (lower_bound, upper_bound)}\n",
    "            optimizer = tf.contrib.opt.ScipyOptimizerInterface(\n",
    "                self.loss, \n",
    "                var_list=[self.modifier], \n",
    "                var_to_bounds=var_to_bounds, \n",
    "                method='L-BFGS-B')\n",
    "            \n",
    "            # Call optimizer\n",
    "            optimizer.minimize(self.sess)\n",
    "            return self.sess.run(self.new_q)\n",
    "            \n",
    "        # ============= Optimizing with L2 norm constraints ============ #\n",
    "        o_bestl2 = [1e9] * self.batch_size\n",
    "        o_bestadv = np.zeros_like(Q[:self.batch_size])\n",
    "        \n",
    "        # Set the lower and upper bounds\n",
    "        lower_bound = np.zeros(self.batch_size)\n",
    "        const = np.ones(self.batch_size) * self.init_const\n",
    "        upper_bound = np.ones(self.batch_size) * 1e9\n",
    "       \n",
    "        for outer_step in range(bin_search_steps):\n",
    "\n",
    "            self.sess.run(self.init)\n",
    "            Q_batch = Q[:self.batch_size]\n",
    "            target_rep_batch = target_rep[:self.batch_size]\n",
    "            \n",
    "            bestl2 = [1e9] * self.batch_size\n",
    "            bestadv = np.zeros_like(Q_batch)\n",
    "            print(\"  Binary search step {} of {}\".format(\n",
    "                outer_step, bin_search_steps))\n",
    "\n",
    "            # Set the variables so that we don't have to send them over again\n",
    "            self.sess.run(\n",
    "                self.setup, {\n",
    "                    self.assign_q: Q_batch,\n",
    "                    self.assign_target: target_rep_batch,\n",
    "                    self.assign_const: const\n",
    "                })\n",
    "\n",
    "            prev = 1e6\n",
    "            for iteration in range(max_iter):\n",
    "                # Take one step in optimization\n",
    "                _, l, l2s, dls, reps, qs = self.sess.run([self.train_step, \n",
    "                                                          self.loss, \n",
    "                                                          self.l2dist,\n",
    "                                                          self.dist_loss,\n",
    "                                                          self.rep, \n",
    "                                                          self.new_q])\n",
    "                \n",
    "                if iteration % ((max_iter // 10) or 1) == 0:\n",
    "                    print((\"    Iteration {} of {}: loss={:.3g} l2={:.3g}\").format(\n",
    "                        iteration, max_iter, l, np.mean(l2s)))\n",
    "                \n",
    "                # Abort early if stop improving\n",
    "                if self.abort_early and iteration % ((max_iter // 10) or 1) == 0:\n",
    "                    if l > prev * .9999:\n",
    "                        print(\"    Failed to make progress; stop early\")\n",
    "                        break\n",
    "                    prev = l\n",
    "                \n",
    "                # Check termination condition\n",
    "                suc_ind = np.where(dls <= 1e-1)[0]\n",
    "                for ind in suc_ind:\n",
    "                    if l2s[ind] < bestl2[ind]:\n",
    "                        bestl2[ind] = l2s[ind]\n",
    "                        bestadv[ind] = qs[ind]\n",
    "\n",
    "                        \n",
    "            # Adjust const according to results\n",
    "            for e in range(self.batch_size):\n",
    "                if bestl2[e] < 1e9:\n",
    "                    # Success, divide const by two\n",
    "                    upper_bound[e] = min(upper_bound[e], const[e])\n",
    "                    if upper_bound[e] < 1e9:\n",
    "                        const[e] = (lower_bound[e] + upper_bound[e]) / 2\n",
    "                    if bestl2[e] < o_bestl2[e]:\n",
    "                        o_bestl2[e] = bestl2[e]\n",
    "                        o_bestadv[e] = bestadv[e]\n",
    "                else:\n",
    "                    # Failure, either multiply by 10 if no solution found yet\n",
    "                    #          or do binary search with the known upper bound\n",
    "                    lower_bound[e] = max(lower_bound[e], const[e])\n",
    "                    if upper_bound[e] < 1e9:\n",
    "                        const[e] = (lower_bound[e] + upper_bound[e]) / 2\n",
    "                    else:\n",
    "                        const[e] *= 10\n",
    "                        \n",
    "        return o_bestadv"
   ]
  },
  {
   "cell_type": "code",
   "execution_count": 364,
   "metadata": {},
   "outputs": [],
   "source": [
    "baseline = BaselineAttack(sess, model, l1_rep, \n",
    "                          X_train, rep_train_nm[0], y_train, \n",
    "                          pert_norm=np.inf,\n",
    "                          batch_size=5, \n",
    "                          min_dist=0.1,\n",
    "                          pert_bound=0.3)"
   ]
  },
  {
   "cell_type": "code",
   "execution_count": 365,
   "metadata": {},
   "outputs": [
    {
     "name": "stdout",
     "output_type": "stream",
     "text": [
      "Running Baseline Attack on instance 0 of 5\n",
      "  Finding nn representation as target...\n",
      "INFO:tensorflow:Optimization terminated with:\n",
      "  Message: b'CONVERGENCE: NORM_OF_PROJECTED_GRADIENT_<=_PGTOL'\n",
      "  Objective function value: 0.169774\n",
      "  Number of iterations: 56\n",
      "  Number of functions evaluations: 57\n"
     ]
    }
   ],
   "source": [
    "X_adv = baseline.attack(X_37_test[:5], rep_37_test[0][:5], y_37_test[:5])"
   ]
  },
  {
   "cell_type": "code",
   "execution_count": 322,
   "metadata": {},
   "outputs": [],
   "source": [
    "baseline = BaselineAttack(sess, model, l1_rep, \n",
    "                          X_train, rep_train_nm[0], y_train, \n",
    "                          pert_norm=2,\n",
    "                          batch_size=5, \n",
    "                          lr=1e-2, \n",
    "                          abort_early=True,\n",
    "                          init_const=1, \n",
    "                          min_dist=0.1,\n",
    "                          pert_bound=0)"
   ]
  },
  {
   "cell_type": "code",
   "execution_count": 323,
   "metadata": {
    "scrolled": true
   },
   "outputs": [
    {
     "name": "stdout",
     "output_type": "stream",
     "text": [
      "Running Baseline Attack on instance 0 of 5\n",
      "  Finding nn representation as target...\n",
      "  Binary search step 0 of 5\n",
      "    Iteration 0 of 500: loss=0.625 l2=0\n",
      "    Iteration 50 of 500: loss=0.616 l2=0.00928\n",
      "    Iteration 100 of 500: loss=0.616 l2=0.0093\n",
      "    Failed to make progress; stop early\n",
      "  Binary search step 1 of 5\n",
      "    Iteration 0 of 500: loss=6.25 l2=0\n",
      "    Iteration 50 of 500: loss=5.43 l2=0.747\n",
      "    Iteration 100 of 500: loss=5.43 l2=0.754\n",
      "    Iteration 150 of 500: loss=5.43 l2=0.754\n",
      "    Failed to make progress; stop early\n",
      "  Binary search step 2 of 5\n",
      "    Iteration 0 of 500: loss=62.5 l2=0\n",
      "    Iteration 50 of 500: loss=24.1 l2=12.6\n",
      "    Iteration 100 of 500: loss=22 l2=15.2\n",
      "    Iteration 150 of 500: loss=22 l2=15.2\n",
      "    Iteration 200 of 500: loss=22 l2=15.2\n",
      "    Failed to make progress; stop early\n",
      "  Binary search step 3 of 5\n",
      "    Iteration 0 of 500: loss=270 l2=0\n",
      "    Iteration 50 of 500: loss=70.4 l2=14.1\n",
      "    Iteration 100 of 500: loss=28.2 l2=20.8\n",
      "    Iteration 150 of 500: loss=24.1 l2=20.8\n",
      "    Iteration 200 of 500: loss=23.8 l2=20.5\n",
      "    Iteration 250 of 500: loss=23.7 l2=20.4\n",
      "    Iteration 300 of 500: loss=23.7 l2=20.4\n",
      "    Iteration 350 of 500: loss=23.7 l2=20.4\n",
      "    Iteration 400 of 500: loss=23.7 l2=20.3\n",
      "    Iteration 450 of 500: loss=23.7 l2=20.3\n",
      "    Failed to make progress; stop early\n",
      "  Binary search step 4 of 5\n",
      "    Iteration 0 of 500: loss=155 l2=0\n",
      "    Iteration 50 of 500: loss=45.3 l2=12.8\n",
      "    Iteration 100 of 500: loss=25.1 l2=18.4\n",
      "    Iteration 150 of 500: loss=23.1 l2=19.2\n",
      "    Iteration 200 of 500: loss=22.9 l2=19.1\n",
      "    Iteration 250 of 500: loss=22.9 l2=19.1\n",
      "    Iteration 300 of 500: loss=22.9 l2=19.1\n",
      "    Iteration 350 of 500: loss=22.9 l2=19.1\n",
      "    Failed to make progress; stop early\n"
     ]
    }
   ],
   "source": [
    "X_adv = baseline.attack(X_37_test[:5], rep_37_test[0][:5], y_37_test[:5],\n",
    "                        bin_search_steps=5, max_iter=500)"
   ]
  },
  {
   "cell_type": "code",
   "execution_count": 366,
   "metadata": {},
   "outputs": [
    {
     "data": {
      "text/plain": [
       "<matplotlib.image.AxesImage at 0x7f9b6a03a9b0>"
      ]
     },
     "execution_count": 366,
     "metadata": {},
     "output_type": "execute_result"
    },
    {
     "data": {
      "image/png": "[encoded data removed]",
      "text/plain": [
       "<Figure size 432x288 with 1 Axes>"
      ]
     },
     "metadata": {
      "needs_background": "light"
     },
     "output_type": "display_data"
    }
   ],
   "source": [
    "plt.imshow(X_adv[0,:,:,0], cmap='gray')"
   ]
  },
  {
   "cell_type": "code",
   "execution_count": 367,
   "metadata": {},
   "outputs": [
    {
     "data": {
      "text/plain": [
       "<matplotlib.image.AxesImage at 0x7f9b6a1a0908>"
      ]
     },
     "execution_count": 367,
     "metadata": {},
     "output_type": "execute_result"
    },
    {
     "data": {
      "image/png": "[encoded data removed]",
      "text/plain": [
       "<Figure size 432x288 with 1 Axes>"
      ]
     },
     "metadata": {
      "needs_background": "light"
     },
     "output_type": "display_data"
    }
   ],
   "source": [
    "plt.imshow(X_37_test[0,:,:,0], cmap='gray')"
   ]
  },
  {
   "cell_type": "code",
   "execution_count": 368,
   "metadata": {},
   "outputs": [],
   "source": [
    "p, acc = dknn_acc(A, get_all_rep_nm(X_adv), y_37_test[:5], query, y_train)"
   ]
  },
  {
   "cell_type": "code",
   "execution_count": 369,
   "metadata": {},
   "outputs": [
    {
     "data": {
      "text/plain": [
       "0.8"
      ]
     },
     "execution_count": 369,
     "metadata": {},
     "output_type": "execute_result"
    }
   ],
   "source": [
    "acc"
   ]
  },
  {
   "cell_type": "code",
   "execution_count": 370,
   "metadata": {},
   "outputs": [
    {
     "data": {
      "text/plain": [
       "array([7, 7, 5, 7, 3])"
      ]
     },
     "execution_count": 370,
     "metadata": {},
     "output_type": "execute_result"
    }
   ],
   "source": [
    "np.argmax(p, 1)"
   ]
  },
  {
   "cell_type": "code",
   "execution_count": 371,
   "metadata": {},
   "outputs": [
    {
     "data": {
      "text/plain": [
       "array([3.56837978, 3.73891273, 3.92854395, 3.50711337, 3.50198879])"
      ]
     },
     "execution_count": 371,
     "metadata": {},
     "output_type": "execute_result"
    }
   ],
   "source": [
    "np.sqrt(np.sum((X_adv - X_37_test[:5])**2, (1,2,3)))"
   ]
  },
  {
   "cell_type": "code",
   "execution_count": 330,
   "metadata": {},
   "outputs": [
    {
     "data": {
      "text/plain": [
       "array([1., 1., 1., 1., 1.])"
      ]
     },
     "execution_count": 330,
     "metadata": {},
     "output_type": "execute_result"
    }
   ],
   "source": [
    "np.sqrt(np.sum(get_all_rep_nm(X_adv)[0]**2, 1))"
   ]
  },
  {
   "cell_type": "code",
   "execution_count": 338,
   "metadata": {},
   "outputs": [],
   "source": [
    "baseline = BaselineAttack(sess, model, l1_rep, \n",
    "                          X_train, rep_train_nm[0], y_train, \n",
    "                          pert_norm=np.inf,\n",
    "                          batch_size=32,\n",
    "                          min_dist=0.1,\n",
    "                          pert_bound=0.3)"
   ]
  },
  {
   "cell_type": "code",
   "execution_count": 339,
   "metadata": {
    "scrolled": true
   },
   "outputs": [
    {
     "name": "stdout",
     "output_type": "stream",
     "text": [
      "Running Baseline Attack on instance 0 of 1888\n",
      "  Finding nn representation as target...\n",
      "INFO:tensorflow:Optimization terminated with:\n",
      "  Message: b'CONVERGENCE: NORM_OF_PROJECTED_GRADIENT_<=_PGTOL'\n",
      "  Objective function value: 0.176595\n",
      "  Number of iterations: 48\n",
      "  Number of functions evaluations: 49\n",
      "Running Baseline Attack on instance 32 of 1888\n",
      "  Finding nn representation as target...\n",
      "INFO:tensorflow:Optimization terminated with:\n",
      "  Message: b'CONVERGENCE: NORM_OF_PROJECTED_GRADIENT_<=_PGTOL'\n",
      "  Objective function value: 0.149688\n",
      "  Number of iterations: 44\n",
      "  Number of functions evaluations: 45\n",
      "Running Baseline Attack on instance 64 of 1888\n",
      "  Finding nn representation as target...\n",
      "INFO:tensorflow:Optimization terminated with:\n",
      "  Message: b'CONVERGENCE: NORM_OF_PROJECTED_GRADIENT_<=_PGTOL'\n",
      "  Objective function value: 0.147744\n",
      "  Number of iterations: 44\n",
      "  Number of functions evaluations: 45\n",
      "Running Baseline Attack on instance 96 of 1888\n",
      "  Finding nn representation as target...\n",
      "INFO:tensorflow:Optimization terminated with:\n",
      "  Message: b'CONVERGENCE: NORM_OF_PROJECTED_GRADIENT_<=_PGTOL'\n",
      "  Objective function value: 0.168224\n",
      "  Number of iterations: 55\n",
      "  Number of functions evaluations: 56\n",
      "Running Baseline Attack on instance 128 of 1888\n",
      "  Finding nn representation as target...\n",
      "INFO:tensorflow:Optimization terminated with:\n",
      "  Message: b'CONVERGENCE: NORM_OF_PROJECTED_GRADIENT_<=_PGTOL'\n",
      "  Objective function value: 0.157305\n",
      "  Number of iterations: 57\n",
      "  Number of functions evaluations: 58\n",
      "Running Baseline Attack on instance 160 of 1888\n",
      "  Finding nn representation as target...\n",
      "INFO:tensorflow:Optimization terminated with:\n",
      "  Message: b'CONVERGENCE: NORM_OF_PROJECTED_GRADIENT_<=_PGTOL'\n",
      "  Objective function value: 0.143879\n",
      "  Number of iterations: 37\n",
      "  Number of functions evaluations: 38\n",
      "Running Baseline Attack on instance 192 of 1888\n",
      "  Finding nn representation as target...\n",
      "INFO:tensorflow:Optimization terminated with:\n",
      "  Message: b'CONVERGENCE: NORM_OF_PROJECTED_GRADIENT_<=_PGTOL'\n",
      "  Objective function value: 0.153194\n",
      "  Number of iterations: 66\n",
      "  Number of functions evaluations: 67\n",
      "Running Baseline Attack on instance 224 of 1888\n",
      "  Finding nn representation as target...\n",
      "INFO:tensorflow:Optimization terminated with:\n",
      "  Message: b'CONVERGENCE: NORM_OF_PROJECTED_GRADIENT_<=_PGTOL'\n",
      "  Objective function value: 0.152457\n",
      "  Number of iterations: 46\n",
      "  Number of functions evaluations: 47\n",
      "Running Baseline Attack on instance 256 of 1888\n",
      "  Finding nn representation as target...\n",
      "INFO:tensorflow:Optimization terminated with:\n",
      "  Message: b'CONVERGENCE: NORM_OF_PROJECTED_GRADIENT_<=_PGTOL'\n",
      "  Objective function value: 0.135973\n",
      "  Number of iterations: 43\n",
      "  Number of functions evaluations: 44\n",
      "Running Baseline Attack on instance 288 of 1888\n",
      "  Finding nn representation as target...\n",
      "INFO:tensorflow:Optimization terminated with:\n",
      "  Message: b'CONVERGENCE: NORM_OF_PROJECTED_GRADIENT_<=_PGTOL'\n",
      "  Objective function value: 0.140412\n",
      "  Number of iterations: 38\n",
      "  Number of functions evaluations: 39\n",
      "Running Baseline Attack on instance 320 of 1888\n",
      "  Finding nn representation as target...\n",
      "INFO:tensorflow:Optimization terminated with:\n",
      "  Message: b'CONVERGENCE: NORM_OF_PROJECTED_GRADIENT_<=_PGTOL'\n",
      "  Objective function value: 0.156321\n",
      "  Number of iterations: 57\n",
      "  Number of functions evaluations: 58\n",
      "Running Baseline Attack on instance 352 of 1888\n",
      "  Finding nn representation as target...\n",
      "INFO:tensorflow:Optimization terminated with:\n",
      "  Message: b'CONVERGENCE: NORM_OF_PROJECTED_GRADIENT_<=_PGTOL'\n",
      "  Objective function value: 0.161749\n",
      "  Number of iterations: 45\n",
      "  Number of functions evaluations: 46\n",
      "Running Baseline Attack on instance 384 of 1888\n",
      "  Finding nn representation as target...\n",
      "INFO:tensorflow:Optimization terminated with:\n",
      "  Message: b'CONVERGENCE: NORM_OF_PROJECTED_GRADIENT_<=_PGTOL'\n",
      "  Objective function value: 0.159886\n",
      "  Number of iterations: 44\n",
      "  Number of functions evaluations: 45\n",
      "Running Baseline Attack on instance 416 of 1888\n",
      "  Finding nn representation as target...\n",
      "INFO:tensorflow:Optimization terminated with:\n",
      "  Message: b'CONVERGENCE: NORM_OF_PROJECTED_GRADIENT_<=_PGTOL'\n",
      "  Objective function value: 0.147712\n",
      "  Number of iterations: 41\n",
      "  Number of functions evaluations: 42\n",
      "Running Baseline Attack on instance 448 of 1888\n",
      "  Finding nn representation as target...\n",
      "INFO:tensorflow:Optimization terminated with:\n",
      "  Message: b'CONVERGENCE: NORM_OF_PROJECTED_GRADIENT_<=_PGTOL'\n",
      "  Objective function value: 0.149143\n",
      "  Number of iterations: 49\n",
      "  Number of functions evaluations: 50\n",
      "Running Baseline Attack on instance 480 of 1888\n",
      "  Finding nn representation as target...\n",
      "INFO:tensorflow:Optimization terminated with:\n",
      "  Message: b'CONVERGENCE: NORM_OF_PROJECTED_GRADIENT_<=_PGTOL'\n",
      "  Objective function value: 0.163736\n",
      "  Number of iterations: 44\n",
      "  Number of functions evaluations: 45\n",
      "Running Baseline Attack on instance 512 of 1888\n",
      "  Finding nn representation as target...\n",
      "INFO:tensorflow:Optimization terminated with:\n",
      "  Message: b'CONVERGENCE: NORM_OF_PROJECTED_GRADIENT_<=_PGTOL'\n",
      "  Objective function value: 0.163350\n",
      "  Number of iterations: 54\n",
      "  Number of functions evaluations: 55\n",
      "Running Baseline Attack on instance 544 of 1888\n",
      "  Finding nn representation as target...\n",
      "INFO:tensorflow:Optimization terminated with:\n",
      "  Message: b'CONVERGENCE: NORM_OF_PROJECTED_GRADIENT_<=_PGTOL'\n",
      "  Objective function value: 0.153746\n",
      "  Number of iterations: 36\n",
      "  Number of functions evaluations: 37\n",
      "Running Baseline Attack on instance 576 of 1888\n",
      "  Finding nn representation as target...\n",
      "INFO:tensorflow:Optimization terminated with:\n",
      "  Message: b'CONVERGENCE: NORM_OF_PROJECTED_GRADIENT_<=_PGTOL'\n",
      "  Objective function value: 0.152573\n",
      "  Number of iterations: 56\n",
      "  Number of functions evaluations: 57\n",
      "Running Baseline Attack on instance 608 of 1888\n",
      "  Finding nn representation as target...\n",
      "INFO:tensorflow:Optimization terminated with:\n",
      "  Message: b'CONVERGENCE: NORM_OF_PROJECTED_GRADIENT_<=_PGTOL'\n",
      "  Objective function value: 0.168292\n",
      "  Number of iterations: 63\n",
      "  Number of functions evaluations: 64\n",
      "Running Baseline Attack on instance 640 of 1888\n",
      "  Finding nn representation as target...\n",
      "INFO:tensorflow:Optimization terminated with:\n",
      "  Message: b'CONVERGENCE: NORM_OF_PROJECTED_GRADIENT_<=_PGTOL'\n",
      "  Objective function value: 0.143227\n",
      "  Number of iterations: 37\n",
      "  Number of functions evaluations: 38\n",
      "Running Baseline Attack on instance 672 of 1888\n",
      "  Finding nn representation as target...\n",
      "INFO:tensorflow:Optimization terminated with:\n",
      "  Message: b'CONVERGENCE: NORM_OF_PROJECTED_GRADIENT_<=_PGTOL'\n",
      "  Objective function value: 0.178077\n",
      "  Number of iterations: 44\n",
      "  Number of functions evaluations: 45\n",
      "Running Baseline Attack on instance 704 of 1888\n",
      "  Finding nn representation as target...\n",
      "INFO:tensorflow:Optimization terminated with:\n",
      "  Message: b'CONVERGENCE: NORM_OF_PROJECTED_GRADIENT_<=_PGTOL'\n",
      "  Objective function value: 0.155946\n",
      "  Number of iterations: 49\n",
      "  Number of functions evaluations: 50\n",
      "Running Baseline Attack on instance 736 of 1888\n",
      "  Finding nn representation as target...\n",
      "INFO:tensorflow:Optimization terminated with:\n",
      "  Message: b'CONVERGENCE: NORM_OF_PROJECTED_GRADIENT_<=_PGTOL'\n",
      "  Objective function value: 0.155648\n",
      "  Number of iterations: 40\n",
      "  Number of functions evaluations: 41\n",
      "Running Baseline Attack on instance 768 of 1888\n",
      "  Finding nn representation as target...\n",
      "INFO:tensorflow:Optimization terminated with:\n",
      "  Message: b'CONVERGENCE: NORM_OF_PROJECTED_GRADIENT_<=_PGTOL'\n",
      "  Objective function value: 0.158288\n",
      "  Number of iterations: 47\n",
      "  Number of functions evaluations: 48\n",
      "Running Baseline Attack on instance 800 of 1888\n",
      "  Finding nn representation as target...\n",
      "INFO:tensorflow:Optimization terminated with:\n",
      "  Message: b'CONVERGENCE: NORM_OF_PROJECTED_GRADIENT_<=_PGTOL'\n",
      "  Objective function value: 0.173412\n",
      "  Number of iterations: 46\n",
      "  Number of functions evaluations: 47\n",
      "Running Baseline Attack on instance 832 of 1888\n",
      "  Finding nn representation as target...\n",
      "INFO:tensorflow:Optimization terminated with:\n",
      "  Message: b'CONVERGENCE: NORM_OF_PROJECTED_GRADIENT_<=_PGTOL'\n",
      "  Objective function value: 0.168301\n",
      "  Number of iterations: 46\n",
      "  Number of functions evaluations: 47\n",
      "Running Baseline Attack on instance 864 of 1888\n",
      "  Finding nn representation as target...\n",
      "INFO:tensorflow:Optimization terminated with:\n",
      "  Message: b'CONVERGENCE: NORM_OF_PROJECTED_GRADIENT_<=_PGTOL'\n",
      "  Objective function value: 0.162482\n",
      "  Number of iterations: 44\n",
      "  Number of functions evaluations: 45\n"
     ]
    },
    {
     "name": "stdout",
     "output_type": "stream",
     "text": [
      "Running Baseline Attack on instance 896 of 1888\n",
      "  Finding nn representation as target...\n",
      "INFO:tensorflow:Optimization terminated with:\n",
      "  Message: b'CONVERGENCE: NORM_OF_PROJECTED_GRADIENT_<=_PGTOL'\n",
      "  Objective function value: 0.168110\n",
      "  Number of iterations: 49\n",
      "  Number of functions evaluations: 50\n",
      "Running Baseline Attack on instance 928 of 1888\n",
      "  Finding nn representation as target...\n",
      "INFO:tensorflow:Optimization terminated with:\n",
      "  Message: b'CONVERGENCE: NORM_OF_PROJECTED_GRADIENT_<=_PGTOL'\n",
      "  Objective function value: 0.148064\n",
      "  Number of iterations: 50\n",
      "  Number of functions evaluations: 51\n",
      "Running Baseline Attack on instance 960 of 1888\n",
      "  Finding nn representation as target...\n",
      "INFO:tensorflow:Optimization terminated with:\n",
      "  Message: b'CONVERGENCE: NORM_OF_PROJECTED_GRADIENT_<=_PGTOL'\n",
      "  Objective function value: 0.150963\n",
      "  Number of iterations: 43\n",
      "  Number of functions evaluations: 44\n",
      "Running Baseline Attack on instance 992 of 1888\n",
      "  Finding nn representation as target...\n",
      "INFO:tensorflow:Optimization terminated with:\n",
      "  Message: b'CONVERGENCE: NORM_OF_PROJECTED_GRADIENT_<=_PGTOL'\n",
      "  Objective function value: 0.137520\n",
      "  Number of iterations: 48\n",
      "  Number of functions evaluations: 49\n",
      "Running Baseline Attack on instance 1024 of 1888\n",
      "  Finding nn representation as target...\n",
      "INFO:tensorflow:Optimization terminated with:\n",
      "  Message: b'CONVERGENCE: NORM_OF_PROJECTED_GRADIENT_<=_PGTOL'\n",
      "  Objective function value: 0.130621\n",
      "  Number of iterations: 34\n",
      "  Number of functions evaluations: 35\n",
      "Running Baseline Attack on instance 1056 of 1888\n",
      "  Finding nn representation as target...\n",
      "INFO:tensorflow:Optimization terminated with:\n",
      "  Message: b'CONVERGENCE: NORM_OF_PROJECTED_GRADIENT_<=_PGTOL'\n",
      "  Objective function value: 0.162135\n",
      "  Number of iterations: 37\n",
      "  Number of functions evaluations: 38\n",
      "Running Baseline Attack on instance 1088 of 1888\n",
      "  Finding nn representation as target...\n",
      "INFO:tensorflow:Optimization terminated with:\n",
      "  Message: b'CONVERGENCE: NORM_OF_PROJECTED_GRADIENT_<=_PGTOL'\n",
      "  Objective function value: 0.162441\n",
      "  Number of iterations: 50\n",
      "  Number of functions evaluations: 51\n",
      "Running Baseline Attack on instance 1120 of 1888\n",
      "  Finding nn representation as target...\n",
      "INFO:tensorflow:Optimization terminated with:\n",
      "  Message: b'CONVERGENCE: NORM_OF_PROJECTED_GRADIENT_<=_PGTOL'\n",
      "  Objective function value: 0.176906\n",
      "  Number of iterations: 29\n",
      "  Number of functions evaluations: 30\n",
      "Running Baseline Attack on instance 1152 of 1888\n",
      "  Finding nn representation as target...\n",
      "INFO:tensorflow:Optimization terminated with:\n",
      "  Message: b'CONVERGENCE: NORM_OF_PROJECTED_GRADIENT_<=_PGTOL'\n",
      "  Objective function value: 0.160168\n",
      "  Number of iterations: 40\n",
      "  Number of functions evaluations: 41\n",
      "Running Baseline Attack on instance 1184 of 1888\n",
      "  Finding nn representation as target...\n",
      "INFO:tensorflow:Optimization terminated with:\n",
      "  Message: b'CONVERGENCE: NORM_OF_PROJECTED_GRADIENT_<=_PGTOL'\n",
      "  Objective function value: 0.140179\n",
      "  Number of iterations: 56\n",
      "  Number of functions evaluations: 57\n",
      "Running Baseline Attack on instance 1216 of 1888\n",
      "  Finding nn representation as target...\n",
      "INFO:tensorflow:Optimization terminated with:\n",
      "  Message: b'CONVERGENCE: NORM_OF_PROJECTED_GRADIENT_<=_PGTOL'\n",
      "  Objective function value: 0.141432\n",
      "  Number of iterations: 66\n",
      "  Number of functions evaluations: 67\n",
      "Running Baseline Attack on instance 1248 of 1888\n",
      "  Finding nn representation as target...\n",
      "INFO:tensorflow:Optimization terminated with:\n",
      "  Message: b'CONVERGENCE: NORM_OF_PROJECTED_GRADIENT_<=_PGTOL'\n",
      "  Objective function value: 0.154038\n",
      "  Number of iterations: 34\n",
      "  Number of functions evaluations: 35\n",
      "Running Baseline Attack on instance 1280 of 1888\n",
      "  Finding nn representation as target...\n",
      "INFO:tensorflow:Optimization terminated with:\n",
      "  Message: b'CONVERGENCE: NORM_OF_PROJECTED_GRADIENT_<=_PGTOL'\n",
      "  Objective function value: 0.155873\n",
      "  Number of iterations: 58\n",
      "  Number of functions evaluations: 59\n",
      "Running Baseline Attack on instance 1312 of 1888\n",
      "  Finding nn representation as target...\n",
      "INFO:tensorflow:Optimization terminated with:\n",
      "  Message: b'CONVERGENCE: NORM_OF_PROJECTED_GRADIENT_<=_PGTOL'\n",
      "  Objective function value: 0.143053\n",
      "  Number of iterations: 51\n",
      "  Number of functions evaluations: 52\n",
      "Running Baseline Attack on instance 1344 of 1888\n",
      "  Finding nn representation as target...\n",
      "INFO:tensorflow:Optimization terminated with:\n",
      "  Message: b'CONVERGENCE: NORM_OF_PROJECTED_GRADIENT_<=_PGTOL'\n",
      "  Objective function value: 0.119295\n",
      "  Number of iterations: 39\n",
      "  Number of functions evaluations: 40\n",
      "Running Baseline Attack on instance 1376 of 1888\n",
      "  Finding nn representation as target...\n",
      "INFO:tensorflow:Optimization terminated with:\n",
      "  Message: b'CONVERGENCE: NORM_OF_PROJECTED_GRADIENT_<=_PGTOL'\n",
      "  Objective function value: 0.134122\n",
      "  Number of iterations: 38\n",
      "  Number of functions evaluations: 39\n",
      "Running Baseline Attack on instance 1408 of 1888\n",
      "  Finding nn representation as target...\n",
      "INFO:tensorflow:Optimization terminated with:\n",
      "  Message: b'CONVERGENCE: NORM_OF_PROJECTED_GRADIENT_<=_PGTOL'\n",
      "  Objective function value: 0.154006\n",
      "  Number of iterations: 36\n",
      "  Number of functions evaluations: 37\n",
      "Running Baseline Attack on instance 1440 of 1888\n",
      "  Finding nn representation as target...\n",
      "INFO:tensorflow:Optimization terminated with:\n",
      "  Message: b'CONVERGENCE: NORM_OF_PROJECTED_GRADIENT_<=_PGTOL'\n",
      "  Objective function value: 0.179955\n",
      "  Number of iterations: 34\n",
      "  Number of functions evaluations: 35\n",
      "Running Baseline Attack on instance 1472 of 1888\n",
      "  Finding nn representation as target...\n",
      "INFO:tensorflow:Optimization terminated with:\n",
      "  Message: b'CONVERGENCE: NORM_OF_PROJECTED_GRADIENT_<=_PGTOL'\n",
      "  Objective function value: 0.163777\n",
      "  Number of iterations: 39\n",
      "  Number of functions evaluations: 40\n",
      "Running Baseline Attack on instance 1504 of 1888\n",
      "  Finding nn representation as target...\n",
      "INFO:tensorflow:Optimization terminated with:\n",
      "  Message: b'CONVERGENCE: NORM_OF_PROJECTED_GRADIENT_<=_PGTOL'\n",
      "  Objective function value: 0.136925\n",
      "  Number of iterations: 39\n",
      "  Number of functions evaluations: 40\n",
      "Running Baseline Attack on instance 1536 of 1888\n",
      "  Finding nn representation as target...\n",
      "INFO:tensorflow:Optimization terminated with:\n",
      "  Message: b'CONVERGENCE: NORM_OF_PROJECTED_GRADIENT_<=_PGTOL'\n",
      "  Objective function value: 0.164346\n",
      "  Number of iterations: 42\n",
      "  Number of functions evaluations: 43\n",
      "Running Baseline Attack on instance 1568 of 1888\n",
      "  Finding nn representation as target...\n",
      "INFO:tensorflow:Optimization terminated with:\n",
      "  Message: b'CONVERGENCE: NORM_OF_PROJECTED_GRADIENT_<=_PGTOL'\n",
      "  Objective function value: 0.166892\n",
      "  Number of iterations: 43\n",
      "  Number of functions evaluations: 44\n",
      "Running Baseline Attack on instance 1600 of 1888\n",
      "  Finding nn representation as target...\n",
      "INFO:tensorflow:Optimization terminated with:\n",
      "  Message: b'CONVERGENCE: NORM_OF_PROJECTED_GRADIENT_<=_PGTOL'\n",
      "  Objective function value: 0.139727\n",
      "  Number of iterations: 41\n",
      "  Number of functions evaluations: 42\n",
      "Running Baseline Attack on instance 1632 of 1888\n",
      "  Finding nn representation as target...\n",
      "INFO:tensorflow:Optimization terminated with:\n",
      "  Message: b'CONVERGENCE: NORM_OF_PROJECTED_GRADIENT_<=_PGTOL'\n",
      "  Objective function value: 0.150088\n",
      "  Number of iterations: 43\n",
      "  Number of functions evaluations: 44\n",
      "Running Baseline Attack on instance 1664 of 1888\n",
      "  Finding nn representation as target...\n",
      "INFO:tensorflow:Optimization terminated with:\n",
      "  Message: b'CONVERGENCE: NORM_OF_PROJECTED_GRADIENT_<=_PGTOL'\n",
      "  Objective function value: 0.170355\n",
      "  Number of iterations: 38\n",
      "  Number of functions evaluations: 39\n",
      "Running Baseline Attack on instance 1696 of 1888\n",
      "  Finding nn representation as target...\n",
      "INFO:tensorflow:Optimization terminated with:\n",
      "  Message: b'CONVERGENCE: NORM_OF_PROJECTED_GRADIENT_<=_PGTOL'\n",
      "  Objective function value: 0.213783\n",
      "  Number of iterations: 46\n",
      "  Number of functions evaluations: 47\n",
      "Running Baseline Attack on instance 1728 of 1888\n",
      "  Finding nn representation as target...\n",
      "INFO:tensorflow:Optimization terminated with:\n",
      "  Message: b'CONVERGENCE: NORM_OF_PROJECTED_GRADIENT_<=_PGTOL'\n",
      "  Objective function value: 0.165039\n",
      "  Number of iterations: 41\n",
      "  Number of functions evaluations: 42\n",
      "Running Baseline Attack on instance 1760 of 1888\n",
      "  Finding nn representation as target...\n"
     ]
    },
    {
     "name": "stdout",
     "output_type": "stream",
     "text": [
      "INFO:tensorflow:Optimization terminated with:\n",
      "  Message: b'CONVERGENCE: NORM_OF_PROJECTED_GRADIENT_<=_PGTOL'\n",
      "  Objective function value: 0.174235\n",
      "  Number of iterations: 61\n",
      "  Number of functions evaluations: 62\n",
      "Running Baseline Attack on instance 1792 of 1888\n",
      "  Finding nn representation as target...\n",
      "INFO:tensorflow:Optimization terminated with:\n",
      "  Message: b'CONVERGENCE: NORM_OF_PROJECTED_GRADIENT_<=_PGTOL'\n",
      "  Objective function value: 0.139979\n",
      "  Number of iterations: 39\n",
      "  Number of functions evaluations: 40\n",
      "Running Baseline Attack on instance 1824 of 1888\n",
      "  Finding nn representation as target...\n",
      "INFO:tensorflow:Optimization terminated with:\n",
      "  Message: b'CONVERGENCE: NORM_OF_PROJECTED_GRADIENT_<=_PGTOL'\n",
      "  Objective function value: 0.135444\n",
      "  Number of iterations: 33\n",
      "  Number of functions evaluations: 34\n",
      "Running Baseline Attack on instance 1856 of 1888\n",
      "  Finding nn representation as target...\n",
      "INFO:tensorflow:Optimization terminated with:\n",
      "  Message: b'CONVERGENCE: NORM_OF_PROJECTED_GRADIENT_<=_PGTOL'\n",
      "  Objective function value: 0.116585\n",
      "  Number of iterations: 37\n",
      "  Number of functions evaluations: 38\n"
     ]
    }
   ],
   "source": [
    "X_adv = baseline.attack(X_37_test, rep_37_test[0], y_37_test)"
   ]
  },
  {
   "cell_type": "code",
   "execution_count": 340,
   "metadata": {},
   "outputs": [
    {
     "name": "stdout",
     "output_type": "stream",
     "text": [
      "0.6091101694915254\n",
      "[7 7 5 ... 3 7 3]\n"
     ]
    }
   ],
   "source": [
    "p, acc = dknn_acc(A, get_all_rep_nm(X_adv), y_37_test, query, y_train)\n",
    "print(acc)\n",
    "print(np.argmax(p, 1))"
   ]
  },
  {
   "cell_type": "code",
   "execution_count": 354,
   "metadata": {},
   "outputs": [
    {
     "data": {
      "image/png": "[encoded data removed]",
      "text/plain": [
       "<Figure size 432x288 with 1 Axes>"
      ]
     },
     "metadata": {
      "needs_background": "light"
     },
     "output_type": "display_data"
    },
    {
     "data": {
      "image/png": "[encoded data removed]",
      "text/plain": [
       "<Figure size 432x288 with 1 Axes>"
      ]
     },
     "metadata": {
      "needs_background": "light"
     },
     "output_type": "display_data"
    },
    {
     "name": "stdout",
     "output_type": "stream",
     "text": [
      "9\n"
     ]
    }
   ],
   "source": [
    "i = 19\n",
    "plt.imshow(X_37_test[i,:,:,0], cmap='gray')\n",
    "plt.show()\n",
    "plt.imshow(X_adv[i,:,:,0], cmap='gray')\n",
    "plt.show()\n",
    "print(np.argmax(p, 1)[i])"
   ]
  },
  {
   "cell_type": "markdown",
   "metadata": {},
   "source": [
    "---\n",
    "\n",
    "## 2. Slightly improved baseline"
   ]
  },
  {
   "cell_type": "code",
   "execution_count": 19,
   "metadata": {},
   "outputs": [],
   "source": [
    "def find_nn_diff_class_l2(Q, y_Q, X, y_X, k):\n",
    "    target = np.zeros((len(Q), k), dtype=np.int32)\n",
    "    axis = tuple(np.arange(1, X.ndim, dtype=np.int32))\n",
    "    for i, (q, y_q) in enumerate(zip(Q, y_Q)):\n",
    "        ind = np.argsort(np.sum((X - q)**2, axis=axis))\n",
    "        target[i] = ind[y_X[ind] != y_q][:k]\n",
    "    return target"
   ]
  },
  {
   "cell_type": "code",
   "execution_count": 356,
   "metadata": {},
   "outputs": [],
   "source": [
    "class AttackV2(object):\n",
    "    \n",
    "    def __init__(self, sess, model, get_rep, X, X_rep, y_X, \n",
    "                 pert_norm=2, batch_size=1000, lr=1e-3, \n",
    "                 abort_early=True, init_const=1, min_dist=1,\n",
    "                 pert_bound=0.3):\n",
    "        \"\"\"\n",
    "        X_rep must be normalized\n",
    "        \"\"\"\n",
    "    \n",
    "        self.sess = sess\n",
    "        self.model = model\n",
    "        self.X = X\n",
    "        self.X_rep = X_rep\n",
    "        self.y_X = y_X\n",
    "        self.batch_size = batch_size\n",
    "        self.abort_early = abort_early\n",
    "        self.init_const = init_const\n",
    "        self.min_dist = min_dist\n",
    "        self.pert_norm = pert_norm\n",
    "        self.pert_bound = pert_bound\n",
    "        \n",
    "        input_ndim = X.ndim\n",
    "        input_axis = np.arange(1, input_ndim)\n",
    "        input_shape = (batch_size, ) + X.shape[1:]\n",
    "        rep_ndim = X_rep.ndim\n",
    "        rep_axis = np.arange(1, rep_ndim)\n",
    "        rep_shape = (batch_size, ) + X_rep.shape[1:]\n",
    "\n",
    "        # Objective variable\n",
    "        modifier = tf.Variable(np.zeros(input_shape), dtype=tf.float32)\n",
    "\n",
    "        # These are variables to be more efficient in sending data to tf\n",
    "        q_var = tf.Variable(np.zeros(input_shape), dtype=tf.float32, name='q_var')\n",
    "        target_var = tf.Variable(np.zeros(rep_shape), dtype=tf.float32, name='target_var')\n",
    "        const_var = tf.Variable(\n",
    "            np.zeros(batch_size), dtype=tf.float32, name='const_var')\n",
    "\n",
    "        # and here's what we use to assign them\n",
    "        self.assign_q = tf.placeholder(tf.float32, input_shape, name='assign_q')\n",
    "        self.assign_target = tf.placeholder(tf.float32, rep_shape, name='assign_target')\n",
    "        self.assign_const = tf.placeholder(\n",
    "            tf.float32, [batch_size], name='assign_const')\n",
    "\n",
    "        # Clip to ensure pixel value is between 0 and 1\n",
    "        self.new_q = tf.clip_by_value(q_var + modifier, 0., 1.)\n",
    "        # Get reprentation tensor\n",
    "        rep = get_rep(self.new_q)\n",
    "        rep = tf.reshape(rep, [batch_size, -1])\n",
    "        self.rep = rep / tf.norm(rep, axis=1, keepdims=True)\n",
    "\n",
    "        # L2 perturbation loss\n",
    "        l2dist = tf.reduce_sum(tf.square(modifier), input_axis)\n",
    "        self.l2dist = tf.maximum(0., l2dist - self.pert_bound**2)\n",
    "        # Similarity loss\n",
    "        dist_loss = tf.reduce_sum(tf.square(self.rep - target_var), rep_axis)\n",
    "        self.dist_loss = tf.maximum(0., dist_loss - self.min_dist**2)\n",
    "        \n",
    "        # Setup optimizer\n",
    "        start_vars = set(x.name for x in tf.global_variables())\n",
    "        if pert_norm == 2:\n",
    "            # For L-2 norm constraint, we use Adam optimizer with\n",
    "            # a penalty term\n",
    "            self.loss = tf.reduce_mean(const_var*self.dist_loss + self.l2dist)\n",
    "            optimizer = tf.train.AdamOptimizer(lr)\n",
    "            self.train_step = optimizer.minimize(self.loss, var_list=[modifier])\n",
    "        elif pert_norm == np.inf:\n",
    "            # For L-inf norm constraint, we use L-BFGS-B optimizer \n",
    "            # to provide correct bound, optimizer setup is moved to attack()\n",
    "            self.loss = tf.reduce_mean(self.dist_loss)\n",
    "            self.modifier = modifier\n",
    "        else:\n",
    "            raise ValueError('Invalid choice for perturbation norm!')\n",
    "            \n",
    "        end_vars = tf.global_variables()\n",
    "        new_vars = [x for x in end_vars if x.name not in start_vars]\n",
    "\n",
    "        self.setup = []\n",
    "        self.setup.append(q_var.assign(self.assign_q))\n",
    "        self.setup.append(target_var.assign(self.assign_target))\n",
    "        self.setup.append(const_var.assign(self.assign_const))\n",
    "        self.init = tf.variables_initializer(var_list=[modifier] + new_vars)\n",
    "        \n",
    "    def attack(self, Q, Q_rep, y_Q, bin_search_steps=5, max_iter=200):\n",
    "        r = []\n",
    "        for i in range(0, len(Q), self.batch_size):\n",
    "            print(\"Running Baseline Attack on instance {} of {}\".format(\n",
    "                i, len(Q)))\n",
    "            r.extend(self.attack_batch(Q[i:i + self.batch_size],\n",
    "                                       Q_rep[i:i + self.batch_size],\n",
    "                                       y_Q[i:i + self.batch_size],\n",
    "                                       bin_search_steps=bin_search_steps,\n",
    "                                       max_iter=max_iter))\n",
    "        return np.array(r)\n",
    "\n",
    "        \n",
    "    def attack_batch(self, Q, Q_rep, y_Q, bin_search_steps=5, max_iter=200):   \n",
    "        \n",
    "        # Find closest rep of different class\n",
    "        print(\"  Finding nn representation as target...\")\n",
    "        \n",
    "#         nn = find_nn_diff_class(Q_rep, y_Q, self.X_rep, self.y_X, 1)\n",
    "        nn = find_nn_diff_class_l2(Q, y_Q, self.X, self.y_X, 1)\n",
    "\n",
    "        target_rep = np.squeeze(self.X_rep[nn])\n",
    "        # Find nn to target rep to save nn search time during optimization\n",
    "        # check_rep = find_nn(target_rep, self.X_rep, 100)\n",
    "        \n",
    "        # ============ Optimizing with L-inf norm constraints =========== #\n",
    "        # L-BFGS-B optimizer only needs to be called once\n",
    "        if self.pert_norm == np.inf:\n",
    "            self.sess.run(self.init)\n",
    "            Q_batch = Q[:self.batch_size]\n",
    "            target_rep_batch = target_rep[:self.batch_size]\n",
    "            const = np.ones(self.batch_size) * self.init_const\n",
    "            \n",
    "            # Set the variables so that we don't have to send them over again\n",
    "            self.sess.run(\n",
    "                self.setup, {\n",
    "                    self.assign_q: Q_batch,\n",
    "                    self.assign_target: target_rep_batch,\n",
    "                    self.assign_const: const\n",
    "                })\n",
    "            \n",
    "            # Set up variables bound and optimizer\n",
    "            upper_bound = np.minimum(self.pert_bound, 1 - Q_batch)\n",
    "            lower_bound = np.maximum(-self.pert_bound, -Q_batch)\n",
    "            var_to_bounds = {self.modifier: (lower_bound, upper_bound)}\n",
    "            optimizer = tf.contrib.opt.ScipyOptimizerInterface(\n",
    "                self.loss, \n",
    "                var_list=[self.modifier], \n",
    "                var_to_bounds=var_to_bounds, \n",
    "                method='L-BFGS-B')\n",
    "            \n",
    "            # Call optimizer\n",
    "            optimizer.minimize(self.sess)\n",
    "            return self.sess.run(self.new_q)\n",
    "            \n",
    "        # ============= Optimizing with L2 norm constraints ============ #\n",
    "        o_bestl2 = [1e9] * self.batch_size\n",
    "        o_bestadv = np.zeros_like(Q[:self.batch_size])\n",
    "        \n",
    "        # Set the lower and upper bounds\n",
    "        lower_bound = np.zeros(self.batch_size)\n",
    "        const = np.ones(self.batch_size) * self.init_const\n",
    "        upper_bound = np.ones(self.batch_size) * 1e9\n",
    "       \n",
    "        for outer_step in range(bin_search_steps):\n",
    "\n",
    "            self.sess.run(self.init)\n",
    "            Q_batch = Q[:self.batch_size]\n",
    "            target_rep_batch = target_rep[:self.batch_size]\n",
    "            \n",
    "            bestl2 = [1e9] * self.batch_size\n",
    "            bestadv = np.zeros_like(Q_batch)\n",
    "            print(\"  Binary search step {} of {}\".format(\n",
    "                outer_step, bin_search_steps))\n",
    "\n",
    "            # Set the variables so that we don't have to send them over again\n",
    "            self.sess.run(\n",
    "                self.setup, {\n",
    "                    self.assign_q: Q_batch,\n",
    "                    self.assign_target: target_rep_batch,\n",
    "                    self.assign_const: const\n",
    "                })\n",
    "\n",
    "            prev = 1e6\n",
    "            for iteration in range(max_iter):\n",
    "                # Take one step in optimization\n",
    "                _, l, l2s, dls, reps, qs = self.sess.run([self.train_step, \n",
    "                                                          self.loss, \n",
    "                                                          self.l2dist,\n",
    "                                                          self.dist_loss,\n",
    "                                                          self.rep, \n",
    "                                                          self.new_q])\n",
    "                \n",
    "                if iteration % ((max_iter // 10) or 1) == 0:\n",
    "                    print((\"    Iteration {} of {}: loss={:.3g} l2={:.3g}\").format(\n",
    "                        iteration, max_iter, l, np.mean(l2s)))\n",
    "                \n",
    "                # Abort early if stop improving\n",
    "                if self.abort_early and iteration % ((max_iter // 10) or 1) == 0:\n",
    "                    if l > prev * .9999:\n",
    "                        print(\"    Failed to make progress; stop early\")\n",
    "                        break\n",
    "                    prev = l\n",
    "                \n",
    "                # Check termination condition\n",
    "                # nn = find_nn(reps, self.X_rep, 1)\n",
    "                # y_pred = classify(nn, self.y_X)\n",
    "                # suc_ind = np.where(y_pred != y_Q)[0]\n",
    "                suc_ind = np.where(dls <= 1e-1)[0]\n",
    "                for ind in suc_ind:\n",
    "                    if l2s[ind] < bestl2[ind]:\n",
    "                        bestl2[ind] = l2s[ind]\n",
    "                        bestadv[ind] = qs[ind]\n",
    "\n",
    "                        \n",
    "            # Adjust const according to results\n",
    "            for e in range(self.batch_size):\n",
    "                if bestl2[e] < 1e9:\n",
    "                    # Success, divide const by two\n",
    "                    upper_bound[e] = min(upper_bound[e], const[e])\n",
    "                    if upper_bound[e] < 1e9:\n",
    "                        const[e] = (lower_bound[e] + upper_bound[e]) / 2\n",
    "                    if bestl2[e] < o_bestl2[e]:\n",
    "                        o_bestl2[e] = bestl2[e]\n",
    "                        o_bestadv[e] = bestadv[e]\n",
    "                else:\n",
    "                    # Failure, either multiply by 10 if no solution found yet\n",
    "                    #          or do binary search with the known upper bound\n",
    "                    lower_bound[e] = max(lower_bound[e], const[e])\n",
    "                    if upper_bound[e] < 1e9:\n",
    "                        const[e] = (lower_bound[e] + upper_bound[e]) / 2\n",
    "                    else:\n",
    "                        const[e] *= 10\n",
    "                        \n",
    "        return o_bestadv"
   ]
  },
  {
   "cell_type": "code",
   "execution_count": 377,
   "metadata": {},
   "outputs": [],
   "source": [
    "attack = AttackV2(sess, model, l1_rep, \n",
    "                  X_train, rep_train_nm[0], y_train, \n",
    "                  pert_norm=np.inf,\n",
    "                  batch_size=5, \n",
    "                  min_dist=0,\n",
    "                  pert_bound=0.3)"
   ]
  },
  {
   "cell_type": "code",
   "execution_count": 378,
   "metadata": {},
   "outputs": [
    {
     "name": "stdout",
     "output_type": "stream",
     "text": [
      "Running Baseline Attack on instance 0 of 5\n",
      "  Finding nn representation as target...\n",
      "INFO:tensorflow:Optimization terminated with:\n",
      "  Message: b'CONVERGENCE: NORM_OF_PROJECTED_GRADIENT_<=_PGTOL'\n",
      "  Objective function value: 0.200503\n",
      "  Number of iterations: 61\n",
      "  Number of functions evaluations: 62\n"
     ]
    }
   ],
   "source": [
    "X_adv = attack.attack(X_37_test[:5], rep_37_test[0][:5], y_37_test[:5])"
   ]
  },
  {
   "cell_type": "code",
   "execution_count": 379,
   "metadata": {},
   "outputs": [
    {
     "name": "stdout",
     "output_type": "stream",
     "text": [
      "0.8\n",
      "[7 7 3 9 3]\n"
     ]
    }
   ],
   "source": [
    "p, acc = dknn_acc(A, get_all_rep_nm(X_adv), y_37_test[:5], query, y_train)\n",
    "print(acc)\n",
    "print(np.argmax(p, 1))"
   ]
  },
  {
   "cell_type": "code",
   "execution_count": 381,
   "metadata": {},
   "outputs": [
    {
     "data": {
      "image/png": "[encoded data removed]",
      "text/plain": [
       "<Figure size 432x288 with 1 Axes>"
      ]
     },
     "metadata": {
      "needs_background": "light"
     },
     "output_type": "display_data"
    },
    {
     "data": {
      "image/png": "[encoded data removed]",
      "text/plain": [
       "<Figure size 432x288 with 1 Axes>"
      ]
     },
     "metadata": {
      "needs_background": "light"
     },
     "output_type": "display_data"
    }
   ],
   "source": [
    "i = 3\n",
    "plt.imshow(X_37_test[i,:,:,0], cmap='gray')\n",
    "plt.show()\n",
    "plt.imshow(X_adv[i,:,:,0], cmap='gray')\n",
    "plt.show()"
   ]
  },
  {
   "cell_type": "code",
   "execution_count": 382,
   "metadata": {},
   "outputs": [
    {
     "data": {
      "text/plain": [
       "array([3.6045725 , 3.89791851, 3.98171894, 3.10472688, 3.74187468])"
      ]
     },
     "execution_count": 382,
     "metadata": {},
     "output_type": "execute_result"
    }
   ],
   "source": [
    "np.sqrt(np.sum((X_adv - X_37_test[:5])**2, (1,2,3)))"
   ]
  },
  {
   "cell_type": "code",
   "execution_count": 384,
   "metadata": {},
   "outputs": [],
   "source": [
    "attack = AttackV2(sess, model, l1_rep, \n",
    "                  X_train, rep_train_nm[0], y_train, \n",
    "                  pert_norm=np.inf,\n",
    "                  batch_size=32,\n",
    "                  min_dist=0.,\n",
    "                  pert_bound=0.3)"
   ]
  },
  {
   "cell_type": "code",
   "execution_count": 386,
   "metadata": {},
   "outputs": [
    {
     "name": "stdout",
     "output_type": "stream",
     "text": [
      "Running Baseline Attack on instance 0 of 1888\n",
      "  Finding nn representation as target...\n",
      "INFO:tensorflow:Optimization terminated with:\n",
      "  Message: b'CONVERGENCE: NORM_OF_PROJECTED_GRADIENT_<=_PGTOL'\n",
      "  Objective function value: 0.200702\n",
      "  Number of iterations: 44\n",
      "  Number of functions evaluations: 45\n",
      "Running Baseline Attack on instance 32 of 1888\n",
      "  Finding nn representation as target...\n",
      "INFO:tensorflow:Optimization terminated with:\n",
      "  Message: b'CONVERGENCE: NORM_OF_PROJECTED_GRADIENT_<=_PGTOL'\n",
      "  Objective function value: 0.185852\n",
      "  Number of iterations: 51\n",
      "  Number of functions evaluations: 52\n",
      "Running Baseline Attack on instance 64 of 1888\n",
      "  Finding nn representation as target...\n",
      "INFO:tensorflow:Optimization terminated with:\n",
      "  Message: b'CONVERGENCE: NORM_OF_PROJECTED_GRADIENT_<=_PGTOL'\n",
      "  Objective function value: 0.188620\n",
      "  Number of iterations: 46\n",
      "  Number of functions evaluations: 47\n",
      "Running Baseline Attack on instance 96 of 1888\n",
      "  Finding nn representation as target...\n",
      "INFO:tensorflow:Optimization terminated with:\n",
      "  Message: b'CONVERGENCE: NORM_OF_PROJECTED_GRADIENT_<=_PGTOL'\n",
      "  Objective function value: 0.202556\n",
      "  Number of iterations: 49\n",
      "  Number of functions evaluations: 50\n",
      "Running Baseline Attack on instance 128 of 1888\n",
      "  Finding nn representation as target...\n",
      "INFO:tensorflow:Optimization terminated with:\n",
      "  Message: b'CONVERGENCE: NORM_OF_PROJECTED_GRADIENT_<=_PGTOL'\n",
      "  Objective function value: 0.187034\n",
      "  Number of iterations: 55\n",
      "  Number of functions evaluations: 56\n",
      "Running Baseline Attack on instance 160 of 1888\n",
      "  Finding nn representation as target...\n",
      "INFO:tensorflow:Optimization terminated with:\n",
      "  Message: b'CONVERGENCE: NORM_OF_PROJECTED_GRADIENT_<=_PGTOL'\n",
      "  Objective function value: 0.178478\n",
      "  Number of iterations: 35\n",
      "  Number of functions evaluations: 36\n",
      "Running Baseline Attack on instance 192 of 1888\n",
      "  Finding nn representation as target...\n",
      "INFO:tensorflow:Optimization terminated with:\n",
      "  Message: b'CONVERGENCE: NORM_OF_PROJECTED_GRADIENT_<=_PGTOL'\n",
      "  Objective function value: 0.190678\n",
      "  Number of iterations: 58\n",
      "  Number of functions evaluations: 59\n",
      "Running Baseline Attack on instance 224 of 1888\n",
      "  Finding nn representation as target...\n",
      "INFO:tensorflow:Optimization terminated with:\n",
      "  Message: b'CONVERGENCE: NORM_OF_PROJECTED_GRADIENT_<=_PGTOL'\n",
      "  Objective function value: 0.180982\n",
      "  Number of iterations: 60\n",
      "  Number of functions evaluations: 61\n",
      "Running Baseline Attack on instance 256 of 1888\n",
      "  Finding nn representation as target...\n",
      "INFO:tensorflow:Optimization terminated with:\n",
      "  Message: b'CONVERGENCE: NORM_OF_PROJECTED_GRADIENT_<=_PGTOL'\n",
      "  Objective function value: 0.185214\n",
      "  Number of iterations: 42\n",
      "  Number of functions evaluations: 43\n",
      "Running Baseline Attack on instance 288 of 1888\n",
      "  Finding nn representation as target...\n",
      "INFO:tensorflow:Optimization terminated with:\n",
      "  Message: b'CONVERGENCE: NORM_OF_PROJECTED_GRADIENT_<=_PGTOL'\n",
      "  Objective function value: 0.178330\n",
      "  Number of iterations: 37\n",
      "  Number of functions evaluations: 38\n",
      "Running Baseline Attack on instance 320 of 1888\n",
      "  Finding nn representation as target...\n",
      "INFO:tensorflow:Optimization terminated with:\n",
      "  Message: b'CONVERGENCE: NORM_OF_PROJECTED_GRADIENT_<=_PGTOL'\n",
      "  Objective function value: 0.184394\n",
      "  Number of iterations: 62\n",
      "  Number of functions evaluations: 63\n",
      "Running Baseline Attack on instance 352 of 1888\n",
      "  Finding nn representation as target...\n",
      "INFO:tensorflow:Optimization terminated with:\n",
      "  Message: b'CONVERGENCE: NORM_OF_PROJECTED_GRADIENT_<=_PGTOL'\n",
      "  Objective function value: 0.196918\n",
      "  Number of iterations: 45\n",
      "  Number of functions evaluations: 46\n",
      "Running Baseline Attack on instance 384 of 1888\n",
      "  Finding nn representation as target...\n",
      "INFO:tensorflow:Optimization terminated with:\n",
      "  Message: b'CONVERGENCE: NORM_OF_PROJECTED_GRADIENT_<=_PGTOL'\n",
      "  Objective function value: 0.188117\n",
      "  Number of iterations: 48\n",
      "  Number of functions evaluations: 49\n",
      "Running Baseline Attack on instance 416 of 1888\n",
      "  Finding nn representation as target...\n",
      "INFO:tensorflow:Optimization terminated with:\n",
      "  Message: b'CONVERGENCE: NORM_OF_PROJECTED_GRADIENT_<=_PGTOL'\n",
      "  Objective function value: 0.200435\n",
      "  Number of iterations: 38\n",
      "  Number of functions evaluations: 39\n",
      "Running Baseline Attack on instance 448 of 1888\n",
      "  Finding nn representation as target...\n",
      "INFO:tensorflow:Optimization terminated with:\n",
      "  Message: b'CONVERGENCE: NORM_OF_PROJECTED_GRADIENT_<=_PGTOL'\n",
      "  Objective function value: 0.180475\n",
      "  Number of iterations: 52\n",
      "  Number of functions evaluations: 53\n",
      "Running Baseline Attack on instance 480 of 1888\n",
      "  Finding nn representation as target...\n",
      "INFO:tensorflow:Optimization terminated with:\n",
      "  Message: b'CONVERGENCE: NORM_OF_PROJECTED_GRADIENT_<=_PGTOL'\n",
      "  Objective function value: 0.187663\n",
      "  Number of iterations: 44\n",
      "  Number of functions evaluations: 45\n",
      "Running Baseline Attack on instance 512 of 1888\n",
      "  Finding nn representation as target...\n",
      "INFO:tensorflow:Optimization terminated with:\n",
      "  Message: b'CONVERGENCE: NORM_OF_PROJECTED_GRADIENT_<=_PGTOL'\n",
      "  Objective function value: 0.198823\n",
      "  Number of iterations: 59\n",
      "  Number of functions evaluations: 60\n",
      "Running Baseline Attack on instance 544 of 1888\n",
      "  Finding nn representation as target...\n",
      "INFO:tensorflow:Optimization terminated with:\n",
      "  Message: b'CONVERGENCE: NORM_OF_PROJECTED_GRADIENT_<=_PGTOL'\n",
      "  Objective function value: 0.182828\n",
      "  Number of iterations: 42\n",
      "  Number of functions evaluations: 43\n",
      "Running Baseline Attack on instance 576 of 1888\n",
      "  Finding nn representation as target...\n",
      "INFO:tensorflow:Optimization terminated with:\n",
      "  Message: b'CONVERGENCE: NORM_OF_PROJECTED_GRADIENT_<=_PGTOL'\n",
      "  Objective function value: 0.186073\n",
      "  Number of iterations: 48\n",
      "  Number of functions evaluations: 49\n",
      "Running Baseline Attack on instance 608 of 1888\n",
      "  Finding nn representation as target...\n",
      "INFO:tensorflow:Optimization terminated with:\n",
      "  Message: b'CONVERGENCE: NORM_OF_PROJECTED_GRADIENT_<=_PGTOL'\n",
      "  Objective function value: 0.195579\n",
      "  Number of iterations: 63\n",
      "  Number of functions evaluations: 64\n",
      "Running Baseline Attack on instance 640 of 1888\n",
      "  Finding nn representation as target...\n",
      "INFO:tensorflow:Optimization terminated with:\n",
      "  Message: b'CONVERGENCE: NORM_OF_PROJECTED_GRADIENT_<=_PGTOL'\n",
      "  Objective function value: 0.184149\n",
      "  Number of iterations: 48\n",
      "  Number of functions evaluations: 49\n",
      "Running Baseline Attack on instance 672 of 1888\n",
      "  Finding nn representation as target...\n",
      "INFO:tensorflow:Optimization terminated with:\n",
      "  Message: b'CONVERGENCE: NORM_OF_PROJECTED_GRADIENT_<=_PGTOL'\n",
      "  Objective function value: 0.195043\n",
      "  Number of iterations: 44\n",
      "  Number of functions evaluations: 45\n",
      "Running Baseline Attack on instance 704 of 1888\n",
      "  Finding nn representation as target...\n",
      "INFO:tensorflow:Optimization terminated with:\n",
      "  Message: b'CONVERGENCE: NORM_OF_PROJECTED_GRADIENT_<=_PGTOL'\n",
      "  Objective function value: 0.193139\n",
      "  Number of iterations: 61\n",
      "  Number of functions evaluations: 62\n",
      "Running Baseline Attack on instance 736 of 1888\n",
      "  Finding nn representation as target...\n",
      "INFO:tensorflow:Optimization terminated with:\n",
      "  Message: b'CONVERGENCE: NORM_OF_PROJECTED_GRADIENT_<=_PGTOL'\n",
      "  Objective function value: 0.203035\n",
      "  Number of iterations: 40\n",
      "  Number of functions evaluations: 41\n",
      "Running Baseline Attack on instance 768 of 1888\n",
      "  Finding nn representation as target...\n",
      "INFO:tensorflow:Optimization terminated with:\n",
      "  Message: b'CONVERGENCE: NORM_OF_PROJECTED_GRADIENT_<=_PGTOL'\n",
      "  Objective function value: 0.192122\n",
      "  Number of iterations: 50\n",
      "  Number of functions evaluations: 51\n",
      "Running Baseline Attack on instance 800 of 1888\n",
      "  Finding nn representation as target...\n",
      "INFO:tensorflow:Optimization terminated with:\n",
      "  Message: b'CONVERGENCE: NORM_OF_PROJECTED_GRADIENT_<=_PGTOL'\n",
      "  Objective function value: 0.201923\n",
      "  Number of iterations: 39\n",
      "  Number of functions evaluations: 40\n",
      "Running Baseline Attack on instance 832 of 1888\n",
      "  Finding nn representation as target...\n",
      "INFO:tensorflow:Optimization terminated with:\n",
      "  Message: b'CONVERGENCE: NORM_OF_PROJECTED_GRADIENT_<=_PGTOL'\n",
      "  Objective function value: 0.209096\n",
      "  Number of iterations: 48\n",
      "  Number of functions evaluations: 49\n",
      "Running Baseline Attack on instance 864 of 1888\n",
      "  Finding nn representation as target...\n",
      "INFO:tensorflow:Optimization terminated with:\n",
      "  Message: b'CONVERGENCE: NORM_OF_PROJECTED_GRADIENT_<=_PGTOL'\n",
      "  Objective function value: 0.190221\n",
      "  Number of iterations: 50\n",
      "  Number of functions evaluations: 51\n"
     ]
    },
    {
     "name": "stdout",
     "output_type": "stream",
     "text": [
      "Running Baseline Attack on instance 896 of 1888\n",
      "  Finding nn representation as target...\n",
      "INFO:tensorflow:Optimization terminated with:\n",
      "  Message: b'CONVERGENCE: NORM_OF_PROJECTED_GRADIENT_<=_PGTOL'\n",
      "  Objective function value: 0.200670\n",
      "  Number of iterations: 51\n",
      "  Number of functions evaluations: 52\n",
      "Running Baseline Attack on instance 928 of 1888\n",
      "  Finding nn representation as target...\n",
      "INFO:tensorflow:Optimization terminated with:\n",
      "  Message: b'CONVERGENCE: NORM_OF_PROJECTED_GRADIENT_<=_PGTOL'\n",
      "  Objective function value: 0.180258\n",
      "  Number of iterations: 39\n",
      "  Number of functions evaluations: 40\n",
      "Running Baseline Attack on instance 960 of 1888\n",
      "  Finding nn representation as target...\n",
      "INFO:tensorflow:Optimization terminated with:\n",
      "  Message: b'CONVERGENCE: NORM_OF_PROJECTED_GRADIENT_<=_PGTOL'\n",
      "  Objective function value: 0.177439\n",
      "  Number of iterations: 44\n",
      "  Number of functions evaluations: 45\n",
      "Running Baseline Attack on instance 992 of 1888\n",
      "  Finding nn representation as target...\n",
      "INFO:tensorflow:Optimization terminated with:\n",
      "  Message: b'CONVERGENCE: NORM_OF_PROJECTED_GRADIENT_<=_PGTOL'\n",
      "  Objective function value: 0.164212\n",
      "  Number of iterations: 40\n",
      "  Number of functions evaluations: 41\n",
      "Running Baseline Attack on instance 1024 of 1888\n",
      "  Finding nn representation as target...\n",
      "INFO:tensorflow:Optimization terminated with:\n",
      "  Message: b'CONVERGENCE: NORM_OF_PROJECTED_GRADIENT_<=_PGTOL'\n",
      "  Objective function value: 0.149829\n",
      "  Number of iterations: 37\n",
      "  Number of functions evaluations: 38\n",
      "Running Baseline Attack on instance 1056 of 1888\n",
      "  Finding nn representation as target...\n",
      "INFO:tensorflow:Optimization terminated with:\n",
      "  Message: b'CONVERGENCE: NORM_OF_PROJECTED_GRADIENT_<=_PGTOL'\n",
      "  Objective function value: 0.188034\n",
      "  Number of iterations: 46\n",
      "  Number of functions evaluations: 47\n",
      "Running Baseline Attack on instance 1088 of 1888\n",
      "  Finding nn representation as target...\n",
      "INFO:tensorflow:Optimization terminated with:\n",
      "  Message: b'CONVERGENCE: NORM_OF_PROJECTED_GRADIENT_<=_PGTOL'\n",
      "  Objective function value: 0.189601\n",
      "  Number of iterations: 42\n",
      "  Number of functions evaluations: 43\n",
      "Running Baseline Attack on instance 1120 of 1888\n",
      "  Finding nn representation as target...\n",
      "INFO:tensorflow:Optimization terminated with:\n",
      "  Message: b'CONVERGENCE: NORM_OF_PROJECTED_GRADIENT_<=_PGTOL'\n",
      "  Objective function value: 0.190985\n",
      "  Number of iterations: 38\n",
      "  Number of functions evaluations: 39\n",
      "Running Baseline Attack on instance 1152 of 1888\n",
      "  Finding nn representation as target...\n",
      "INFO:tensorflow:Optimization terminated with:\n",
      "  Message: b'CONVERGENCE: NORM_OF_PROJECTED_GRADIENT_<=_PGTOL'\n",
      "  Objective function value: 0.183664\n",
      "  Number of iterations: 34\n",
      "  Number of functions evaluations: 35\n",
      "Running Baseline Attack on instance 1184 of 1888\n",
      "  Finding nn representation as target...\n",
      "INFO:tensorflow:Optimization terminated with:\n",
      "  Message: b'CONVERGENCE: NORM_OF_PROJECTED_GRADIENT_<=_PGTOL'\n",
      "  Objective function value: 0.160256\n",
      "  Number of iterations: 55\n",
      "  Number of functions evaluations: 56\n",
      "Running Baseline Attack on instance 1216 of 1888\n",
      "  Finding nn representation as target...\n",
      "INFO:tensorflow:Optimization terminated with:\n",
      "  Message: b'CONVERGENCE: NORM_OF_PROJECTED_GRADIENT_<=_PGTOL'\n",
      "  Objective function value: 0.184955\n",
      "  Number of iterations: 69\n",
      "  Number of functions evaluations: 70\n",
      "Running Baseline Attack on instance 1248 of 1888\n",
      "  Finding nn representation as target...\n",
      "INFO:tensorflow:Optimization terminated with:\n",
      "  Message: b'CONVERGENCE: NORM_OF_PROJECTED_GRADIENT_<=_PGTOL'\n",
      "  Objective function value: 0.177601\n",
      "  Number of iterations: 36\n",
      "  Number of functions evaluations: 37\n",
      "Running Baseline Attack on instance 1280 of 1888\n",
      "  Finding nn representation as target...\n",
      "INFO:tensorflow:Optimization terminated with:\n",
      "  Message: b'CONVERGENCE: NORM_OF_PROJECTED_GRADIENT_<=_PGTOL'\n",
      "  Objective function value: 0.164679\n",
      "  Number of iterations: 42\n",
      "  Number of functions evaluations: 43\n",
      "Running Baseline Attack on instance 1312 of 1888\n",
      "  Finding nn representation as target...\n",
      "INFO:tensorflow:Optimization terminated with:\n",
      "  Message: b'CONVERGENCE: NORM_OF_PROJECTED_GRADIENT_<=_PGTOL'\n",
      "  Objective function value: 0.168724\n",
      "  Number of iterations: 38\n",
      "  Number of functions evaluations: 39\n",
      "Running Baseline Attack on instance 1344 of 1888\n",
      "  Finding nn representation as target...\n",
      "INFO:tensorflow:Optimization terminated with:\n",
      "  Message: b'CONVERGENCE: NORM_OF_PROJECTED_GRADIENT_<=_PGTOL'\n",
      "  Objective function value: 0.135476\n",
      "  Number of iterations: 30\n",
      "  Number of functions evaluations: 31\n",
      "Running Baseline Attack on instance 1376 of 1888\n",
      "  Finding nn representation as target...\n",
      "INFO:tensorflow:Optimization terminated with:\n",
      "  Message: b'CONVERGENCE: NORM_OF_PROJECTED_GRADIENT_<=_PGTOL'\n",
      "  Objective function value: 0.147433\n",
      "  Number of iterations: 45\n",
      "  Number of functions evaluations: 46\n",
      "Running Baseline Attack on instance 1408 of 1888\n",
      "  Finding nn representation as target...\n",
      "INFO:tensorflow:Optimization terminated with:\n",
      "  Message: b'CONVERGENCE: NORM_OF_PROJECTED_GRADIENT_<=_PGTOL'\n",
      "  Objective function value: 0.173545\n",
      "  Number of iterations: 57\n",
      "  Number of functions evaluations: 58\n",
      "Running Baseline Attack on instance 1440 of 1888\n",
      "  Finding nn representation as target...\n",
      "INFO:tensorflow:Optimization terminated with:\n",
      "  Message: b'CONVERGENCE: NORM_OF_PROJECTED_GRADIENT_<=_PGTOL'\n",
      "  Objective function value: 0.186117\n",
      "  Number of iterations: 39\n",
      "  Number of functions evaluations: 40\n",
      "Running Baseline Attack on instance 1472 of 1888\n",
      "  Finding nn representation as target...\n",
      "INFO:tensorflow:Optimization terminated with:\n",
      "  Message: b'CONVERGENCE: NORM_OF_PROJECTED_GRADIENT_<=_PGTOL'\n",
      "  Objective function value: 0.174376\n",
      "  Number of iterations: 37\n",
      "  Number of functions evaluations: 38\n",
      "Running Baseline Attack on instance 1504 of 1888\n",
      "  Finding nn representation as target...\n",
      "INFO:tensorflow:Optimization terminated with:\n",
      "  Message: b'CONVERGENCE: NORM_OF_PROJECTED_GRADIENT_<=_PGTOL'\n",
      "  Objective function value: 0.155325\n",
      "  Number of iterations: 40\n",
      "  Number of functions evaluations: 41\n",
      "Running Baseline Attack on instance 1536 of 1888\n",
      "  Finding nn representation as target...\n",
      "INFO:tensorflow:Optimization terminated with:\n",
      "  Message: b'CONVERGENCE: NORM_OF_PROJECTED_GRADIENT_<=_PGTOL'\n",
      "  Objective function value: 0.176642\n",
      "  Number of iterations: 34\n",
      "  Number of functions evaluations: 35\n",
      "Running Baseline Attack on instance 1568 of 1888\n",
      "  Finding nn representation as target...\n",
      "INFO:tensorflow:Optimization terminated with:\n",
      "  Message: b'CONVERGENCE: NORM_OF_PROJECTED_GRADIENT_<=_PGTOL'\n",
      "  Objective function value: 0.192329\n",
      "  Number of iterations: 33\n",
      "  Number of functions evaluations: 34\n",
      "Running Baseline Attack on instance 1600 of 1888\n",
      "  Finding nn representation as target...\n",
      "INFO:tensorflow:Optimization terminated with:\n",
      "  Message: b'CONVERGENCE: NORM_OF_PROJECTED_GRADIENT_<=_PGTOL'\n",
      "  Objective function value: 0.166826\n",
      "  Number of iterations: 34\n",
      "  Number of functions evaluations: 35\n",
      "Running Baseline Attack on instance 1632 of 1888\n",
      "  Finding nn representation as target...\n",
      "INFO:tensorflow:Optimization terminated with:\n",
      "  Message: b'CONVERGENCE: NORM_OF_PROJECTED_GRADIENT_<=_PGTOL'\n",
      "  Objective function value: 0.172681\n",
      "  Number of iterations: 32\n",
      "  Number of functions evaluations: 33\n",
      "Running Baseline Attack on instance 1664 of 1888\n",
      "  Finding nn representation as target...\n",
      "INFO:tensorflow:Optimization terminated with:\n",
      "  Message: b'CONVERGENCE: NORM_OF_PROJECTED_GRADIENT_<=_PGTOL'\n",
      "  Objective function value: 0.194622\n",
      "  Number of iterations: 30\n",
      "  Number of functions evaluations: 31\n",
      "Running Baseline Attack on instance 1696 of 1888\n",
      "  Finding nn representation as target...\n",
      "INFO:tensorflow:Optimization terminated with:\n",
      "  Message: b'CONVERGENCE: NORM_OF_PROJECTED_GRADIENT_<=_PGTOL'\n",
      "  Objective function value: 0.252798\n",
      "  Number of iterations: 38\n",
      "  Number of functions evaluations: 39\n",
      "Running Baseline Attack on instance 1728 of 1888\n",
      "  Finding nn representation as target...\n",
      "INFO:tensorflow:Optimization terminated with:\n",
      "  Message: b'CONVERGENCE: NORM_OF_PROJECTED_GRADIENT_<=_PGTOL'\n",
      "  Objective function value: 0.196429\n",
      "  Number of iterations: 74\n",
      "  Number of functions evaluations: 75\n",
      "Running Baseline Attack on instance 1760 of 1888\n",
      "  Finding nn representation as target...\n"
     ]
    },
    {
     "name": "stdout",
     "output_type": "stream",
     "text": [
      "INFO:tensorflow:Optimization terminated with:\n",
      "  Message: b'CONVERGENCE: NORM_OF_PROJECTED_GRADIENT_<=_PGTOL'\n",
      "  Objective function value: 0.202580\n",
      "  Number of iterations: 54\n",
      "  Number of functions evaluations: 55\n",
      "Running Baseline Attack on instance 1792 of 1888\n",
      "  Finding nn representation as target...\n",
      "INFO:tensorflow:Optimization terminated with:\n",
      "  Message: b'CONVERGENCE: NORM_OF_PROJECTED_GRADIENT_<=_PGTOL'\n",
      "  Objective function value: 0.179952\n",
      "  Number of iterations: 40\n",
      "  Number of functions evaluations: 41\n",
      "Running Baseline Attack on instance 1824 of 1888\n",
      "  Finding nn representation as target...\n",
      "INFO:tensorflow:Optimization terminated with:\n",
      "  Message: b'CONVERGENCE: NORM_OF_PROJECTED_GRADIENT_<=_PGTOL'\n",
      "  Objective function value: 0.167998\n",
      "  Number of iterations: 39\n",
      "  Number of functions evaluations: 40\n",
      "Running Baseline Attack on instance 1856 of 1888\n",
      "  Finding nn representation as target...\n",
      "INFO:tensorflow:Optimization terminated with:\n",
      "  Message: b'CONVERGENCE: NORM_OF_PROJECTED_GRADIENT_<=_PGTOL'\n",
      "  Objective function value: 0.148098\n",
      "  Number of iterations: 43\n",
      "  Number of functions evaluations: 44\n"
     ]
    }
   ],
   "source": [
    "X_adv = attack.attack(X_37_test, rep_37_test[0], y_37_test)"
   ]
  },
  {
   "cell_type": "code",
   "execution_count": 387,
   "metadata": {},
   "outputs": [
    {
     "name": "stdout",
     "output_type": "stream",
     "text": [
      "0.6350635593220338\n",
      "[7 7 3 ... 3 7 3]\n"
     ]
    }
   ],
   "source": [
    "p, acc = dknn_acc(A, get_all_rep_nm(X_adv), y_37_test, query, y_train)\n",
    "print(acc)\n",
    "print(np.argmax(p, 1))"
   ]
  },
  {
   "cell_type": "markdown",
   "metadata": {},
   "source": [
    "---\n",
    "## 3. AttackV3"
   ]
  },
  {
   "cell_type": "code",
   "execution_count": 20,
   "metadata": {},
   "outputs": [],
   "source": [
    "def find_nn_l2(Q, X, k):\n",
    "    assert Q.shape[1:] == X.shape[1:]\n",
    "    nn = np.zeros((len(Q), k), dtype=np.int32)\n",
    "    axis = tuple(np.arange(1, X.ndim, dtype=np.int32))\n",
    "    for i, q in enumerate(Q):\n",
    "        ind = np.argsort(np.sum((X - q)**2, axis=axis))[:k]\n",
    "        nn[i] = ind\n",
    "    return nn"
   ]
  },
  {
   "cell_type": "code",
   "execution_count": 22,
   "metadata": {},
   "outputs": [],
   "source": [
    "class AttackV3(object):\n",
    "    \n",
    "    def __init__(self, sess, model, get_rep, X, X_rep, y_X, \n",
    "                 pert_norm=np.inf, batch_size=1000, lr=1e-3, \n",
    "                 abort_early=True, init_const=1, pert_bound=0.3,\n",
    "                 min_dist=None, m=100, target_nn=38):\n",
    "        \"\"\"\n",
    "        X_rep must be normalized and flattened\n",
    "        m: (int) number of neighbors to consider\n",
    "        \"\"\"\n",
    "    \n",
    "        self.sess = sess\n",
    "        self.model = model\n",
    "        self.X = X\n",
    "        self.X_rep = X_rep\n",
    "        self.y_X = y_X\n",
    "        self.n_layers = len(X_rep)\n",
    "        self.batch_size = batch_size\n",
    "        self.abort_early = abort_early\n",
    "        self.init_const = init_const\n",
    "        self.pert_norm = pert_norm\n",
    "        self.pert_bound = pert_bound\n",
    "        if min_dist is None:\n",
    "            min_dist = [0.1]*self.n_layers\n",
    "        self.min_dist = min_dist\n",
    "        self.m = m\n",
    "        self.target_nn = target_nn\n",
    "        \n",
    "        assert self.n_layers == len(get_rep)\n",
    "        \n",
    "        input_ndim = X.ndim\n",
    "        input_axis = np.arange(1, input_ndim)\n",
    "        input_shape = (batch_size, ) + X.shape[1:]\n",
    "\n",
    "        \n",
    "        # =============== Set up variables and placeholders =============== #\n",
    "        # Objective variable\n",
    "        modifier = tf.Variable(np.zeros(input_shape), dtype=tf.float32)\n",
    "\n",
    "        # These are variables to be more efficient in sending data to tf\n",
    "        q_var = tf.Variable(np.zeros(input_shape), dtype=tf.float32, name='q_var')\n",
    "        x_var = []\n",
    "        for l in range(self.n_layers):\n",
    "            rep_shape = (batch_size, m, X_rep[l].shape[1])\n",
    "            x_var.append(tf.Variable(np.zeros(rep_shape), \n",
    "                                     dtype=tf.float32, \n",
    "                                     name='x_var_{}'.format(l)))\n",
    "        w_var = tf.Variable(np.zeros((batch_size, m, 1)), \n",
    "                            dtype=tf.float32, \n",
    "                            name='w_var_{}'.format(l))\n",
    "        const_var = tf.Variable(\n",
    "            np.zeros(batch_size), dtype=tf.float32, name='const_var')\n",
    "        steep_var = tf.Variable(\n",
    "            np.zeros((batch_size, 1, 1)), dtype=tf.float32, name='const_var')\n",
    "\n",
    "        # and here's what we use to assign them\n",
    "        self.assign_q = tf.placeholder(tf.float32, input_shape, name='assign_q')\n",
    "        self.assign_x = []\n",
    "        for l in range(self.n_layers):\n",
    "            rep_shape = (batch_size, m, X_rep[l].shape[1])\n",
    "            self.assign_x.append(tf.placeholder(tf.float32, \n",
    "                                                rep_shape, \n",
    "                                                name='assign_x_{}'.format(l)))\n",
    "        self.assign_w = tf.placeholder(tf.float32, \n",
    "                                       [batch_size, m, 1], \n",
    "                                       name='assign_w_{}'.format(l))\n",
    "        self.assign_const = tf.placeholder(\n",
    "            tf.float32, [batch_size], name='assign_const')\n",
    "        self.assign_steep = tf.placeholder(\n",
    "            tf.float32, [batch_size, 1, 1], name='assign_steep')\n",
    "\n",
    "        \n",
    "        # ================= Get reprentation tensor ================= #\n",
    "        # Clip to ensure pixel value is between 0 and 1\n",
    "        self.new_q = tf.clip_by_value(q_var + modifier, 0., 1.)\n",
    "        self.rep = []\n",
    "        for l in range(self.n_layers):\n",
    "            rep = get_rep[l](self.new_q)\n",
    "            rep = tf.reshape(rep, [batch_size, 1, -1])\n",
    "            rep = rep / tf.norm(rep, axis=2, keepdims=True)\n",
    "            self.rep.append(rep)\n",
    "\n",
    "        # L2 perturbation loss\n",
    "        l2dist = tf.reduce_sum(tf.square(modifier), input_axis)\n",
    "        self.l2dist = tf.maximum(0., l2dist - self.pert_bound**2)\n",
    "        \n",
    "        \n",
    "        # ================== Approximate NN loss ================== #\n",
    "        def sigmoid(x, a=1):\n",
    "            return 1/(1 + tf.exp(-a*x))\n",
    "        \n",
    "        self.nn_loss = 0\n",
    "        for l in range(self.n_layers):\n",
    "            dist = tf.norm(self.rep[l] - x_var[l], axis=2, keepdims=True)\n",
    "            self.nn_loss += tf.reduce_sum(\n",
    "                w_var * sigmoid(min_dist[l] - dist, steep_var), (1, 2))\n",
    "        \n",
    "        \n",
    "        # ==================== Setup optimizer ==================== #\n",
    "        start_vars = set(x.name for x in tf.global_variables())\n",
    "        if pert_norm == 2:\n",
    "            # For L-2 norm constraint, we use Adam optimizer with\n",
    "            # a penalty term\n",
    "            self.loss = tf.reduce_mean(const_var*self.nn_loss + self.l2dist)\n",
    "            optimizer = tf.train.AdamOptimizer(lr)\n",
    "            self.train_step = optimizer.minimize(self.loss, var_list=[modifier])\n",
    "        elif pert_norm == np.inf:\n",
    "            # For L-inf norm constraint, we use L-BFGS-B optimizer \n",
    "            # to provide correct bound, optimizer setup is moved to attack()\n",
    "            self.loss = tf.reduce_mean(self.nn_loss)\n",
    "            self.modifier = modifier\n",
    "        else:\n",
    "            raise ValueError('Invalid choice for perturbation norm!')\n",
    "            \n",
    "            \n",
    "        # DEBUG\n",
    "        self.dist = dist\n",
    "        self.rep_db = rep\n",
    "        self.gradient = tf.gradients(self.nn_loss, modifier)\n",
    "        print('rep: ', self.rep)\n",
    "        # dist: (batch_size, m, 1)\n",
    "        print('dist: ', dist)\n",
    "        # sigmoid: (batch_size, m, 1)\n",
    "        print('sigmoid: ', sigmoid(min_dist[l] - dist, steep_var))\n",
    "        # weights: (batch_size, m, 1)\n",
    "        print('weights: ', w_var * sigmoid(min_dist[l] - dist, steep_var))\n",
    "        # loss, nn_loss: (batch_size, )\n",
    "        print('loss: ', tf.reduce_sum(\n",
    "            w_var * sigmoid(min_dist[l] - dist, steep_var), (1, 2)))\n",
    "        print('nn_loss: ', self.nn_loss)\n",
    "        \n",
    "            \n",
    "        end_vars = tf.global_variables()\n",
    "        new_vars = [x for x in end_vars if x.name not in start_vars]\n",
    "\n",
    "        self.setup = []\n",
    "        self.setup.append(q_var.assign(self.assign_q))\n",
    "        self.setup.extend([x_var[l].assign(self.assign_x[l]) \n",
    "                           for l in range(self.n_layers)])\n",
    "        self.setup.append(w_var.assign(self.assign_w))\n",
    "        self.setup.append(steep_var.assign(self.assign_steep))\n",
    "        self.setup.append(const_var.assign(self.assign_const))\n",
    "        self.init = tf.variables_initializer(var_list=[modifier] + new_vars)\n",
    "        \n",
    "    def attack(self, Q, y_Q, bin_search_steps=5, max_iter=200):\n",
    "        r = []\n",
    "        for i in range(0, len(Q), self.batch_size):\n",
    "            print(\"Running Baseline Attack on instance {} of {}\".format(\n",
    "                i, len(Q)))\n",
    "            r.extend(self.attack_batch(Q[i:i + self.batch_size],\n",
    "                                       y_Q[i:i + self.batch_size],\n",
    "                                       bin_search_steps=bin_search_steps,\n",
    "                                       max_iter=max_iter))\n",
    "        return np.array(r)\n",
    "\n",
    "        \n",
    "    def attack_batch(self, Q, y_Q, bin_search_steps=5, max_iter=200):   \n",
    "        \n",
    "        # Find closest rep of different class\n",
    "        print(\"  Finding nn representation as target...\")\n",
    "        \n",
    "        # TODO: \n",
    "        # nn = find_nn_diff_class_l2(Q, y_Q, self.X, self.y_X, self.m)\n",
    "        nn = find_nn_l2(Q, self.X, self.m)\n",
    "        rep_m = [np.squeeze(rep[nn]) for rep in self.X_rep]\n",
    "        \n",
    "        # Get weights w\n",
    "        w = 2*(self.y_X[nn] == y_Q[:, np.newaxis]).astype(np.float32) - 1\n",
    "        print(np.mean(w == -1, axis=1))\n",
    "        \n",
    "        # Initialize steep\n",
    "        steep = np.ones((self.batch_size, 1, 1))\n",
    "        \n",
    "        # Find nn to target rep to save nn search time during optimization\n",
    "        # check_rep = find_nn(target_rep, self.X_rep, 100)\n",
    "        \n",
    "        # ============ Optimizing with L-inf norm constraints =========== #\n",
    "        # L-BFGS-B optimizer only needs to be called once\n",
    "        if self.pert_norm == np.inf:\n",
    "            self.sess.run(self.init)\n",
    "            Q_batch = Q[:self.batch_size]\n",
    "            const = np.ones(self.batch_size) * self.init_const\n",
    "            \n",
    "            # Set the variables so that we don't have to send them over again\n",
    "            setup_dict = {self.assign_q: Q_batch,\n",
    "                          self.assign_w: w[:, :, np.newaxis],\n",
    "                          self.assign_const: const,\n",
    "                          self.assign_steep: steep}\n",
    "            for l in range(self.n_layers):\n",
    "                setup_dict[self.assign_x[l]] = rep_m[l]\n",
    "            self.sess.run(self.setup, feed_dict=setup_dict)\n",
    "            \n",
    "            # Set up variables bound and optimizer\n",
    "            upper_bound = np.minimum(self.pert_bound, 1 - Q_batch)\n",
    "            lower_bound = np.maximum(-self.pert_bound, -Q_batch)\n",
    "            var_to_bounds = {self.modifier: (lower_bound, upper_bound)}\n",
    "            optimizer = tf.contrib.opt.ScipyOptimizerInterface(\n",
    "                self.loss, \n",
    "                var_list=[self.modifier], \n",
    "                var_to_bounds=var_to_bounds, \n",
    "                method='L-BFGS-B')\n",
    "            \n",
    "            # Call optimizer\n",
    "            optimizer.minimize(self.sess)\n",
    "            return self.sess.run(self.new_q)\n",
    "            \n",
    "        # ============= Optimizing with L2 norm constraints ============ #\n",
    "        o_bestl2 = [1e9] * self.batch_size\n",
    "        o_bestadv = np.zeros_like(Q[:self.batch_size])\n",
    "        \n",
    "        # Set the lower and upper bounds\n",
    "        lower_bound = np.zeros(self.batch_size)\n",
    "        const = np.ones(self.batch_size) * self.init_const\n",
    "        upper_bound = np.ones(self.batch_size) * 1e9\n",
    "       \n",
    "        for outer_step in range(bin_search_steps):\n",
    "\n",
    "            self.sess.run(self.init)\n",
    "            Q_batch = Q[:self.batch_size]\n",
    "            \n",
    "            bestl2 = [1e9] * self.batch_size\n",
    "            bestadv = np.zeros_like(Q_batch)\n",
    "            print(\"  Binary search step {} of {}\".format(\n",
    "                outer_step, bin_search_steps))\n",
    "\n",
    "            # Set the variables so that we don't have to send them over again\n",
    "            setup_dict = {self.assign_q: Q_batch,\n",
    "                          self.assign_w: w[:, :, np.newaxis],\n",
    "                          self.assign_const: const,\n",
    "                          self.assign_steep: steep}\n",
    "            for l in range(self.n_layers):\n",
    "                setup_dict[self.assign_x[l]] = rep_m[l]\n",
    "            self.sess.run(self.setup, feed_dict=setup_dict)\n",
    "\n",
    "            prev = 1e6\n",
    "            for iteration in range(max_iter):\n",
    "                # Take one step in optimization\n",
    "                _, l, l2s, dls, reps, qs = self.sess.run([self.train_step, \n",
    "                                                          self.loss, \n",
    "                                                          self.l2dist,\n",
    "                                                          self.nn_loss,\n",
    "                                                          self.rep, \n",
    "                                                          self.new_q])\n",
    "                # DEBUG\n",
    "#                 print(self.sess.run(self.dist))\n",
    "#                 grad = self.sess.run(self.gradient)\n",
    "#                 print(grad)\n",
    "#                 rep = self.sess.run(self.rep_db)\n",
    "#                 print(rep.shape)\n",
    "#                 print(np.sum(rep**2, axis=2))\n",
    "                \n",
    "                if iteration % ((max_iter // 10) or 1) == 0:\n",
    "                    print((\"    Iteration {} of {}: loss={:.3g} l2={:.3g}\").format(\n",
    "                        iteration, max_iter, l, np.mean(l2s)))\n",
    "                \n",
    "                # Abort early if stop improving\n",
    "                if self.abort_early and iteration % ((max_iter // 10) or 1) == 0:\n",
    "                    if l > prev * .9999:\n",
    "                        print(\"    Failed to make progress; stop early\")\n",
    "                        break\n",
    "                    prev = l\n",
    "                \n",
    "                # Check termination condition\n",
    "                # nn = find_nn(reps, self.X_rep, 1)\n",
    "                # y_pred = classify(nn, self.y_X)\n",
    "                # suc_ind = np.where(y_pred != y_Q)[0]\n",
    "                # suc_ind = np.where(dls <= 1e-1)[0]\n",
    "                if (iteration + 1) % 10 == 0:\n",
    "                    p, _ = dknn_acc(A, get_all_rep_nm(qs), y_Q, query, self.y_X)\n",
    "                    suc_ind = np.where(np.argmax(p, 1) != y_Q)[0]\n",
    "                    for ind in suc_ind:\n",
    "                        if l2s[ind] < bestl2[ind]:\n",
    "                            bestl2[ind] = l2s[ind]\n",
    "                            bestadv[ind] = qs[ind]\n",
    "                        \n",
    "            # Adjust const according to results\n",
    "            for e in range(self.batch_size):\n",
    "                if bestl2[e] < 1e9:\n",
    "                    # Success, divide const by two\n",
    "                    upper_bound[e] = min(upper_bound[e], const[e])\n",
    "                    if upper_bound[e] < 1e9:\n",
    "                        const[e] = (lower_bound[e] + upper_bound[e]) / 2\n",
    "                    if bestl2[e] < o_bestl2[e]:\n",
    "                        o_bestl2[e] = bestl2[e]\n",
    "                        o_bestadv[e] = bestadv[e]\n",
    "                else:\n",
    "                    # Failure, either multiply by 10 if no solution found yet\n",
    "                    #          or do binary search with the known upper bound\n",
    "                    lower_bound[e] = max(lower_bound[e], const[e])\n",
    "                    if upper_bound[e] < 1e9:\n",
    "                        const[e] = (lower_bound[e] + upper_bound[e]) / 2\n",
    "                    else:\n",
    "                        const[e] *= 10\n",
    "                        \n",
    "        return o_bestadv"
   ]
  },
  {
   "cell_type": "code",
   "execution_count": 540,
   "metadata": {},
   "outputs": [],
   "source": [
    "# Try to approximate min_dist (epsilon) by calculating average distance \n",
    "# between queries and their 75th NN\n",
    "min_dist = []\n",
    "for l in range(4):\n",
    "#     nn = find_nn_l2(rep_test_nm[l], rep_train_nm[l], 75)\n",
    "    nn = query_nn(query[l], rep_test_nm[l], 75)\n",
    "    dist = np.sqrt(np.sum((rep_test_nm[l] - rep_train_nm[l][nn[:, -1]])**2, axis=1))\n",
    "    min_dist.append(np.mean(dist))"
   ]
  },
  {
   "cell_type": "code",
   "execution_count": 24,
   "metadata": {},
   "outputs": [],
   "source": [
    "min_dist = [0.7484518915597577, 0.742514077896593, 0.5667317128548899, 0.19457440222463473]"
   ]
  },
  {
   "cell_type": "code",
   "execution_count": 543,
   "metadata": {},
   "outputs": [
    {
     "name": "stdout",
     "output_type": "stream",
     "text": [
      "rep:  [<tf.Tensor 'truediv_470:0' shape=(5, 1, 12544) dtype=float32>, <tf.Tensor 'truediv_471:0' shape=(5, 1, 6272) dtype=float32>, <tf.Tensor 'truediv_472:0' shape=(5, 1, 1152) dtype=float32>, <tf.Tensor 'truediv_473:0' shape=(5, 1, 10) dtype=float32>]\n",
      "dist:  Tensor(\"norm_327/Sqrt:0\", shape=(5, 500, 1), dtype=float32)\n",
      "sigmoid:  Tensor(\"truediv_478:0\", shape=(5, 500, 1), dtype=float32)\n",
      "weights:  Tensor(\"mul_549:0\", shape=(5, 500, 1), dtype=float32)\n",
      "loss:  Tensor(\"Sum_348:0\", shape=(5,), dtype=float32)\n",
      "nn_loss:  Tensor(\"add_558:0\", shape=(5,), dtype=float32)\n"
     ]
    }
   ],
   "source": [
    "attack = AttackV3(sess, model, \n",
    "                  [l1_rep, l2_rep, l3_rep, l4_rep], \n",
    "                  X_train, rep_train_nm, y_train, \n",
    "                  pert_norm=np.inf,\n",
    "                  batch_size=5, \n",
    "                  min_dist=min_dist,\n",
    "                  pert_bound=0.3,\n",
    "                  m=500, \n",
    "                  target_nn=38)"
   ]
  },
  {
   "cell_type": "code",
   "execution_count": 544,
   "metadata": {},
   "outputs": [
    {
     "name": "stdout",
     "output_type": "stream",
     "text": [
      "Running Baseline Attack on instance 0 of 5\n",
      "  Finding nn representation as target...\n",
      "[0.002 0.006 0.35  0.144 0.078]\n",
      "INFO:tensorflow:Optimization terminated with:\n",
      "  Message: b'CONVERGENCE: REL_REDUCTION_OF_F_<=_FACTR*EPSMCH'\n",
      "  Objective function value: 453.059662\n",
      "  Number of iterations: 2081\n",
      "  Number of functions evaluations: 2106\n"
     ]
    }
   ],
   "source": [
    "X_adv = attack.attack(X_37_test[:5], y_37_test[:5])"
   ]
  },
  {
   "cell_type": "code",
   "execution_count": 545,
   "metadata": {},
   "outputs": [
    {
     "name": "stdout",
     "output_type": "stream",
     "text": [
      "0.0\n",
      "[6 6 6 0 0]\n"
     ]
    }
   ],
   "source": [
    "p, acc = dknn_acc(A, get_all_rep_nm(X_adv), y_37_test[:5], query, y_train)\n",
    "print(acc)\n",
    "print(np.argmax(p, 1))"
   ]
  },
  {
   "cell_type": "code",
   "execution_count": 550,
   "metadata": {},
   "outputs": [
    {
     "data": {
      "image/png": "[encoded data removed]",
      "text/plain": [
       "<Figure size 432x288 with 1 Axes>"
      ]
     },
     "metadata": {
      "needs_background": "light"
     },
     "output_type": "display_data"
    },
    {
     "data": {
      "image/png": "[encoded data removed]",
      "text/plain": [
       "<Figure size 432x288 with 1 Axes>"
      ]
     },
     "metadata": {
      "needs_background": "light"
     },
     "output_type": "display_data"
    }
   ],
   "source": [
    "i = 4\n",
    "plt.imshow(X_37_test[i,:,:,0], cmap='gray')\n",
    "plt.show()\n",
    "plt.imshow(X_adv[i,:,:,0], cmap='gray')\n",
    "plt.show()"
   ]
  },
  {
   "cell_type": "code",
   "execution_count": 558,
   "metadata": {},
   "outputs": [
    {
     "name": "stdout",
     "output_type": "stream",
     "text": [
      "rep:  [<tf.Tensor 'truediv_481:0' shape=(5, 1, 12544) dtype=float32>, <tf.Tensor 'truediv_482:0' shape=(5, 1, 6272) dtype=float32>, <tf.Tensor 'truediv_483:0' shape=(5, 1, 1152) dtype=float32>, <tf.Tensor 'truediv_484:0' shape=(5, 1, 10) dtype=float32>]\n",
      "dist:  Tensor(\"norm_335/Sqrt:0\", shape=(5, 500, 1), dtype=float32)\n",
      "sigmoid:  Tensor(\"truediv_489:0\", shape=(5, 500, 1), dtype=float32)\n",
      "weights:  Tensor(\"mul_563:0\", shape=(5, 500, 1), dtype=float32)\n",
      "loss:  Tensor(\"Sum_354:0\", shape=(5,), dtype=float32)\n",
      "nn_loss:  Tensor(\"add_570:0\", shape=(5,), dtype=float32)\n"
     ]
    }
   ],
   "source": [
    "attack = AttackV3(sess, model, \n",
    "                  [l1_rep, l2_rep, l3_rep, l4_rep], \n",
    "                  X_train, rep_train_nm, y_train, \n",
    "                  pert_norm=2,\n",
    "                  batch_size=5, \n",
    "                  min_dist=min_dist,\n",
    "                  pert_bound=0,\n",
    "                  m=500, \n",
    "                  target_nn=38)"
   ]
  },
  {
   "cell_type": "code",
   "execution_count": 559,
   "metadata": {
    "scrolled": true
   },
   "outputs": [
    {
     "name": "stdout",
     "output_type": "stream",
     "text": [
      "Running Baseline Attack on instance 0 of 5\n",
      "  Finding nn representation as target...\n",
      "[0.002 0.006 0.35  0.144 0.078]\n",
      "  Binary search step 0 of 5\n",
      "    Iteration 0 of 200: loss=755 l2=0\n",
      "    Iteration 20 of 200: loss=743 l2=0.186\n",
      "    Iteration 40 of 200: loss=731 l2=0.659\n",
      "    Iteration 60 of 200: loss=717 l2=1.36\n",
      "    Iteration 80 of 200: loss=702 l2=2.31\n",
      "    Iteration 100 of 200: loss=684 l2=3.55\n",
      "    Iteration 120 of 200: loss=664 l2=5.07\n",
      "    Iteration 140 of 200: loss=644 l2=6.81\n",
      "    Iteration 160 of 200: loss=625 l2=8.67\n",
      "    Iteration 180 of 200: loss=608 l2=10.6\n",
      "  Binary search step 1 of 5\n",
      "    Iteration 0 of 200: loss=4.17e+03 l2=0\n",
      "    Iteration 20 of 200: loss=4.12e+03 l2=0.186\n",
      "    Iteration 40 of 200: loss=4.06e+03 l2=0.657\n",
      "    Iteration 60 of 200: loss=4e+03 l2=1.34\n",
      "    Iteration 80 of 200: loss=3.92e+03 l2=2.28\n",
      "    Iteration 100 of 200: loss=3.82e+03 l2=3.46\n",
      "    Iteration 120 of 200: loss=3.71e+03 l2=4.92\n",
      "    Iteration 140 of 200: loss=3.6e+03 l2=6.55\n",
      "    Iteration 160 of 200: loss=3.49e+03 l2=8.27\n",
      "    Iteration 180 of 200: loss=3.4e+03 l2=10.1\n",
      "  Binary search step 2 of 5\n",
      "    Iteration 0 of 200: loss=4e+04 l2=0\n",
      "    Iteration 20 of 200: loss=3.95e+04 l2=0.183\n",
      "    Iteration 40 of 200: loss=3.9e+04 l2=0.636\n",
      "    Iteration 60 of 200: loss=3.84e+04 l2=1.28\n",
      "    Iteration 80 of 200: loss=3.76e+04 l2=2.15\n",
      "    Iteration 100 of 200: loss=3.67e+04 l2=3.23\n",
      "    Iteration 120 of 200: loss=3.56e+04 l2=4.53\n",
      "    Iteration 140 of 200: loss=3.46e+04 l2=5.99\n",
      "    Iteration 160 of 200: loss=3.36e+04 l2=7.51\n",
      "    Iteration 180 of 200: loss=3.27e+04 l2=9.04\n",
      "  Binary search step 3 of 5\n",
      "    Iteration 0 of 200: loss=3.99e+05 l2=0\n",
      "    Iteration 20 of 200: loss=3.94e+05 l2=0.177\n",
      "    Iteration 40 of 200: loss=3.89e+05 l2=0.595\n",
      "    Iteration 60 of 200: loss=3.83e+05 l2=1.17\n",
      "    Iteration 80 of 200: loss=3.75e+05 l2=1.92\n",
      "    Iteration 100 of 200: loss=3.66e+05 l2=2.85\n",
      "    Iteration 120 of 200: loss=3.55e+05 l2=3.96\n",
      "    Iteration 140 of 200: loss=3.45e+05 l2=5.17\n",
      "    Iteration 160 of 200: loss=3.35e+05 l2=6.44\n",
      "    Iteration 180 of 200: loss=3.26e+05 l2=7.73\n",
      "  Binary search step 4 of 5\n",
      "    Iteration 0 of 200: loss=3.99e+06 l2=0\n",
      "    Failed to make progress; stop early\n"
     ]
    }
   ],
   "source": [
    "X_adv = attack.attack(X_37_test[:5], y_37_test[:5])"
   ]
  },
  {
   "cell_type": "code",
   "execution_count": 560,
   "metadata": {},
   "outputs": [
    {
     "name": "stdout",
     "output_type": "stream",
     "text": [
      "0.0\n",
      "[5 5 5 5 5]\n"
     ]
    }
   ],
   "source": [
    "p, acc = dknn_acc(A, get_all_rep_nm(X_adv), y_37_test[:5], query, y_train)\n",
    "print(acc)\n",
    "print(np.argmax(p, 1))"
   ]
  },
  {
   "cell_type": "code",
   "execution_count": 561,
   "metadata": {},
   "outputs": [],
   "source": [
    "alphas, _ = dknn_classify(get_all_rep_nm(X_adv), query, y_train)"
   ]
  },
  {
   "cell_type": "code",
   "execution_count": 562,
   "metadata": {},
   "outputs": [
    {
     "data": {
      "text/plain": [
       "array([[[75., 31., 72., 75., 65., 72., 69., 71., 72., 73.],\n",
       "        [75., 31., 72., 75., 65., 72., 69., 71., 72., 73.],\n",
       "        [73., 75., 75., 38., 75., 47., 74., 75., 68., 75.],\n",
       "        [75., 75., 75., 75., 75., 75., 75.,  1., 75., 74.],\n",
       "        [75., 75., 75., 16., 75., 67., 75., 72., 75., 70.]],\n",
       "\n",
       "       [[74., 74., 62., 56., 74., 67., 65., 65., 65., 73.],\n",
       "        [74., 74., 62., 56., 74., 67., 65., 65., 65., 73.],\n",
       "        [72., 75., 75., 34., 75., 47., 75., 75., 72., 75.],\n",
       "        [75., 75., 75., 75., 75., 75., 75.,  1., 75., 74.],\n",
       "        [75., 75., 75., 29., 75., 51., 75., 74., 75., 71.]],\n",
       "\n",
       "       [[75., 75., 75., 74., 75.,  1., 75., 75., 75., 75.],\n",
       "        [75., 75., 75., 74., 75.,  1., 75., 75., 75., 75.],\n",
       "        [74., 75., 75., 42., 75., 34., 75., 75., 75., 75.],\n",
       "        [75., 75., 75., 73., 75., 15., 75., 63., 75., 74.],\n",
       "        [75., 75., 75., 66., 75.,  9., 75., 75., 75., 75.]],\n",
       "\n",
       "       [[75., 75., 75., 75., 75., 70., 75., 75.,  5., 75.],\n",
       "        [75., 75., 75., 75., 75., 70., 75., 75.,  5., 75.],\n",
       "        [75., 75., 75., 70., 75., 28., 75., 75., 52., 75.],\n",
       "        [75., 75., 75., 74., 75.,  1., 75., 75., 75., 75.],\n",
       "        [75., 75., 75., 73., 75.,  2., 75., 75., 75., 75.]]])"
      ]
     },
     "execution_count": 562,
     "metadata": {},
     "output_type": "execute_result"
    }
   ],
   "source": [
    "alphas"
   ]
  },
  {
   "cell_type": "code",
   "execution_count": 567,
   "metadata": {},
   "outputs": [
    {
     "data": {
      "image/png": "[encoded data removed]",
      "text/plain": [
       "<Figure size 432x288 with 1 Axes>"
      ]
     },
     "metadata": {
      "needs_background": "light"
     },
     "output_type": "display_data"
    },
    {
     "data": {
      "image/png": "[encoded data removed]",
      "text/plain": [
       "<Figure size 432x288 with 1 Axes>"
      ]
     },
     "metadata": {
      "needs_background": "light"
     },
     "output_type": "display_data"
    }
   ],
   "source": [
    "i = 4\n",
    "plt.imshow(X_37_test[i,:,:,0], cmap='gray')\n",
    "plt.show()\n",
    "plt.imshow(X_adv[i,:,:,0], cmap='gray')\n",
    "plt.show()"
   ]
  },
  {
   "cell_type": "code",
   "execution_count": 568,
   "metadata": {},
   "outputs": [
    {
     "data": {
      "text/plain": [
       "array([7.69212263, 8.73673037, 0.84017921, 2.39951935, 2.83094509])"
      ]
     },
     "execution_count": 568,
     "metadata": {},
     "output_type": "execute_result"
    }
   ],
   "source": [
    "np.sqrt(np.sum((X_37_test[:5] - X_adv)**2, (1,2,3)))"
   ]
  },
  {
   "cell_type": "code",
   "execution_count": 24,
   "metadata": {},
   "outputs": [
    {
     "name": "stdout",
     "output_type": "stream",
     "text": [
      "rep:  [<tf.Tensor 'truediv:0' shape=(32, 1, 12544) dtype=float32>, <tf.Tensor 'truediv_1:0' shape=(32, 1, 6272) dtype=float32>, <tf.Tensor 'truediv_2:0' shape=(32, 1, 1152) dtype=float32>, <tf.Tensor 'truediv_3:0' shape=(32, 1, 10) dtype=float32>]\n",
      "dist:  Tensor(\"norm_7/Sqrt:0\", shape=(32, 500, 1), dtype=float32)\n",
      "sigmoid:  Tensor(\"truediv_8:0\", shape=(32, 500, 1), dtype=float32)\n",
      "weights:  Tensor(\"mul_10:0\", shape=(32, 500, 1), dtype=float32)\n",
      "loss:  Tensor(\"Sum_5:0\", shape=(32,), dtype=float32)\n",
      "nn_loss:  Tensor(\"add_8:0\", shape=(32,), dtype=float32)\n"
     ]
    }
   ],
   "source": [
    "attack = AttackV3(sess, model, \n",
    "                  [l1_rep, l2_rep, l3_rep, l4_rep], \n",
    "                  X_train, rep_train_nm, y_train, \n",
    "                  pert_norm=np.inf,\n",
    "                  batch_size=32, \n",
    "                  min_dist=min_dist,\n",
    "                  pert_bound=0.3,\n",
    "                  m=500, \n",
    "                  target_nn=38)"
   ]
  },
  {
   "cell_type": "code",
   "execution_count": null,
   "metadata": {
    "scrolled": true
   },
   "outputs": [
    {
     "name": "stdout",
     "output_type": "stream",
     "text": [
      "Running Baseline Attack on instance 0 of 1888\n",
      "  Finding nn representation as target...\n",
      "[0.002 0.006 0.35  0.144 0.078 0.06  0.016 0.018 0.7   0.222 0.028 0.616\n",
      " 0.182 0.086 0.006 0.268 0.114 0.018 0.696 0.26  0.006 0.206 0.136 0.136\n",
      " 0.712 0.288 0.228 0.272 0.644 0.2   0.038 0.328]\n",
      "INFO:tensorflow:Optimization terminated with:\n",
      "  Message: b'CONVERGENCE: REL_REDUCTION_OF_F_<=_FACTR*EPSMCH'\n",
      "  Objective function value: 303.337769\n",
      "  Number of iterations: 3978\n",
      "  Number of functions evaluations: 3992\n",
      "Running Baseline Attack on instance 32 of 1888\n",
      "  Finding nn representation as target...\n",
      "[0.132 0.286 0.116 0.172 0.828 0.924 0.12  0.666 0.014 0.174 0.002 0.112\n",
      " 0.256 0.21  0.49  0.888 0.024 0.24  0.004 0.046 0.164 0.442 0.262 0.338\n",
      " 0.242 0.182 0.374 0.126 0.142 0.042 0.38  0.016]\n",
      "INFO:tensorflow:Optimization terminated with:\n",
      "  Message: b'CONVERGENCE: REL_REDUCTION_OF_F_<=_FACTR*EPSMCH'\n",
      "  Objective function value: 237.400604\n",
      "  Number of iterations: 1529\n",
      "  Number of functions evaluations: 1549\n",
      "Running Baseline Attack on instance 64 of 1888\n",
      "  Finding nn representation as target...\n",
      "[0.172 0.804 0.734 0.178 0.188 0.94  0.06  0.082 0.142 0.092 0.012 0.532\n",
      " 0.004 0.054 0.086 0.04  0.048 0.558 0.264 0.062 0.338 0.958 0.33  0.088\n",
      " 0.106 0.    0.    0.348 0.492 0.068 0.578 0.408]\n",
      "INFO:tensorflow:Optimization terminated with:\n",
      "  Message: b'CONVERGENCE: REL_REDUCTION_OF_F_<=_FACTR*EPSMCH'\n",
      "  Objective function value: 218.490204\n",
      "  Number of iterations: 2943\n",
      "  Number of functions evaluations: 2954\n",
      "Running Baseline Attack on instance 96 of 1888\n",
      "  Finding nn representation as target...\n",
      "[0.23  0.158 0.604 0.282 0.338 0.97  0.002 0.11  0.378 0.056 0.04  0.022\n",
      " 0.29  0.856 0.086 0.058 0.036 0.144 0.492 0.06  0.002 0.89  0.008 0.034\n",
      " 0.26  0.006 0.08  0.408 0.218 0.896 0.188 0.002]\n",
      "INFO:tensorflow:Optimization terminated with:\n",
      "  Message: b'CONVERGENCE: REL_REDUCTION_OF_F_<=_FACTR*EPSMCH'\n",
      "  Objective function value: 240.123917\n",
      "  Number of iterations: 2950\n",
      "  Number of functions evaluations: 2964\n",
      "Running Baseline Attack on instance 128 of 1888\n",
      "  Finding nn representation as target...\n",
      "[0.126 0.116 0.22  0.856 0.052 0.204 0.634 0.4   0.04  0.124 0.036 0.67\n",
      " 0.318 0.164 0.398 0.15  0.092 0.022 0.046 0.44  0.256 0.076 0.808 0.082\n",
      " 0.036 0.07  0.052 0.01  0.062 0.004 0.014 0.414]\n",
      "INFO:tensorflow:Optimization terminated with:\n",
      "  Message: b'CONVERGENCE: REL_REDUCTION_OF_F_<=_FACTR*EPSMCH'\n",
      "  Objective function value: 305.763733\n",
      "  Number of iterations: 1877\n",
      "  Number of functions evaluations: 1895\n",
      "Running Baseline Attack on instance 160 of 1888\n",
      "  Finding nn representation as target...\n",
      "[0.064 0.216 0.312 0.126 0.204 0.106 0.112 0.03  0.088 0.01  0.568 0.132\n",
      " 0.336 0.322 0.788 0.08  0.012 0.008 0.026 0.054 0.84  0.088 0.592 0.004\n",
      " 0.782 0.286 0.542 0.504 0.252 0.776 0.352 0.456]\n",
      "INFO:tensorflow:Optimization terminated with:\n",
      "  Message: b'CONVERGENCE: REL_REDUCTION_OF_F_<=_FACTR*EPSMCH'\n",
      "  Objective function value: 206.146271\n",
      "  Number of iterations: 4681\n",
      "  Number of functions evaluations: 4693\n",
      "Running Baseline Attack on instance 192 of 1888\n",
      "  Finding nn representation as target...\n",
      "[0.108 0.228 0.124 0.582 0.134 0.016 0.212 0.988 0.088 0.402 0.964 0.14\n",
      " 0.164 0.214 0.046 0.562 0.54  0.77  0.11  0.632 0.114 0.002 0.024 0.054\n",
      " 0.006 0.576 0.562 0.666 0.27  0.026 0.516 0.814]\n",
      "INFO:tensorflow:Optimization terminated with:\n",
      "  Message: b'CONVERGENCE: REL_REDUCTION_OF_F_<=_FACTR*EPSMCH'\n",
      "  Objective function value: 132.181335\n",
      "  Number of iterations: 3802\n",
      "  Number of functions evaluations: 3815\n",
      "Running Baseline Attack on instance 224 of 1888\n",
      "  Finding nn representation as target...\n",
      "[0.242 0.022 0.028 0.102 0.154 0.38  0.422 0.03  0.034 0.686 0.022 0.882\n",
      " 0.014 0.742 0.626 0.232 0.976 0.282 0.418 0.098 0.986 0.134 0.096 0.008\n",
      " 0.924 0.05  0.402 0.196 0.41  0.286 0.044 0.47 ]\n",
      "INFO:tensorflow:Optimization terminated with:\n",
      "  Message: b'CONVERGENCE: REL_REDUCTION_OF_F_<=_FACTR*EPSMCH'\n",
      "  Objective function value: 134.364288\n",
      "  Number of iterations: 8098\n",
      "  Number of functions evaluations: 8140\n",
      "Running Baseline Attack on instance 256 of 1888\n",
      "  Finding nn representation as target...\n",
      "[0.014 0.41  0.296 0.488 0.18  0.202 0.024 0.008 0.    0.268 0.812 0.026\n",
      " 0.228 0.05  0.016 0.514 0.01  0.062 0.054 0.126 0.53  0.516 0.59  0.\n",
      " 0.002 0.14  0.348 0.172 0.146 0.05  0.156 0.764]\n",
      "INFO:tensorflow:Optimization terminated with:\n",
      "  Message: b'CONVERGENCE: REL_REDUCTION_OF_F_<=_FACTR*EPSMCH'\n",
      "  Objective function value: 295.391357\n",
      "  Number of iterations: 2034\n",
      "  Number of functions evaluations: 2052\n",
      "Running Baseline Attack on instance 288 of 1888\n",
      "  Finding nn representation as target...\n",
      "[0.3   0.05  0.098 0.258 0.004 0.036 0.044 0.444 0.072 0.498 0.124 0.438\n",
      " 0.03  0.162 0.2   0.72  0.046 0.192 0.802 0.618 0.112 0.118 0.16  0.022\n",
      " 0.164 0.56  0.046 0.49  0.996 0.008 0.118 0.008]\n",
      "INFO:tensorflow:Optimization terminated with:\n",
      "  Message: b'CONVERGENCE: REL_REDUCTION_OF_F_<=_FACTR*EPSMCH'\n",
      "  Objective function value: 250.047791\n",
      "  Number of iterations: 11455\n",
      "  Number of functions evaluations: 11490\n",
      "Running Baseline Attack on instance 320 of 1888\n",
      "  Finding nn representation as target...\n",
      "[0.184 0.03  0.03  0.884 0.942 0.632 0.766 0.114 0.046 0.01  0.804 0.012\n",
      " 0.25  0.796 0.954 0.354 0.302 0.172 0.036 0.08  0.082 0.196 0.002 0.272\n",
      " 0.07  0.23  0.216 0.002 0.058 0.004 0.022 0.164]\n",
      "INFO:tensorflow:Optimization terminated with:\n",
      "  Message: b'CONVERGENCE: REL_REDUCTION_OF_F_<=_FACTR*EPSMCH'\n",
      "  Objective function value: 200.510437\n",
      "  Number of iterations: 3083\n",
      "  Number of functions evaluations: 3096\n",
      "Running Baseline Attack on instance 352 of 1888\n",
      "  Finding nn representation as target...\n",
      "[0.532 0.442 0.21  0.092 0.    0.018 0.468 0.096 0.624 0.214 0.13  0.774\n",
      " 0.216 0.004 0.024 0.028 0.    0.518 0.028 0.    0.104 0.    0.046 0.18\n",
      " 0.19  0.104 0.148 0.66  0.92  0.062 0.764 0.33 ]\n",
      "INFO:tensorflow:Optimization terminated with:\n",
      "  Message: b'CONVERGENCE: REL_REDUCTION_OF_F_<=_FACTR*EPSMCH'\n",
      "  Objective function value: 259.219849\n",
      "  Number of iterations: 3480\n",
      "  Number of functions evaluations: 3495\n",
      "Running Baseline Attack on instance 384 of 1888\n",
      "  Finding nn representation as target...\n",
      "[0.754 0.004 0.04  0.018 0.174 0.272 0.996 0.1   0.812 0.09  0.18  0.018\n",
      " 0.318 0.206 0.03  0.324 0.438 0.968 0.226 0.048 0.06  0.092 0.012 0.144\n",
      " 0.256 0.214 0.002 0.5   0.    0.166 0.224 0.048]\n",
      "INFO:tensorflow:Optimization terminated with:\n",
      "  Message: b'CONVERGENCE: REL_REDUCTION_OF_F_<=_FACTR*EPSMCH'\n",
      "  Objective function value: 265.013306\n",
      "  Number of iterations: 4291\n",
      "  Number of functions evaluations: 4309\n",
      "Running Baseline Attack on instance 416 of 1888\n",
      "  Finding nn representation as target...\n",
      "[0.026 0.02  0.006 0.156 0.092 0.212 0.1   0.206 0.004 0.036 0.004 0.492\n",
      " 0.008 0.13  0.    0.274 0.236 0.222 0.014 0.028 0.608 0.23  0.228 0.134\n",
      " 0.15  0.916 0.012 0.166 0.026 0.526 0.06  0.148]\n",
      "INFO:tensorflow:Optimization terminated with:\n",
      "  Message: b'CONVERGENCE: REL_REDUCTION_OF_F_<=_FACTR*EPSMCH'\n",
      "  Objective function value: 363.231262\n",
      "  Number of iterations: 3984\n",
      "  Number of functions evaluations: 4004\n",
      "Running Baseline Attack on instance 448 of 1888\n",
      "  Finding nn representation as target...\n",
      "[0.168 0.124 0.052 0.002 0.282 0.002 0.064 0.05  0.386 0.    0.388 0.162\n",
      " 0.21  0.084 0.23  0.002 0.088 0.196 0.036 0.102 0.086 0.336 0.154 0.674\n",
      " 0.148 0.354 0.822 0.518 0.24  0.338 0.24  0.018]\n",
      "INFO:tensorflow:Optimization terminated with:\n",
      "  Message: b'ABNORMAL_TERMINATION_IN_LNSRCH'\n",
      "  Objective function value: 321.648560\n",
      "  Number of iterations: 3193\n",
      "  Number of functions evaluations: 3234\n",
      "Running Baseline Attack on instance 480 of 1888\n",
      "  Finding nn representation as target...\n",
      "[0.6   0.004 0.668 0.024 0.14  0.092 0.152 0.806 0.166 0.326 0.15  0.024\n",
      " 0.002 0.08  0.992 0.234 0.366 0.102 0.27  0.214 0.25  0.11  0.06  0.216\n",
      " 0.484 0.074 0.35  0.058 0.556 0.    0.168 0.436]\n",
      "INFO:tensorflow:Optimization terminated with:\n",
      "  Message: b'CONVERGENCE: REL_REDUCTION_OF_F_<=_FACTR*EPSMCH'\n",
      "  Objective function value: 238.747467\n",
      "  Number of iterations: 1674\n",
      "  Number of functions evaluations: 1694\n",
      "Running Baseline Attack on instance 512 of 1888\n",
      "  Finding nn representation as target...\n",
      "[0.896 0.644 0.356 0.084 0.752 0.238 0.3   0.07  0.392 0.138 0.804 0.308\n",
      " 0.01  0.104 0.39  0.276 0.592 0.502 0.008 0.    0.044 0.044 0.092 0.\n",
      " 0.494 0.372 0.016 0.254 0.002 0.286 0.146 0.006]\n"
     ]
    },
    {
     "name": "stdout",
     "output_type": "stream",
     "text": [
      "INFO:tensorflow:Optimization terminated with:\n",
      "  Message: b'ABNORMAL_TERMINATION_IN_LNSRCH'\n",
      "  Objective function value: 237.117310\n",
      "  Number of iterations: 5621\n",
      "  Number of functions evaluations: 5662\n",
      "Running Baseline Attack on instance 544 of 1888\n",
      "  Finding nn representation as target...\n",
      "[0.248 0.002 0.112 0.576 0.436 0.344 0.15  0.868 0.348 0.808 0.37  0.73\n",
      " 0.026 0.12  0.002 0.024 0.038 0.198 0.724 0.294 0.194 0.042 0.102 0.214\n",
      " 0.14  0.042 0.54  0.036 0.062 0.226 0.418 0.192]\n",
      "INFO:tensorflow:Optimization terminated with:\n",
      "  Message: b'CONVERGENCE: REL_REDUCTION_OF_F_<=_FACTR*EPSMCH'\n",
      "  Objective function value: 235.618835\n",
      "  Number of iterations: 2763\n",
      "  Number of functions evaluations: 2781\n",
      "Running Baseline Attack on instance 576 of 1888\n",
      "  Finding nn representation as target...\n",
      "[0.12  0.002 0.864 0.    0.016 0.074 0.082 0.304 0.25  0.162 0.362 0.048\n",
      " 0.352 0.112 0.06  0.492 0.806 0.472 0.102 0.246 0.396 0.004 0.148 0.18\n",
      " 0.964 0.388 0.672 0.01  0.006 0.812 0.894 0.03 ]\n",
      "INFO:tensorflow:Optimization terminated with:\n",
      "  Message: b'CONVERGENCE: REL_REDUCTION_OF_F_<=_FACTR*EPSMCH'\n",
      "  Objective function value: 179.510544\n",
      "  Number of iterations: 1240\n",
      "  Number of functions evaluations: 1255\n",
      "Running Baseline Attack on instance 608 of 1888\n",
      "  Finding nn representation as target...\n",
      "[0.034 0.212 0.532 0.354 0.074 0.482 0.044 0.046 0.926 0.654 0.084 0.25\n",
      " 0.896 0.544 0.232 0.244 0.204 0.352 0.026 0.016 0.136 0.498 0.298 0.002\n",
      " 0.004 0.656 0.104 0.002 0.916 0.084 0.204 0.052]\n"
     ]
    }
   ],
   "source": [
    "X_adv = attack.attack(X_37_test, y_37_test)"
   ]
  },
  {
   "cell_type": "code",
   "execution_count": 32,
   "metadata": {},
   "outputs": [
    {
     "name": "stdout",
     "output_type": "stream",
     "text": [
      "0.0026483050847457626\n"
     ]
    }
   ],
   "source": [
    "p, acc = dknn_acc(A, get_all_rep_nm(X_adv), y_37_test, query, y_train)\n",
    "print(acc)"
   ]
  },
  {
   "cell_type": "code",
   "execution_count": 33,
   "metadata": {},
   "outputs": [
    {
     "name": "stdout",
     "output_type": "stream",
     "text": [
      "1888/1888 [==============================] - 1s 465us/step\n"
     ]
    },
    {
     "data": {
      "text/plain": [
       "[6.7309036820621815, 0.0]"
      ]
     },
     "execution_count": 33,
     "metadata": {},
     "output_type": "execute_result"
    }
   ],
   "source": [
    "model.evaluate(X_adv, y_37_test)"
   ]
  },
  {
   "cell_type": "code",
   "execution_count": 34,
   "metadata": {},
   "outputs": [
    {
     "data": {
      "image/png": "[encoded data removed]",
      "text/plain": [
       "<Figure size 432x288 with 1 Axes>"
      ]
     },
     "metadata": {
      "needs_background": "light"
     },
     "output_type": "display_data"
    },
    {
     "data": {
      "image/png": "[encoded data removed]",
      "text/plain": [
       "<Figure size 432x288 with 1 Axes>"
      ]
     },
     "metadata": {
      "needs_background": "light"
     },
     "output_type": "display_data"
    }
   ],
   "source": [
    "i = 4\n",
    "plt.imshow(X_37_test[i,:,:,0], cmap='gray')\n",
    "plt.show()\n",
    "plt.imshow(X_adv[i,:,:,0], cmap='gray')\n",
    "plt.show()"
   ]
  },
  {
   "cell_type": "code",
   "execution_count": null,
   "metadata": {},
   "outputs": [],
   "source": []
  },
  {
   "cell_type": "markdown",
   "metadata": {},
   "source": [
    "---\n",
    "\n",
    "## AttackV4"
   ]
  },
  {
   "cell_type": "code",
   "execution_count": 57,
   "metadata": {},
   "outputs": [],
   "source": [
    "class AttackV4(object):\n",
    "    \n",
    "    def __init__(self, sess, model, get_rep, X, X_rep, y_X, \n",
    "                 pert_norm=np.inf, batch_size=1000, lr=1e-3, \n",
    "                 abort_early=True, init_const=1, pert_bound=0.3,\n",
    "                 min_dist=None, m=100, target_nn=38):\n",
    "        \"\"\"\n",
    "        X_rep must be normalized and flattened\n",
    "        m: (int) number of neighbors to consider\n",
    "        \"\"\"\n",
    "    \n",
    "        self.sess = sess\n",
    "        self.model = model\n",
    "        self.X = X\n",
    "        self.X_rep = X_rep\n",
    "        self.y_X = y_X\n",
    "        self.n_layers = len(X_rep)\n",
    "        self.batch_size = batch_size\n",
    "        self.abort_early = abort_early\n",
    "        self.init_const = init_const\n",
    "        self.pert_norm = pert_norm\n",
    "        self.pert_bound = pert_bound\n",
    "        # If min_dist is not given, assign arbritary number\n",
    "        if min_dist is None:\n",
    "            min_dist = [0.1]*self.n_layers\n",
    "        self.min_dist = min_dist\n",
    "        self.m = m\n",
    "        self.target_nn = target_nn\n",
    "        \n",
    "        assert self.n_layers == len(get_rep)\n",
    "        \n",
    "        input_ndim = X.ndim\n",
    "        input_axis = np.arange(1, input_ndim)\n",
    "        input_shape = (batch_size, ) + X.shape[1:]\n",
    "\n",
    "        \n",
    "        # =============== Set up variables and placeholders =============== #\n",
    "        # Objective variable\n",
    "        modifier = tf.Variable(np.zeros(input_shape), dtype=tf.float32)\n",
    "\n",
    "        # These are variables to be more efficient in sending data to tf\n",
    "        q_var = tf.Variable(np.zeros(input_shape), dtype=tf.float32, name='q_var')\n",
    "        x_var = []\n",
    "        for l in range(self.n_layers):\n",
    "            rep_shape = (batch_size, m, X_rep[l].shape[1])\n",
    "            x_var.append(tf.Variable(np.zeros(rep_shape), \n",
    "                                     dtype=tf.float32, \n",
    "                                     name='x_var_{}'.format(l)))\n",
    "        w_var = tf.Variable(np.zeros((batch_size, m, 1)), \n",
    "                            dtype=tf.float32, \n",
    "                            name='w_var_{}'.format(l))\n",
    "        const_var = tf.Variable(\n",
    "            np.zeros(batch_size), dtype=tf.float32, name='const_var')\n",
    "        steep_var = tf.Variable(\n",
    "            np.zeros((batch_size, 1, 1)), dtype=tf.float32, name='const_var')\n",
    "\n",
    "        # and here's what we use to assign them\n",
    "        self.assign_q = tf.placeholder(tf.float32, input_shape, name='assign_q')\n",
    "        self.assign_x = []\n",
    "        for l in range(self.n_layers):\n",
    "            rep_shape = (batch_size, m, X_rep[l].shape[1])\n",
    "            self.assign_x.append(tf.placeholder(tf.float32, \n",
    "                                                rep_shape, \n",
    "                                                name='assign_x_{}'.format(l)))\n",
    "        self.assign_w = tf.placeholder(\n",
    "            tf.float32, [batch_size, m, 1], name='assign_w_{}'.format(l))\n",
    "        self.assign_const = tf.placeholder(\n",
    "            tf.float32, [batch_size], name='assign_const')\n",
    "        self.assign_steep = tf.placeholder(\n",
    "            tf.float32, [batch_size, 1, 1], name='assign_steep')\n",
    "\n",
    "        \n",
    "        # ================= Get reprentation tensor ================= #\n",
    "        # Clip to ensure pixel value is between 0 and 1\n",
    "        self.new_q = tf.clip_by_value(q_var + modifier, 0., 1.)\n",
    "        self.rep = []\n",
    "        for l in range(self.n_layers):\n",
    "            rep = get_rep[l](self.new_q)\n",
    "            rep = tf.reshape(rep, [batch_size, 1, -1])\n",
    "            rep = rep / tf.norm(rep, axis=2, keepdims=True)\n",
    "            self.rep.append(rep)\n",
    "\n",
    "        # L2 perturbation loss\n",
    "        l2dist = tf.reduce_sum(tf.square(modifier), input_axis)\n",
    "        self.l2dist = tf.maximum(0., l2dist - self.pert_bound**2)\n",
    "        \n",
    "        \n",
    "        # ================== Approximate NN loss ================== #\n",
    "        def sigmoid(x, a=1):\n",
    "            return 1/(1 + tf.exp(-a*x))\n",
    "        \n",
    "        self.nn_loss = 0\n",
    "        for l in range(self.n_layers):\n",
    "            dist = tf.norm(self.rep[l] - x_var[l], axis=2, keepdims=True)\n",
    "            self.nn_loss += tf.reduce_sum(\n",
    "                w_var * sigmoid(min_dist[l] - dist, steep_var), (1, 2))\n",
    "        \n",
    "        \n",
    "        # ==================== Setup optimizer ==================== #\n",
    "        start_vars = set(x.name for x in tf.global_variables())\n",
    "        if pert_norm == 2:\n",
    "            # For L-2 norm constraint, we use Adam optimizer with\n",
    "            # a penalty term\n",
    "            self.loss = tf.reduce_mean(const_var*self.nn_loss + self.l2dist)\n",
    "            optimizer = tf.train.AdamOptimizer(lr)\n",
    "            self.train_step = optimizer.minimize(self.loss, var_list=[modifier])\n",
    "        elif pert_norm == np.inf:\n",
    "            # For L-inf norm constraint, we use L-BFGS-B optimizer \n",
    "            # to provide correct bound, optimizer setup is moved to attack()\n",
    "            self.loss = tf.reduce_mean(self.nn_loss)\n",
    "            self.modifier = modifier\n",
    "        else:\n",
    "            raise ValueError('Invalid choice for perturbation norm!')\n",
    "            \n",
    "            \n",
    "        # DEBUG\n",
    "        self.dist = dist\n",
    "        self.rep_db = rep\n",
    "        self.gradient = tf.gradients(self.nn_loss, modifier)\n",
    "        print('rep: ', self.rep)\n",
    "        # dist: (batch_size, m, 1)\n",
    "        print('dist: ', dist)\n",
    "        # sigmoid: (batch_size, m, 1)\n",
    "        print('sigmoid: ', sigmoid(min_dist[l] - dist, steep_var))\n",
    "        # weights: (batch_size, m, 1)\n",
    "        print('weights: ', w_var * sigmoid(min_dist[l] - dist, steep_var))\n",
    "        # loss, nn_loss: (batch_size, )\n",
    "        print('loss: ', tf.reduce_sum(\n",
    "            w_var * sigmoid(min_dist[l] - dist, steep_var), (1, 2)))\n",
    "        print('nn_loss: ', self.nn_loss)\n",
    "        \n",
    "            \n",
    "        end_vars = tf.global_variables()\n",
    "        new_vars = [x for x in end_vars if x.name not in start_vars]\n",
    "\n",
    "        self.setup = []\n",
    "        self.setup.append(q_var.assign(self.assign_q))\n",
    "        self.setup.extend([x_var[l].assign(self.assign_x[l]) \n",
    "                           for l in range(self.n_layers)])\n",
    "        self.setup.append(w_var.assign(self.assign_w))\n",
    "        self.setup.append(steep_var.assign(self.assign_steep))\n",
    "        self.setup.append(const_var.assign(self.assign_const))\n",
    "        self.init = tf.variables_initializer(var_list=[modifier] + new_vars)\n",
    "        \n",
    "        \n",
    "    def attack(self, Q, y_Q, bin_search_steps=5, max_iter=200):\n",
    "        r = []\n",
    "        for i in range(0, len(Q), self.batch_size):\n",
    "            print(\"Running Baseline Attack on instance {} of {}\".format(\n",
    "                i, len(Q)))\n",
    "            r.extend(self.attack_batch(Q[i:i + self.batch_size],\n",
    "                                       y_Q[i:i + self.batch_size],\n",
    "                                       bin_search_steps=bin_search_steps,\n",
    "                                       max_iter=max_iter))\n",
    "        return np.array(r)\n",
    "\n",
    "        \n",
    "    def attack_batch(self, Q, y_Q, bin_search_steps=5, max_iter=200):   \n",
    "        \n",
    "        # Find closest rep of different class\n",
    "        print(\"  Finding nn representation as target...\")\n",
    "        \n",
    "        # TODO: \n",
    "        # nn = find_nn_diff_class_l2(Q, y_Q, self.X, self.y_X, self.m)\n",
    "        # nn = find_nn_l2(Q, self.X, self.m)\n",
    "        nn = find_2nd_nn_l2(Q, self.X, self.m)\n",
    "        \n",
    "        rep_m = [np.squeeze(rep[nn]) for rep in self.X_rep]\n",
    "        \n",
    "        # Get weights w\n",
    "        w = 2*(self.y_X[nn] == y_Q[:, np.newaxis]).astype(np.float32) - 1\n",
    "        print(np.mean(w == -1, axis=1))\n",
    "        \n",
    "        # Initialize steep\n",
    "        steep = np.ones((self.batch_size, 1, 1))\n",
    "        \n",
    "        # Find nn to target rep to save nn search time during optimization\n",
    "        # check_rep = find_nn(target_rep, self.X_rep, 100)\n",
    "        \n",
    "        # ============ Optimizing with L-inf norm constraints =========== #\n",
    "        # L-BFGS-B optimizer only needs to be called once\n",
    "        if self.pert_norm == np.inf:\n",
    "            self.sess.run(self.init)\n",
    "            Q_batch = Q[:self.batch_size]\n",
    "            const = np.ones(self.batch_size) * self.init_const\n",
    "            \n",
    "            # Set the variables so that we don't have to send them over again\n",
    "            setup_dict = {self.assign_q: Q_batch,\n",
    "                          self.assign_w: w[:, :, np.newaxis],\n",
    "                          self.assign_const: const,\n",
    "                          self.assign_steep: steep}\n",
    "            for l in range(self.n_layers):\n",
    "                setup_dict[self.assign_x[l]] = rep_m[l]\n",
    "            self.sess.run(self.setup, feed_dict=setup_dict)\n",
    "            \n",
    "            # Set up variables bound and optimizer\n",
    "            upper_bound = np.minimum(self.pert_bound, 1 - Q_batch)\n",
    "            lower_bound = np.maximum(-self.pert_bound, -Q_batch)\n",
    "            var_to_bounds = {self.modifier: (lower_bound, upper_bound)}\n",
    "            optimizer = tf.contrib.opt.ScipyOptimizerInterface(\n",
    "                self.loss, \n",
    "                var_list=[self.modifier], \n",
    "                var_to_bounds=var_to_bounds, \n",
    "                method='L-BFGS-B')\n",
    "            \n",
    "            # Call optimizer\n",
    "            optimizer.minimize(self.sess)\n",
    "            return self.sess.run(self.new_q)\n",
    "            \n",
    "        # ============= Optimizing with L2 norm constraints ============ #\n",
    "        o_bestl2 = [1e9] * self.batch_size\n",
    "        o_bestadv = np.zeros_like(Q[:self.batch_size])\n",
    "        \n",
    "        # Set the lower and upper bounds\n",
    "        lower_bound = np.zeros(self.batch_size)\n",
    "        const = np.ones(self.batch_size) * self.init_const\n",
    "        upper_bound = np.ones(self.batch_size) * 1e9\n",
    "       \n",
    "        for outer_step in range(bin_search_steps):\n",
    "\n",
    "            self.sess.run(self.init)\n",
    "            Q_batch = Q[:self.batch_size]\n",
    "            \n",
    "            bestl2 = [1e9] * self.batch_size\n",
    "            bestadv = np.zeros_like(Q_batch)\n",
    "            print(\"  Binary search step {} of {}\".format(\n",
    "                outer_step, bin_search_steps))\n",
    "\n",
    "            # Set the variables so that we don't have to send them over again\n",
    "            setup_dict = {self.assign_q: Q_batch,\n",
    "                          self.assign_w: w[:, :, np.newaxis],\n",
    "                          self.assign_const: const,\n",
    "                          self.assign_steep: steep}\n",
    "            for l in range(self.n_layers):\n",
    "                setup_dict[self.assign_x[l]] = rep_m[l]\n",
    "            self.sess.run(self.setup, feed_dict=setup_dict)\n",
    "\n",
    "            prev = 1e6\n",
    "            for iteration in range(max_iter):\n",
    "                # Take one step in optimization\n",
    "                _, l, l2s, dls, reps, qs = self.sess.run([self.train_step, \n",
    "                                                          self.loss, \n",
    "                                                          self.l2dist,\n",
    "                                                          self.nn_loss,\n",
    "                                                          self.rep, \n",
    "                                                          self.new_q])\n",
    "                # DEBUG\n",
    "#                 print(self.sess.run(self.dist))\n",
    "#                 grad = self.sess.run(self.gradient)\n",
    "#                 print(grad)\n",
    "#                 rep = self.sess.run(self.rep_db)\n",
    "#                 print(rep.shape)\n",
    "#                 print(np.sum(rep**2, axis=2))\n",
    "                \n",
    "                if iteration % ((max_iter // 10) or 1) == 0:\n",
    "                    print((\"    Iteration {} of {}: loss={:.3g} l2={:.3g}\").format(\n",
    "                        iteration, max_iter, l, np.mean(l2s)))\n",
    "                \n",
    "                # Abort early if stop improving\n",
    "                if self.abort_early and iteration % ((max_iter // 10) or 1) == 0:\n",
    "                    if l > prev * .9999:\n",
    "                        print(\"    Failed to make progress; stop early\")\n",
    "                        break\n",
    "                    prev = l\n",
    "                \n",
    "                # Check termination condition\n",
    "                # nn = find_nn(reps, self.X_rep, 1)\n",
    "                # y_pred = classify(nn, self.y_X)\n",
    "                # suc_ind = np.where(y_pred != y_Q)[0]\n",
    "                # suc_ind = np.where(dls <= 1e-1)[0]\n",
    "                if (iteration + 1) % 10 == 0:\n",
    "                    p, _ = dknn_acc(A, get_all_rep_nm(qs), y_Q, query, self.y_X)\n",
    "                    suc_ind = np.where(np.argmax(p, 1) != y_Q)[0]\n",
    "                    for ind in suc_ind:\n",
    "                        if l2s[ind] < bestl2[ind]:\n",
    "                            bestl2[ind] = l2s[ind]\n",
    "                            bestadv[ind] = qs[ind]\n",
    "                        \n",
    "            # Adjust const according to results\n",
    "            for e in range(self.batch_size):\n",
    "                if bestl2[e] < 1e9:\n",
    "                    # Success, divide const by two\n",
    "                    upper_bound[e] = min(upper_bound[e], const[e])\n",
    "                    if upper_bound[e] < 1e9:\n",
    "                        const[e] = (lower_bound[e] + upper_bound[e]) / 2\n",
    "                    if bestl2[e] < o_bestl2[e]:\n",
    "                        o_bestl2[e] = bestl2[e]\n",
    "                        o_bestadv[e] = bestadv[e]\n",
    "                else:\n",
    "                    # Failure, either multiply by 10 if no solution found yet\n",
    "                    #          or do binary search with the known upper bound\n",
    "                    lower_bound[e] = max(lower_bound[e], const[e])\n",
    "                    if upper_bound[e] < 1e9:\n",
    "                        const[e] = (lower_bound[e] + upper_bound[e]) / 2\n",
    "                    else:\n",
    "                        const[e] *= 10\n",
    "                        \n",
    "        return o_bestadv"
   ]
  },
  {
   "cell_type": "code",
   "execution_count": 21,
   "metadata": {},
   "outputs": [],
   "source": [
    "def find_2nd_nn_l2(Q, y_Q, X, y_X, k):\n",
    "    assert Q.shape[1:] == X.shape[1:]\n",
    "    nn = np.zeros((len(Q), k), dtype=np.int32)\n",
    "    axis = tuple(np.arange(1, X.ndim, dtype=np.int32))\n",
    "    for i, q in enumerate(Q):\n",
    "        dist = np.sum((X - q)**2, axis=axis)\n",
    "        ind = np.argsort(dist)\n",
    "        mean_dist = np.zeros((10,))\n",
    "        for j in range(10):\n",
    "            ind_j = ind[y_X[ind] == j]\n",
    "            dist_j = dist[ind_j][:k]\n",
    "            mean_dist[j] = np.mean(dist_j)\n",
    "        ind_dist = np.argsort(mean_dist)\n",
    "        if ind_dist[0] == y_Q[i]:\n",
    "            nn[i] = ind[y_X[ind] == ind_dist[1]][:k]\n",
    "        else:\n",
    "            nn[i] = ind[y_X[ind] == ind_dist[0]][:k]\n",
    "    return nn"
   ]
  },
  {
   "cell_type": "code",
   "execution_count": 75,
   "metadata": {},
   "outputs": [
    {
     "name": "stdout",
     "output_type": "stream",
     "text": [
      "rep:  [<tf.Tensor 'truediv_22:0' shape=(5, 1, 12544) dtype=float32>, <tf.Tensor 'truediv_23:0' shape=(5, 1, 6272) dtype=float32>, <tf.Tensor 'truediv_24:0' shape=(5, 1, 1152) dtype=float32>, <tf.Tensor 'truediv_25:0' shape=(5, 1, 10) dtype=float32>]\n",
      "dist:  Tensor(\"norm_23/Sqrt:0\", shape=(5, 500, 1), dtype=float32)\n",
      "sigmoid:  Tensor(\"truediv_30:0\", shape=(5, 500, 1), dtype=float32)\n",
      "weights:  Tensor(\"mul_36:0\", shape=(5, 500, 1), dtype=float32)\n",
      "loss:  Tensor(\"Sum_17:0\", shape=(5,), dtype=float32)\n",
      "nn_loss:  Tensor(\"add_32:0\", shape=(5,), dtype=float32)\n"
     ]
    }
   ],
   "source": [
    "attack = AttackV4(sess, model, \n",
    "                  [l1_rep, l2_rep, l3_rep, l4_rep], \n",
    "                  X_train, rep_train_nm, y_train, \n",
    "                  pert_norm=np.inf,\n",
    "                  batch_size=5, \n",
    "                  min_dist=[0.1, 0.1, 0.1, 0.1],\n",
    "                  pert_bound=0.3,\n",
    "                  m=500, \n",
    "                  target_nn=38)"
   ]
  },
  {
   "cell_type": "code",
   "execution_count": 76,
   "metadata": {},
   "outputs": [
    {
     "name": "stdout",
     "output_type": "stream",
     "text": [
      "Running Baseline Attack on instance 0 of 5\n",
      "  Finding nn representation as target...\n",
      "[1. 1. 1. 1. 1.]\n",
      "INFO:tensorflow:Optimization terminated with:\n",
      "  Message: b'CONVERGENCE: REL_REDUCTION_OF_F_<=_FACTR*EPSMCH'\n",
      "  Objective function value: -732.149109\n",
      "  Number of iterations: 259\n",
      "  Number of functions evaluations: 276\n"
     ]
    }
   ],
   "source": [
    "X_adv = attack.attack(X_37_test[:5], y_37_test[:5])"
   ]
  },
  {
   "cell_type": "code",
   "execution_count": 77,
   "metadata": {},
   "outputs": [
    {
     "name": "stdout",
     "output_type": "stream",
     "text": [
      "0.0\n",
      "[9 9 5 9 5]\n"
     ]
    }
   ],
   "source": [
    "p, acc = dknn_acc(A, get_all_rep_nm(X_adv), y_37_test[:5], query, y_train)\n",
    "print(acc)\n",
    "print(np.argmax(p, 1))"
   ]
  },
  {
   "cell_type": "code",
   "execution_count": 78,
   "metadata": {},
   "outputs": [
    {
     "data": {
      "text/plain": [
       "array([0.16666667, 0.08666667, 0.1       , 0.26133333, 0.132     ])"
      ]
     },
     "execution_count": 78,
     "metadata": {},
     "output_type": "execute_result"
    }
   ],
   "source": [
    "np.max(p, 1)"
   ]
  },
  {
   "cell_type": "code",
   "execution_count": 79,
   "metadata": {},
   "outputs": [
    {
     "data": {
      "text/plain": [
       "array([[0.        , 0.        , 0.        , 0.        , 0.        ,\n",
       "        0.        , 0.        , 0.        , 0.        , 0.16666667],\n",
       "       [0.        , 0.        , 0.        , 0.        , 0.        ,\n",
       "        0.        , 0.        , 0.00133333, 0.        , 0.08666667],\n",
       "       [0.        , 0.        , 0.        , 0.00133333, 0.        ,\n",
       "        0.1       , 0.        , 0.        , 0.        , 0.        ],\n",
       "       [0.        , 0.        , 0.        , 0.        , 0.        ,\n",
       "        0.        , 0.        , 0.        , 0.        , 0.26133333],\n",
       "       [0.        , 0.        , 0.        , 0.        , 0.        ,\n",
       "        0.132     , 0.        , 0.        , 0.        , 0.        ]])"
      ]
     },
     "execution_count": 79,
     "metadata": {},
     "output_type": "execute_result"
    }
   ],
   "source": [
    "p"
   ]
  },
  {
   "cell_type": "code",
   "execution_count": 84,
   "metadata": {},
   "outputs": [
    {
     "data": {
      "image/png": "[encoded data removed]",
      "text/plain": [
       "<Figure size 432x288 with 1 Axes>"
      ]
     },
     "metadata": {
      "needs_background": "light"
     },
     "output_type": "display_data"
    },
    {
     "data": {
      "image/png": "[encoded data removed]",
      "text/plain": [
       "<Figure size 432x288 with 1 Axes>"
      ]
     },
     "metadata": {
      "needs_background": "light"
     },
     "output_type": "display_data"
    }
   ],
   "source": [
    "i = 0\n",
    "plt.imshow(X_37_test[i,:,:,0], cmap='gray')\n",
    "plt.show()\n",
    "plt.imshow(X_adv[i,:,:,0], cmap='gray')\n",
    "plt.show()"
   ]
  },
  {
   "cell_type": "code",
   "execution_count": 71,
   "metadata": {},
   "outputs": [
    {
     "name": "stdout",
     "output_type": "stream",
     "text": [
      "1.0\n",
      "[7 7 3 7 3]\n"
     ]
    }
   ],
   "source": [
    "p, acc = dknn_acc(A, get_all_rep_nm(X_37_test[:5]), y_37_test[:5], query, y_train)\n",
    "print(acc)\n",
    "print(np.argmax(p, 1))"
   ]
  },
  {
   "cell_type": "code",
   "execution_count": 74,
   "metadata": {},
   "outputs": [
    {
     "data": {
      "text/plain": [
       "array([[0.        , 0.        , 0.        , 0.        , 0.        ,\n",
       "        0.        , 0.        , 1.        , 0.        , 0.        ],\n",
       "       [0.        , 0.        , 0.        , 0.        , 0.        ,\n",
       "        0.        , 0.        , 1.        , 0.        , 0.        ],\n",
       "       [0.        , 0.        , 0.        , 0.044     , 0.        ,\n",
       "        0.00266667, 0.        , 0.        , 0.        , 0.        ],\n",
       "       [0.        , 0.        , 0.        , 0.        , 0.        ,\n",
       "        0.        , 0.        , 1.        , 0.        , 0.        ],\n",
       "       [0.        , 0.        , 0.        , 1.        , 0.        ,\n",
       "        0.        , 0.        , 0.        , 0.        , 0.        ]])"
      ]
     },
     "execution_count": 74,
     "metadata": {},
     "output_type": "execute_result"
    }
   ],
   "source": [
    "p"
   ]
  },
  {
   "cell_type": "markdown",
   "metadata": {},
   "source": [
    "---\n",
    "\n",
    "## AttackV5"
   ]
  },
  {
   "cell_type": "code",
   "execution_count": 22,
   "metadata": {},
   "outputs": [],
   "source": [
    "class AttackV5(object):\n",
    "    \n",
    "    def __init__(self, sess, model, get_rep, X, X_rep, y_X, \n",
    "                 pert_norm=np.inf, batch_size=1000, lr=1e-3, \n",
    "                 abort_early=True, init_const=1, pert_bound=0.3,\n",
    "                 min_dist=None, m=100, target_nn=38):\n",
    "        \"\"\"\n",
    "        X_rep must be normalized and flattened\n",
    "        m: (int) number of neighbors to consider\n",
    "        \"\"\"\n",
    "    \n",
    "        self.sess = sess\n",
    "        self.model = model\n",
    "        self.X = X\n",
    "        self.X_rep = X_rep\n",
    "        self.y_X = y_X\n",
    "        self.n_layers = len(X_rep)\n",
    "        self.batch_size = batch_size\n",
    "        self.abort_early = abort_early\n",
    "        self.init_const = init_const\n",
    "        self.pert_norm = pert_norm\n",
    "        self.pert_bound = pert_bound\n",
    "        # If min_dist is not given, assign arbritary number\n",
    "        if min_dist is None:\n",
    "            min_dist = [0.1]*self.n_layers\n",
    "        self.min_dist = min_dist\n",
    "        self.m = m\n",
    "        self.target_nn = target_nn\n",
    "        \n",
    "        assert self.n_layers == len(get_rep)\n",
    "        \n",
    "        input_ndim = X.ndim\n",
    "        input_axis = np.arange(1, input_ndim)\n",
    "        input_shape = (batch_size, ) + X.shape[1:]\n",
    "\n",
    "        \n",
    "        # =============== Set up variables and placeholders =============== #\n",
    "        # Objective variable\n",
    "        modifier = tf.Variable(np.zeros(input_shape), dtype=tf.float32)\n",
    "\n",
    "        # These are variables to be more efficient in sending data to tf\n",
    "        q_var = tf.Variable(np.zeros(input_shape), dtype=tf.float32, name='q_var')\n",
    "        x_var = []\n",
    "        for l in range(self.n_layers):\n",
    "            rep_shape = (batch_size, m, X_rep[l].shape[1])\n",
    "            x_var.append(tf.Variable(np.zeros(rep_shape), \n",
    "                                     dtype=tf.float32, \n",
    "                                     name='x_var_{}'.format(l)))\n",
    "        w_var = tf.Variable(np.zeros((batch_size, m, 1)), \n",
    "                            dtype=tf.float32, \n",
    "                            name='w_var_{}'.format(l))\n",
    "        const_var = tf.Variable(\n",
    "            np.zeros(batch_size), dtype=tf.float32, name='const_var')\n",
    "        steep_var = tf.Variable(\n",
    "            np.zeros((batch_size, 1, 1)), dtype=tf.float32, name='const_var')\n",
    "        clipmin_var = tf.Variable(\n",
    "            np.zeros(input_shape), dtype=tf.float32, name='clipmin_var')\n",
    "        clipmax_var = tf.Variable(\n",
    "            np.zeros(input_shape), dtype=tf.float32, name='clipmax_var')\n",
    "\n",
    "        # and here's what we use to assign them\n",
    "        self.assign_q = tf.placeholder(tf.float32, input_shape, name='assign_q')\n",
    "        self.assign_x = []\n",
    "        for l in range(self.n_layers):\n",
    "            rep_shape = (batch_size, m, X_rep[l].shape[1])\n",
    "            self.assign_x.append(tf.placeholder(tf.float32, \n",
    "                                                rep_shape, \n",
    "                                                name='assign_x_{}'.format(l)))\n",
    "        self.assign_w = tf.placeholder(\n",
    "            tf.float32, [batch_size, m, 1], name='assign_w_{}'.format(l))\n",
    "        self.assign_const = tf.placeholder(\n",
    "            tf.float32, [batch_size], name='assign_const')\n",
    "        self.assign_steep = tf.placeholder(\n",
    "            tf.float32, [batch_size, 1, 1], name='assign_steep')\n",
    "        self.assign_clipmin = tf.placeholder(\n",
    "            tf.float32, input_shape, name='assign_clipmin')\n",
    "        self.assign_clipmax = tf.placeholder(\n",
    "            tf.float32, input_shape, name='assign_clipmax')\n",
    "\n",
    "        \n",
    "        # ================= Get reprentation tensor ================= #\n",
    "        # Clip to ensure pixel value is between 0 and 1\n",
    "        self.new_q = (tf.tanh(modifier + q_var) + 1) / 2\n",
    "        self.new_q = self.new_q * (clipmax_var - clipmin_var) + clipmin_var\n",
    "        # Distance to the input data\n",
    "        orig = (tf.tanh(q_var) + 1) / \\\n",
    "            2 * (clipmax_var - clipmin_var) + clipmin_var\n",
    "        self.rep = []\n",
    "        for l in range(self.n_layers):\n",
    "            rep = get_rep[l](self.new_q)\n",
    "            rep = tf.reshape(rep, [batch_size, 1, -1])\n",
    "            rep = rep / tf.norm(rep, axis=2, keepdims=True)\n",
    "            self.rep.append(rep)\n",
    "\n",
    "        # L2 perturbation loss\n",
    "        l2dist = tf.reduce_sum(tf.square(self.new_q - orig), input_axis)\n",
    "        self.l2dist = tf.maximum(0., l2dist - self.pert_bound**2)\n",
    "        \n",
    "        \n",
    "        # ================== Approximate NN loss ================== #\n",
    "        def sigmoid(x, a=1):\n",
    "            return 1/(1 + tf.exp(-a*x))\n",
    "        \n",
    "        self.nn_loss = 0\n",
    "        for l in range(self.n_layers):\n",
    "            dist = tf.norm(self.rep[l] - x_var[l], axis=2, keepdims=True)\n",
    "            self.nn_loss += tf.reduce_sum(\n",
    "                w_var * sigmoid(min_dist[l] - dist, steep_var), (1, 2))\n",
    "        \n",
    "        \n",
    "        # ==================== Setup optimizer ==================== #\n",
    "        start_vars = set(x.name for x in tf.global_variables())\n",
    "        if pert_norm == 2 or pert_norm == np.inf:\n",
    "            # For L-2 norm constraint, we use a penalty term\n",
    "            self.loss = tf.reduce_mean(const_var*self.nn_loss + self.l2dist)\n",
    "        elif pert_norm == np.inf:\n",
    "            # For L-inf norm constraint, we do not use penalty term as\n",
    "            # change of variable provides box constraint\n",
    "            self.loss = tf.reduce_mean(self.nn_loss)\n",
    "        else:\n",
    "            raise ValueError('Invalid choice for perturbation norm!')\n",
    "        optimizer = tf.train.AdamOptimizer(lr)\n",
    "        self.train_step = optimizer.minimize(self.loss, var_list=[modifier])  \n",
    "            \n",
    "        # DEBUG\n",
    "        self.dist = dist\n",
    "        self.rep_db = rep\n",
    "        self.gradient = tf.gradients(self.nn_loss, modifier)\n",
    "        print('rep: ', self.rep)\n",
    "        # dist: (batch_size, m, 1)\n",
    "        print('dist: ', dist)\n",
    "        # sigmoid: (batch_size, m, 1)\n",
    "        print('sigmoid: ', sigmoid(min_dist[l] - dist, steep_var))\n",
    "        # weights: (batch_size, m, 1)\n",
    "        print('weights: ', w_var * sigmoid(min_dist[l] - dist, steep_var))\n",
    "        # loss, nn_loss: (batch_size, )\n",
    "        print('loss: ', tf.reduce_sum(\n",
    "            w_var * sigmoid(min_dist[l] - dist, steep_var), (1, 2)))\n",
    "        print('nn_loss: ', self.nn_loss)\n",
    "        \n",
    "            \n",
    "        end_vars = tf.global_variables()\n",
    "        new_vars = [x for x in end_vars if x.name not in start_vars]\n",
    "\n",
    "        self.setup = []\n",
    "        self.setup.append(q_var.assign(self.assign_q))\n",
    "        self.setup.extend([x_var[l].assign(self.assign_x[l]) \n",
    "                           for l in range(self.n_layers)])\n",
    "        self.setup.append(w_var.assign(self.assign_w))\n",
    "        self.setup.append(steep_var.assign(self.assign_steep))\n",
    "        self.setup.append(const_var.assign(self.assign_const))\n",
    "        self.setup.append(clipmin_var.assign(self.assign_clipmin))\n",
    "        self.setup.append(clipmax_var.assign(self.assign_clipmax))\n",
    "        self.init = tf.variables_initializer(var_list=[modifier] + new_vars)\n",
    "        \n",
    "        \n",
    "    def attack(self, Q, y_Q, bin_search_steps=5, max_iter=200, \n",
    "               rnd_start=0):\n",
    "        r = []\n",
    "        for i in range(0, len(Q), self.batch_size):\n",
    "            print(\"Running Baseline Attack on instance {} of {}\".format(\n",
    "                i, len(Q)))\n",
    "            t1 = timeit.default_timer()\n",
    "            Q_batch = Q[i:i + self.batch_size]\n",
    "            y_batch = y_Q[i:i + self.batch_size]\n",
    "            real_len = Q_batch.shape[0]\n",
    "            if real_len != self.batch_size:\n",
    "                pad_Q = ((0, self.batch_size - real_len), (0, 0), (0, 0), (0, 0))\n",
    "                pad_y = ((0, self.batch_size - real_len))\n",
    "                Q_batch = np.pad(Q_batch, pad_Q, 'constant')\n",
    "                y_batch = np.pad(y_batch, pad_y, 'constant')\n",
    "            r.extend(self.attack_batch(Q_batch,\n",
    "                                       y_batch,\n",
    "                                       bin_search_steps=bin_search_steps,\n",
    "                                       max_iter=max_iter,\n",
    "                                       rnd_start=rnd_start))\n",
    "            t2 = timeit.default_timer()\n",
    "            print(\"Time this batch: {:.0f}s\".format(t2 - t1))\n",
    "        return np.array(r)\n",
    "\n",
    "        \n",
    "    def attack_batch(self, Q, y_Q, bin_search_steps=5, max_iter=200,\n",
    "                     rnd_start=0):   \n",
    "        \n",
    "        # Find closest rep of different class\n",
    "        print(\"  Finding nn representation as target...\")\n",
    "        \n",
    "        # TODO: \n",
    "        # nn = find_nn_diff_class_l2(Q, y_Q, self.X, self.y_X, self.m)\n",
    "        # nn = find_nn_l2(Q, self.X, self.m)\n",
    "        nn = find_2nd_nn_l2(Q, y_Q, self.X, self.y_X, self.m)\n",
    "        \n",
    "        rep_m = [np.squeeze(rep[nn]) for rep in self.X_rep]\n",
    "        \n",
    "        # Get weights w\n",
    "        w = 2*(self.y_X[nn] == y_Q[:, np.newaxis]).astype(np.float32) - 1\n",
    "        print(np.mean(w == -1, axis=1))\n",
    "        \n",
    "        # Initialize steep\n",
    "        steep = np.ones((self.batch_size, 1, 1))\n",
    "        \n",
    "        # Find nn to target rep to save nn search time during optimization\n",
    "        # check_rep = find_nn(target_rep, self.X_rep, 100)\n",
    "        \n",
    "        o_bestl2 = [1e9] * self.batch_size\n",
    "        o_bestadv = np.zeros_like(Q[:self.batch_size])\n",
    "        \n",
    "        # Set the lower and upper bounds\n",
    "        lower_bound = np.zeros(self.batch_size)\n",
    "        const = np.ones(self.batch_size) * self.init_const\n",
    "        upper_bound = np.ones(self.batch_size) * 1e9\n",
    "       \n",
    "        for outer_step in range(bin_search_steps):\n",
    "            \n",
    "            noise = rnd_start * np.random.rand(*Q.shape)\n",
    "            Q_tanh = np.clip(Q + noise, 0., 1.)\n",
    "\n",
    "            # Calculate bound with L-inf norm constraints\n",
    "            if self.pert_norm == np.inf:\n",
    "                # Re-scale instances to be within range [x-d, x+d]\n",
    "                # for d is pert_bound\n",
    "                clipmin = np.clip(Q_tanh - self.pert_bound, 0., 1.)\n",
    "                clipmax = np.clip(Q_tanh + self.pert_bound, 0., 1.)\n",
    "\n",
    "            # Calculate bound with L2 norm constraints\n",
    "            elif self.pert_norm == 2:\n",
    "            # Re-scale instances to be within range [0, 1]\n",
    "                clipmin = np.zeros_like(Q_tanh)\n",
    "                clipmax = np.ones_like(Q_tanh)\n",
    "            \n",
    "            Q_tanh = (Q_tanh - clipmin) / (clipmax - clipmin)\n",
    "            Q_tanh = (Q_tanh * 2) - 1\n",
    "            Q_tanh = np.arctanh(Q_tanh * .999999)\n",
    "            Q_batch = Q_tanh[:self.batch_size]\n",
    "            \n",
    "            bestl2 = [1e9] * self.batch_size\n",
    "            bestadv = np.zeros_like(Q_batch)\n",
    "            print(\"  Binary search step {} of {}\".format(\n",
    "                outer_step, bin_search_steps))\n",
    "            \n",
    "            # Set the variables so that we don't have to send them over again\n",
    "            self.sess.run(self.init)\n",
    "            setup_dict = {self.assign_q: Q_batch,\n",
    "                          self.assign_w: w[:, :, np.newaxis],\n",
    "                          self.assign_const: const,\n",
    "                          self.assign_steep: steep,\n",
    "                          self.assign_clipmin: clipmin,\n",
    "                          self.assign_clipmax: clipmax}\n",
    "            for l in range(self.n_layers):\n",
    "                setup_dict[self.assign_x[l]] = rep_m[l]\n",
    "            self.sess.run(self.setup, feed_dict=setup_dict)\n",
    "\n",
    "            prev = 1e6\n",
    "            for iteration in range(max_iter):\n",
    "                # Take one step in optimization\n",
    "                _, l, l2s, qs = self.sess.run([self.train_step, \n",
    "                                               self.loss, \n",
    "                                               self.l2dist,\n",
    "                                               self.new_q])\n",
    "                # DEBUG\n",
    "#                 print(self.sess.run(self.dist))\n",
    "#                 grad = self.sess.run(self.gradient)\n",
    "#                 print(grad)\n",
    "#                 print(np.max(qs[0]))\n",
    "#                 print(np.min(qs[0]))\n",
    "#                 rep = self.sess.run(self.rep_db)\n",
    "#                 print(rep.shape)\n",
    "#                 print(np.sum(rep**2, axis=2))\n",
    "                \n",
    "                if iteration % ((max_iter // 10) or 1) == 0:\n",
    "                    print((\"    Iteration {} of {}: loss={:.3g} l2={:.3g}\").format(\n",
    "                        iteration, max_iter, l, np.mean(l2s)))\n",
    "                \n",
    "                # Abort early if stop improving\n",
    "                if self.abort_early and iteration % ((max_iter // 10) or 1) == 0:\n",
    "                    if l > prev * .9999:\n",
    "                        print(\"    Failed to make progress; stop early\")\n",
    "                        break\n",
    "                    prev = l\n",
    "                \n",
    "                # Check success of adversarial examples\n",
    "                if iteration % ((max_iter // 10) or 1) == 0:\n",
    "                    p, _ = dknn_acc(A, get_all_rep_nm(qs), y_Q, query, self.y_X)\n",
    "                    suc_ind = np.where(np.argmax(p, 1) != y_Q)[0]\n",
    "                    for ind in suc_ind:\n",
    "                        if l2s[ind] < bestl2[ind]:\n",
    "                            bestl2[ind] = l2s[ind]\n",
    "                            bestadv[ind] = qs[ind]\n",
    "                        \n",
    "            # Adjust const according to results\n",
    "            for e in range(self.batch_size):\n",
    "                if bestl2[e] < 1e9:\n",
    "                    # Success, divide const by two\n",
    "                    upper_bound[e] = min(upper_bound[e], const[e])\n",
    "                    if upper_bound[e] < 1e9:\n",
    "                        const[e] = (lower_bound[e] + upper_bound[e]) / 2\n",
    "                    if bestl2[e] < o_bestl2[e]:\n",
    "                        o_bestl2[e] = bestl2[e]\n",
    "                        o_bestadv[e] = bestadv[e]\n",
    "                else:\n",
    "                    # Failure, either multiply by 10 if no solution found yet\n",
    "                    #          or do binary search with the known upper bound\n",
    "                    lower_bound[e] = max(lower_bound[e], const[e])\n",
    "                    if upper_bound[e] < 1e9:\n",
    "                        const[e] = (lower_bound[e] + upper_bound[e]) / 2\n",
    "                    else:\n",
    "                        const[e] *= 10\n",
    "        \n",
    "        # Also save unsuccessful samples\n",
    "        ind = np.where(o_bestl2 == 1e9)[0]\n",
    "        o_bestadv[ind] = qs[ind]\n",
    "\n",
    "        return o_bestadv"
   ]
  },
  {
   "cell_type": "code",
   "execution_count": 29,
   "metadata": {},
   "outputs": [
    {
     "name": "stdout",
     "output_type": "stream",
     "text": [
      "rep:  [<tf.Tensor 'truediv_15:0' shape=(80, 1, 12544) dtype=float32>, <tf.Tensor 'truediv_16:0' shape=(80, 1, 6272) dtype=float32>, <tf.Tensor 'truediv_17:0' shape=(80, 1, 1152) dtype=float32>, <tf.Tensor 'truediv_18:0' shape=(80, 1, 10) dtype=float32>]\n",
      "dist:  Tensor(\"norm_15/Sqrt:0\", shape=(80, 500, 1), dtype=float32)\n",
      "sigmoid:  Tensor(\"truediv_23:0\", shape=(80, 500, 1), dtype=float32)\n",
      "weights:  Tensor(\"mul_29:0\", shape=(80, 500, 1), dtype=float32)\n",
      "loss:  Tensor(\"Sum_11:0\", shape=(80,), dtype=float32)\n",
      "nn_loss:  Tensor(\"add_29:0\", shape=(80,), dtype=float32)\n"
     ]
    }
   ],
   "source": [
    "attack = AttackV5(sess, model, \n",
    "                  [l1_rep, l2_rep, l3_rep, l4_rep], \n",
    "                  X_train, rep_train_nm, y_train, \n",
    "                  pert_norm=2,\n",
    "                  batch_size=80, \n",
    "                  lr=1e-1,\n",
    "                  min_dist=min_dist,\n",
    "                  pert_bound=0.,\n",
    "                  m=500, \n",
    "                  target_nn=38)"
   ]
  },
  {
   "cell_type": "code",
   "execution_count": 30,
   "metadata": {
    "scrolled": true
   },
   "outputs": [
    {
     "name": "stdout",
     "output_type": "stream",
     "text": [
      "Running Baseline Attack on instance 0 of 1888\n",
      "  Finding nn representation as target...\n",
      "[1. 1. 1. 1. 1. 1. 1. 1. 1. 1. 1. 1. 1. 1. 1. 1. 1. 1. 1. 1. 1. 1. 1. 1.\n",
      " 1. 1. 1. 1. 1. 1. 1. 1. 1. 1. 1. 1. 1. 1. 1. 1. 1. 1. 1. 1. 1. 1. 1. 1.\n",
      " 1. 1. 1. 1. 1. 1. 1. 1. 1. 1. 1. 1. 1. 1. 1. 1. 1. 1. 1. 1. 1. 1. 1. 1.\n",
      " 1. 1. 1. 1. 1. 1. 1. 1.]\n",
      "  Binary search step 0 of 5\n"
     ]
    },
    {
     "ename": "ResourceExhaustedError",
     "evalue": "OOM when allocating tensor with shape[80,500,12544] and type float on /job:localhost/replica:0/task:0/device:GPU:0 by allocator GPU_0_bfc\n\t [[Node: Assign_19 = Assign[T=DT_FLOAT, _grappler_relax_allocator_constraints=true, use_locking=false, validate_shape=true, _device=\"/job:localhost/replica:0/task:0/device:GPU:0\"](x_var_0_3, _arg_assign_x_0_1_0_6/_2311)]]\nHint: If you want to see a list of allocated tensors when OOM happens, add report_tensor_allocations_upon_oom to RunOptions for current allocation info.\n\n\t [[Node: Assign_19/_2321 = _Recv[_start_time=0, client_terminated=false, recv_device=\"/job:localhost/replica:0/task:0/device:CPU:0\", send_device=\"/job:localhost/replica:0/task:0/device:GPU:0\", send_device_incarnation=1, tensor_name=\"edge_54_Assign_19\", tensor_type=DT_FLOAT, _device=\"/job:localhost/replica:0/task:0/device:CPU:0\"]()]]\nHint: If you want to see a list of allocated tensors when OOM happens, add report_tensor_allocations_upon_oom to RunOptions for current allocation info.\n\n\nCaused by op 'Assign_19', defined at:\n  File \"/usr/lib/python3.5/runpy.py\", line 184, in _run_module_as_main\n    \"__main__\", mod_spec)\n  File \"/usr/lib/python3.5/runpy.py\", line 85, in _run_code\n    exec(code, run_globals)\n  File \"/usr/local/lib/python3.5/dist-packages/ipykernel_launcher.py\", line 16, in <module>\n    app.launch_new_instance()\n  File \"/usr/local/lib/python3.5/dist-packages/traitlets/config/application.py\", line 658, in launch_instance\n    app.start()\n  File \"/usr/local/lib/python3.5/dist-packages/ipykernel/kernelapp.py\", line 497, in start\n    self.io_loop.start()\n  File \"/usr/local/lib/python3.5/dist-packages/tornado/platform/asyncio.py\", line 132, in start\n    self.asyncio_loop.run_forever()\n  File \"/usr/lib/python3.5/asyncio/base_events.py\", line 345, in run_forever\n    self._run_once()\n  File \"/usr/lib/python3.5/asyncio/base_events.py\", line 1312, in _run_once\n    handle._run()\n  File \"/usr/lib/python3.5/asyncio/events.py\", line 125, in _run\n    self._callback(*self._args)\n  File \"/usr/local/lib/python3.5/dist-packages/tornado/platform/asyncio.py\", line 122, in _handle_events\n    handler_func(fileobj, events)\n  File \"/usr/local/lib/python3.5/dist-packages/tornado/stack_context.py\", line 300, in null_wrapper\n    return fn(*args, **kwargs)\n  File \"/usr/local/lib/python3.5/dist-packages/zmq/eventloop/zmqstream.py\", line 450, in _handle_events\n    self._handle_recv()\n  File \"/usr/local/lib/python3.5/dist-packages/zmq/eventloop/zmqstream.py\", line 480, in _handle_recv\n    self._run_callback(callback, msg)\n  File \"/usr/local/lib/python3.5/dist-packages/zmq/eventloop/zmqstream.py\", line 432, in _run_callback\n    callback(*args, **kwargs)\n  File \"/usr/local/lib/python3.5/dist-packages/tornado/stack_context.py\", line 300, in null_wrapper\n    return fn(*args, **kwargs)\n  File \"/usr/local/lib/python3.5/dist-packages/ipykernel/kernelbase.py\", line 283, in dispatcher\n    return self.dispatch_shell(stream, msg)\n  File \"/usr/local/lib/python3.5/dist-packages/ipykernel/kernelbase.py\", line 233, in dispatch_shell\n    handler(stream, idents, msg)\n  File \"/usr/local/lib/python3.5/dist-packages/ipykernel/kernelbase.py\", line 399, in execute_request\n    user_expressions, allow_stdin)\n  File \"/usr/local/lib/python3.5/dist-packages/ipykernel/ipkernel.py\", line 208, in do_execute\n    res = shell.run_cell(code, store_history=store_history, silent=silent)\n  File \"/usr/local/lib/python3.5/dist-packages/ipykernel/zmqshell.py\", line 537, in run_cell\n    return super(ZMQInteractiveShell, self).run_cell(*args, **kwargs)\n  File \"/usr/local/lib/python3.5/dist-packages/IPython/core/interactiveshell.py\", line 2662, in run_cell\n    raw_cell, store_history, silent, shell_futures)\n  File \"/usr/local/lib/python3.5/dist-packages/IPython/core/interactiveshell.py\", line 2785, in _run_cell\n    interactivity=interactivity, compiler=compiler, result=result)\n  File \"/usr/local/lib/python3.5/dist-packages/IPython/core/interactiveshell.py\", line 2901, in run_ast_nodes\n    if self.run_code(code, result):\n  File \"/usr/local/lib/python3.5/dist-packages/IPython/core/interactiveshell.py\", line 2961, in run_code\n    exec(code_obj, self.user_global_ns, self.user_ns)\n  File \"<ipython-input-29-f79a1529055a>\", line 10, in <module>\n    target_nn=38)\n  File \"<ipython-input-22-b9e6d3f2e52a>\", line 147, in __init__\n    for l in range(self.n_layers)])\n  File \"<ipython-input-22-b9e6d3f2e52a>\", line 147, in <listcomp>\n    for l in range(self.n_layers)])\n  File \"/usr/local/lib/python3.5/dist-packages/tensorflow/python/ops/variables.py\", line 645, in assign\n    return state_ops.assign(self._variable, value, use_locking=use_locking)\n  File \"/usr/local/lib/python3.5/dist-packages/tensorflow/python/ops/state_ops.py\", line 216, in assign\n    validate_shape=validate_shape)\n  File \"/usr/local/lib/python3.5/dist-packages/tensorflow/python/ops/gen_state_ops.py\", line 60, in assign\n    use_locking=use_locking, name=name)\n  File \"/usr/local/lib/python3.5/dist-packages/tensorflow/python/framework/op_def_library.py\", line 787, in _apply_op_helper\n    op_def=op_def)\n  File \"/usr/local/lib/python3.5/dist-packages/tensorflow/python/util/deprecation.py\", line 454, in new_func\n    return func(*args, **kwargs)\n  File \"/usr/local/lib/python3.5/dist-packages/tensorflow/python/framework/ops.py\", line 3155, in create_op\n    op_def=op_def)\n  File \"/usr/local/lib/python3.5/dist-packages/tensorflow/python/framework/ops.py\", line 1717, in __init__\n    self._traceback = tf_stack.extract_stack()\n\nResourceExhaustedError (see above for traceback): OOM when allocating tensor with shape[80,500,12544] and type float on /job:localhost/replica:0/task:0/device:GPU:0 by allocator GPU_0_bfc\n\t [[Node: Assign_19 = Assign[T=DT_FLOAT, _grappler_relax_allocator_constraints=true, use_locking=false, validate_shape=true, _device=\"/job:localhost/replica:0/task:0/device:GPU:0\"](x_var_0_3, _arg_assign_x_0_1_0_6/_2311)]]\nHint: If you want to see a list of allocated tensors when OOM happens, add report_tensor_allocations_upon_oom to RunOptions for current allocation info.\n\n\t [[Node: Assign_19/_2321 = _Recv[_start_time=0, client_terminated=false, recv_device=\"/job:localhost/replica:0/task:0/device:CPU:0\", send_device=\"/job:localhost/replica:0/task:0/device:GPU:0\", send_device_incarnation=1, tensor_name=\"edge_54_Assign_19\", tensor_type=DT_FLOAT, _device=\"/job:localhost/replica:0/task:0/device:CPU:0\"]()]]\nHint: If you want to see a list of allocated tensors when OOM happens, add report_tensor_allocations_upon_oom to RunOptions for current allocation info.\n\n",
     "output_type": "error",
     "traceback": [
      "\u001b[0;31m---------------------------------------------------------------------------\u001b[0m",
      "\u001b[0;31mResourceExhaustedError\u001b[0m                    Traceback (most recent call last)",
      "\u001b[0;32m/usr/local/lib/python3.5/dist-packages/tensorflow/python/client/session.py\u001b[0m in \u001b[0;36m_do_call\u001b[0;34m(self, fn, *args)\u001b[0m\n\u001b[1;32m   1277\u001b[0m     \u001b[0;32mtry\u001b[0m\u001b[0;34m:\u001b[0m\u001b[0;34m\u001b[0m\u001b[0m\n\u001b[0;32m-> 1278\u001b[0;31m       \u001b[0;32mreturn\u001b[0m \u001b[0mfn\u001b[0m\u001b[0;34m(\u001b[0m\u001b[0;34m*\u001b[0m\u001b[0margs\u001b[0m\u001b[0;34m)\u001b[0m\u001b[0;34m\u001b[0m\u001b[0m\n\u001b[0m\u001b[1;32m   1279\u001b[0m     \u001b[0;32mexcept\u001b[0m \u001b[0merrors\u001b[0m\u001b[0;34m.\u001b[0m\u001b[0mOpError\u001b[0m \u001b[0;32mas\u001b[0m \u001b[0me\u001b[0m\u001b[0;34m:\u001b[0m\u001b[0;34m\u001b[0m\u001b[0m\n",
      "\u001b[0;32m/usr/local/lib/python3.5/dist-packages/tensorflow/python/client/session.py\u001b[0m in \u001b[0;36m_run_fn\u001b[0;34m(feed_dict, fetch_list, target_list, options, run_metadata)\u001b[0m\n\u001b[1;32m   1262\u001b[0m       return self._call_tf_sessionrun(\n\u001b[0;32m-> 1263\u001b[0;31m           options, feed_dict, fetch_list, target_list, run_metadata)\n\u001b[0m\u001b[1;32m   1264\u001b[0m \u001b[0;34m\u001b[0m\u001b[0m\n",
      "\u001b[0;32m/usr/local/lib/python3.5/dist-packages/tensorflow/python/client/session.py\u001b[0m in \u001b[0;36m_call_tf_sessionrun\u001b[0;34m(self, options, feed_dict, fetch_list, target_list, run_metadata)\u001b[0m\n\u001b[1;32m   1349\u001b[0m         \u001b[0mself\u001b[0m\u001b[0;34m.\u001b[0m\u001b[0m_session\u001b[0m\u001b[0;34m,\u001b[0m \u001b[0moptions\u001b[0m\u001b[0;34m,\u001b[0m \u001b[0mfeed_dict\u001b[0m\u001b[0;34m,\u001b[0m \u001b[0mfetch_list\u001b[0m\u001b[0;34m,\u001b[0m \u001b[0mtarget_list\u001b[0m\u001b[0;34m,\u001b[0m\u001b[0;34m\u001b[0m\u001b[0m\n\u001b[0;32m-> 1350\u001b[0;31m         run_metadata)\n\u001b[0m\u001b[1;32m   1351\u001b[0m \u001b[0;34m\u001b[0m\u001b[0m\n",
      "\u001b[0;31mResourceExhaustedError\u001b[0m: OOM when allocating tensor with shape[80,500,12544] and type float on /job:localhost/replica:0/task:0/device:GPU:0 by allocator GPU_0_bfc\n\t [[Node: Assign_19 = Assign[T=DT_FLOAT, _grappler_relax_allocator_constraints=true, use_locking=false, validate_shape=true, _device=\"/job:localhost/replica:0/task:0/device:GPU:0\"](x_var_0_3, _arg_assign_x_0_1_0_6/_2311)]]\nHint: If you want to see a list of allocated tensors when OOM happens, add report_tensor_allocations_upon_oom to RunOptions for current allocation info.\n\n\t [[Node: Assign_19/_2321 = _Recv[_start_time=0, client_terminated=false, recv_device=\"/job:localhost/replica:0/task:0/device:CPU:0\", send_device=\"/job:localhost/replica:0/task:0/device:GPU:0\", send_device_incarnation=1, tensor_name=\"edge_54_Assign_19\", tensor_type=DT_FLOAT, _device=\"/job:localhost/replica:0/task:0/device:CPU:0\"]()]]\nHint: If you want to see a list of allocated tensors when OOM happens, add report_tensor_allocations_upon_oom to RunOptions for current allocation info.\n",
      "\nDuring handling of the above exception, another exception occurred:\n",
      "\u001b[0;31mResourceExhaustedError\u001b[0m                    Traceback (most recent call last)",
      "\u001b[0;32m<ipython-input-30-2c9ba588144e>\u001b[0m in \u001b[0;36m<module>\u001b[0;34m()\u001b[0m\n\u001b[0;32m----> 1\u001b[0;31m \u001b[0mX_adv\u001b[0m \u001b[0;34m=\u001b[0m \u001b[0mattack\u001b[0m\u001b[0;34m.\u001b[0m\u001b[0mattack\u001b[0m\u001b[0;34m(\u001b[0m\u001b[0mX_37_test\u001b[0m\u001b[0;34m,\u001b[0m \u001b[0my_37_test\u001b[0m\u001b[0;34m)\u001b[0m\u001b[0;34m\u001b[0m\u001b[0m\n\u001b[0m",
      "\u001b[0;32m<ipython-input-22-b9e6d3f2e52a>\u001b[0m in \u001b[0;36mattack\u001b[0;34m(self, Q, y_Q, bin_search_steps, max_iter, rnd_start)\u001b[0m\n\u001b[1;32m    173\u001b[0m                                        \u001b[0mbin_search_steps\u001b[0m\u001b[0;34m=\u001b[0m\u001b[0mbin_search_steps\u001b[0m\u001b[0;34m,\u001b[0m\u001b[0;34m\u001b[0m\u001b[0m\n\u001b[1;32m    174\u001b[0m                                        \u001b[0mmax_iter\u001b[0m\u001b[0;34m=\u001b[0m\u001b[0mmax_iter\u001b[0m\u001b[0;34m,\u001b[0m\u001b[0;34m\u001b[0m\u001b[0m\n\u001b[0;32m--> 175\u001b[0;31m                                        rnd_start=rnd_start))\n\u001b[0m\u001b[1;32m    176\u001b[0m             \u001b[0mt2\u001b[0m \u001b[0;34m=\u001b[0m \u001b[0mtimeit\u001b[0m\u001b[0;34m.\u001b[0m\u001b[0mdefault_timer\u001b[0m\u001b[0;34m(\u001b[0m\u001b[0;34m)\u001b[0m\u001b[0;34m\u001b[0m\u001b[0m\n\u001b[1;32m    177\u001b[0m             \u001b[0mprint\u001b[0m\u001b[0;34m(\u001b[0m\u001b[0;34m\"Time this batch: {:.0f}s\"\u001b[0m\u001b[0;34m.\u001b[0m\u001b[0mformat\u001b[0m\u001b[0;34m(\u001b[0m\u001b[0mt2\u001b[0m \u001b[0;34m-\u001b[0m \u001b[0mt1\u001b[0m\u001b[0;34m)\u001b[0m\u001b[0;34m)\u001b[0m\u001b[0;34m\u001b[0m\u001b[0m\n",
      "\u001b[0;32m<ipython-input-22-b9e6d3f2e52a>\u001b[0m in \u001b[0;36mattack_batch\u001b[0;34m(self, Q, y_Q, bin_search_steps, max_iter, rnd_start)\u001b[0m\n\u001b[1;32m    248\u001b[0m             \u001b[0;32mfor\u001b[0m \u001b[0ml\u001b[0m \u001b[0;32min\u001b[0m \u001b[0mrange\u001b[0m\u001b[0;34m(\u001b[0m\u001b[0mself\u001b[0m\u001b[0;34m.\u001b[0m\u001b[0mn_layers\u001b[0m\u001b[0;34m)\u001b[0m\u001b[0;34m:\u001b[0m\u001b[0;34m\u001b[0m\u001b[0m\n\u001b[1;32m    249\u001b[0m                 \u001b[0msetup_dict\u001b[0m\u001b[0;34m[\u001b[0m\u001b[0mself\u001b[0m\u001b[0;34m.\u001b[0m\u001b[0massign_x\u001b[0m\u001b[0;34m[\u001b[0m\u001b[0ml\u001b[0m\u001b[0;34m]\u001b[0m\u001b[0;34m]\u001b[0m \u001b[0;34m=\u001b[0m \u001b[0mrep_m\u001b[0m\u001b[0;34m[\u001b[0m\u001b[0ml\u001b[0m\u001b[0;34m]\u001b[0m\u001b[0;34m\u001b[0m\u001b[0m\n\u001b[0;32m--> 250\u001b[0;31m             \u001b[0mself\u001b[0m\u001b[0;34m.\u001b[0m\u001b[0msess\u001b[0m\u001b[0;34m.\u001b[0m\u001b[0mrun\u001b[0m\u001b[0;34m(\u001b[0m\u001b[0mself\u001b[0m\u001b[0;34m.\u001b[0m\u001b[0msetup\u001b[0m\u001b[0;34m,\u001b[0m \u001b[0mfeed_dict\u001b[0m\u001b[0;34m=\u001b[0m\u001b[0msetup_dict\u001b[0m\u001b[0;34m)\u001b[0m\u001b[0;34m\u001b[0m\u001b[0m\n\u001b[0m\u001b[1;32m    251\u001b[0m \u001b[0;34m\u001b[0m\u001b[0m\n\u001b[1;32m    252\u001b[0m             \u001b[0mprev\u001b[0m \u001b[0;34m=\u001b[0m \u001b[0;36m1e6\u001b[0m\u001b[0;34m\u001b[0m\u001b[0m\n",
      "\u001b[0;32m/usr/local/lib/python3.5/dist-packages/tensorflow/python/client/session.py\u001b[0m in \u001b[0;36mrun\u001b[0;34m(self, fetches, feed_dict, options, run_metadata)\u001b[0m\n\u001b[1;32m    875\u001b[0m     \u001b[0;32mtry\u001b[0m\u001b[0;34m:\u001b[0m\u001b[0;34m\u001b[0m\u001b[0m\n\u001b[1;32m    876\u001b[0m       result = self._run(None, fetches, feed_dict, options_ptr,\n\u001b[0;32m--> 877\u001b[0;31m                          run_metadata_ptr)\n\u001b[0m\u001b[1;32m    878\u001b[0m       \u001b[0;32mif\u001b[0m \u001b[0mrun_metadata\u001b[0m\u001b[0;34m:\u001b[0m\u001b[0;34m\u001b[0m\u001b[0m\n\u001b[1;32m    879\u001b[0m         \u001b[0mproto_data\u001b[0m \u001b[0;34m=\u001b[0m \u001b[0mtf_session\u001b[0m\u001b[0;34m.\u001b[0m\u001b[0mTF_GetBuffer\u001b[0m\u001b[0;34m(\u001b[0m\u001b[0mrun_metadata_ptr\u001b[0m\u001b[0;34m)\u001b[0m\u001b[0;34m\u001b[0m\u001b[0m\n",
      "\u001b[0;32m/usr/local/lib/python3.5/dist-packages/tensorflow/python/client/session.py\u001b[0m in \u001b[0;36m_run\u001b[0;34m(self, handle, fetches, feed_dict, options, run_metadata)\u001b[0m\n\u001b[1;32m   1098\u001b[0m     \u001b[0;32mif\u001b[0m \u001b[0mfinal_fetches\u001b[0m \u001b[0;32mor\u001b[0m \u001b[0mfinal_targets\u001b[0m \u001b[0;32mor\u001b[0m \u001b[0;34m(\u001b[0m\u001b[0mhandle\u001b[0m \u001b[0;32mand\u001b[0m \u001b[0mfeed_dict_tensor\u001b[0m\u001b[0;34m)\u001b[0m\u001b[0;34m:\u001b[0m\u001b[0;34m\u001b[0m\u001b[0m\n\u001b[1;32m   1099\u001b[0m       results = self._do_run(handle, final_targets, final_fetches,\n\u001b[0;32m-> 1100\u001b[0;31m                              feed_dict_tensor, options, run_metadata)\n\u001b[0m\u001b[1;32m   1101\u001b[0m     \u001b[0;32melse\u001b[0m\u001b[0;34m:\u001b[0m\u001b[0;34m\u001b[0m\u001b[0m\n\u001b[1;32m   1102\u001b[0m       \u001b[0mresults\u001b[0m \u001b[0;34m=\u001b[0m \u001b[0;34m[\u001b[0m\u001b[0;34m]\u001b[0m\u001b[0;34m\u001b[0m\u001b[0m\n",
      "\u001b[0;32m/usr/local/lib/python3.5/dist-packages/tensorflow/python/client/session.py\u001b[0m in \u001b[0;36m_do_run\u001b[0;34m(self, handle, target_list, fetch_list, feed_dict, options, run_metadata)\u001b[0m\n\u001b[1;32m   1270\u001b[0m     \u001b[0;32mif\u001b[0m \u001b[0mhandle\u001b[0m \u001b[0;32mis\u001b[0m \u001b[0;32mNone\u001b[0m\u001b[0;34m:\u001b[0m\u001b[0;34m\u001b[0m\u001b[0m\n\u001b[1;32m   1271\u001b[0m       return self._do_call(_run_fn, feeds, fetches, targets, options,\n\u001b[0;32m-> 1272\u001b[0;31m                            run_metadata)\n\u001b[0m\u001b[1;32m   1273\u001b[0m     \u001b[0;32melse\u001b[0m\u001b[0;34m:\u001b[0m\u001b[0;34m\u001b[0m\u001b[0m\n\u001b[1;32m   1274\u001b[0m       \u001b[0;32mreturn\u001b[0m \u001b[0mself\u001b[0m\u001b[0;34m.\u001b[0m\u001b[0m_do_call\u001b[0m\u001b[0;34m(\u001b[0m\u001b[0m_prun_fn\u001b[0m\u001b[0;34m,\u001b[0m \u001b[0mhandle\u001b[0m\u001b[0;34m,\u001b[0m \u001b[0mfeeds\u001b[0m\u001b[0;34m,\u001b[0m \u001b[0mfetches\u001b[0m\u001b[0;34m)\u001b[0m\u001b[0;34m\u001b[0m\u001b[0m\n",
      "\u001b[0;32m/usr/local/lib/python3.5/dist-packages/tensorflow/python/client/session.py\u001b[0m in \u001b[0;36m_do_call\u001b[0;34m(self, fn, *args)\u001b[0m\n\u001b[1;32m   1289\u001b[0m         \u001b[0;32mexcept\u001b[0m \u001b[0mKeyError\u001b[0m\u001b[0;34m:\u001b[0m\u001b[0;34m\u001b[0m\u001b[0m\n\u001b[1;32m   1290\u001b[0m           \u001b[0;32mpass\u001b[0m\u001b[0;34m\u001b[0m\u001b[0m\n\u001b[0;32m-> 1291\u001b[0;31m       \u001b[0;32mraise\u001b[0m \u001b[0mtype\u001b[0m\u001b[0;34m(\u001b[0m\u001b[0me\u001b[0m\u001b[0;34m)\u001b[0m\u001b[0;34m(\u001b[0m\u001b[0mnode_def\u001b[0m\u001b[0;34m,\u001b[0m \u001b[0mop\u001b[0m\u001b[0;34m,\u001b[0m \u001b[0mmessage\u001b[0m\u001b[0;34m)\u001b[0m\u001b[0;34m\u001b[0m\u001b[0m\n\u001b[0m\u001b[1;32m   1292\u001b[0m \u001b[0;34m\u001b[0m\u001b[0m\n\u001b[1;32m   1293\u001b[0m   \u001b[0;32mdef\u001b[0m \u001b[0m_extend_graph\u001b[0m\u001b[0;34m(\u001b[0m\u001b[0mself\u001b[0m\u001b[0;34m)\u001b[0m\u001b[0;34m:\u001b[0m\u001b[0;34m\u001b[0m\u001b[0m\n",
      "\u001b[0;31mResourceExhaustedError\u001b[0m: OOM when allocating tensor with shape[80,500,12544] and type float on /job:localhost/replica:0/task:0/device:GPU:0 by allocator GPU_0_bfc\n\t [[Node: Assign_19 = Assign[T=DT_FLOAT, _grappler_relax_allocator_constraints=true, use_locking=false, validate_shape=true, _device=\"/job:localhost/replica:0/task:0/device:GPU:0\"](x_var_0_3, _arg_assign_x_0_1_0_6/_2311)]]\nHint: If you want to see a list of allocated tensors when OOM happens, add report_tensor_allocations_upon_oom to RunOptions for current allocation info.\n\n\t [[Node: Assign_19/_2321 = _Recv[_start_time=0, client_terminated=false, recv_device=\"/job:localhost/replica:0/task:0/device:CPU:0\", send_device=\"/job:localhost/replica:0/task:0/device:GPU:0\", send_device_incarnation=1, tensor_name=\"edge_54_Assign_19\", tensor_type=DT_FLOAT, _device=\"/job:localhost/replica:0/task:0/device:CPU:0\"]()]]\nHint: If you want to see a list of allocated tensors when OOM happens, add report_tensor_allocations_upon_oom to RunOptions for current allocation info.\n\n\nCaused by op 'Assign_19', defined at:\n  File \"/usr/lib/python3.5/runpy.py\", line 184, in _run_module_as_main\n    \"__main__\", mod_spec)\n  File \"/usr/lib/python3.5/runpy.py\", line 85, in _run_code\n    exec(code, run_globals)\n  File \"/usr/local/lib/python3.5/dist-packages/ipykernel_launcher.py\", line 16, in <module>\n    app.launch_new_instance()\n  File \"/usr/local/lib/python3.5/dist-packages/traitlets/config/application.py\", line 658, in launch_instance\n    app.start()\n  File \"/usr/local/lib/python3.5/dist-packages/ipykernel/kernelapp.py\", line 497, in start\n    self.io_loop.start()\n  File \"/usr/local/lib/python3.5/dist-packages/tornado/platform/asyncio.py\", line 132, in start\n    self.asyncio_loop.run_forever()\n  File \"/usr/lib/python3.5/asyncio/base_events.py\", line 345, in run_forever\n    self._run_once()\n  File \"/usr/lib/python3.5/asyncio/base_events.py\", line 1312, in _run_once\n    handle._run()\n  File \"/usr/lib/python3.5/asyncio/events.py\", line 125, in _run\n    self._callback(*self._args)\n  File \"/usr/local/lib/python3.5/dist-packages/tornado/platform/asyncio.py\", line 122, in _handle_events\n    handler_func(fileobj, events)\n  File \"/usr/local/lib/python3.5/dist-packages/tornado/stack_context.py\", line 300, in null_wrapper\n    return fn(*args, **kwargs)\n  File \"/usr/local/lib/python3.5/dist-packages/zmq/eventloop/zmqstream.py\", line 450, in _handle_events\n    self._handle_recv()\n  File \"/usr/local/lib/python3.5/dist-packages/zmq/eventloop/zmqstream.py\", line 480, in _handle_recv\n    self._run_callback(callback, msg)\n  File \"/usr/local/lib/python3.5/dist-packages/zmq/eventloop/zmqstream.py\", line 432, in _run_callback\n    callback(*args, **kwargs)\n  File \"/usr/local/lib/python3.5/dist-packages/tornado/stack_context.py\", line 300, in null_wrapper\n    return fn(*args, **kwargs)\n  File \"/usr/local/lib/python3.5/dist-packages/ipykernel/kernelbase.py\", line 283, in dispatcher\n    return self.dispatch_shell(stream, msg)\n  File \"/usr/local/lib/python3.5/dist-packages/ipykernel/kernelbase.py\", line 233, in dispatch_shell\n    handler(stream, idents, msg)\n  File \"/usr/local/lib/python3.5/dist-packages/ipykernel/kernelbase.py\", line 399, in execute_request\n    user_expressions, allow_stdin)\n  File \"/usr/local/lib/python3.5/dist-packages/ipykernel/ipkernel.py\", line 208, in do_execute\n    res = shell.run_cell(code, store_history=store_history, silent=silent)\n  File \"/usr/local/lib/python3.5/dist-packages/ipykernel/zmqshell.py\", line 537, in run_cell\n    return super(ZMQInteractiveShell, self).run_cell(*args, **kwargs)\n  File \"/usr/local/lib/python3.5/dist-packages/IPython/core/interactiveshell.py\", line 2662, in run_cell\n    raw_cell, store_history, silent, shell_futures)\n  File \"/usr/local/lib/python3.5/dist-packages/IPython/core/interactiveshell.py\", line 2785, in _run_cell\n    interactivity=interactivity, compiler=compiler, result=result)\n  File \"/usr/local/lib/python3.5/dist-packages/IPython/core/interactiveshell.py\", line 2901, in run_ast_nodes\n    if self.run_code(code, result):\n  File \"/usr/local/lib/python3.5/dist-packages/IPython/core/interactiveshell.py\", line 2961, in run_code\n    exec(code_obj, self.user_global_ns, self.user_ns)\n  File \"<ipython-input-29-f79a1529055a>\", line 10, in <module>\n    target_nn=38)\n  File \"<ipython-input-22-b9e6d3f2e52a>\", line 147, in __init__\n    for l in range(self.n_layers)])\n  File \"<ipython-input-22-b9e6d3f2e52a>\", line 147, in <listcomp>\n    for l in range(self.n_layers)])\n  File \"/usr/local/lib/python3.5/dist-packages/tensorflow/python/ops/variables.py\", line 645, in assign\n    return state_ops.assign(self._variable, value, use_locking=use_locking)\n  File \"/usr/local/lib/python3.5/dist-packages/tensorflow/python/ops/state_ops.py\", line 216, in assign\n    validate_shape=validate_shape)\n  File \"/usr/local/lib/python3.5/dist-packages/tensorflow/python/ops/gen_state_ops.py\", line 60, in assign\n    use_locking=use_locking, name=name)\n  File \"/usr/local/lib/python3.5/dist-packages/tensorflow/python/framework/op_def_library.py\", line 787, in _apply_op_helper\n    op_def=op_def)\n  File \"/usr/local/lib/python3.5/dist-packages/tensorflow/python/util/deprecation.py\", line 454, in new_func\n    return func(*args, **kwargs)\n  File \"/usr/local/lib/python3.5/dist-packages/tensorflow/python/framework/ops.py\", line 3155, in create_op\n    op_def=op_def)\n  File \"/usr/local/lib/python3.5/dist-packages/tensorflow/python/framework/ops.py\", line 1717, in __init__\n    self._traceback = tf_stack.extract_stack()\n\nResourceExhaustedError (see above for traceback): OOM when allocating tensor with shape[80,500,12544] and type float on /job:localhost/replica:0/task:0/device:GPU:0 by allocator GPU_0_bfc\n\t [[Node: Assign_19 = Assign[T=DT_FLOAT, _grappler_relax_allocator_constraints=true, use_locking=false, validate_shape=true, _device=\"/job:localhost/replica:0/task:0/device:GPU:0\"](x_var_0_3, _arg_assign_x_0_1_0_6/_2311)]]\nHint: If you want to see a list of allocated tensors when OOM happens, add report_tensor_allocations_upon_oom to RunOptions for current allocation info.\n\n\t [[Node: Assign_19/_2321 = _Recv[_start_time=0, client_terminated=false, recv_device=\"/job:localhost/replica:0/task:0/device:CPU:0\", send_device=\"/job:localhost/replica:0/task:0/device:GPU:0\", send_device_incarnation=1, tensor_name=\"edge_54_Assign_19\", tensor_type=DT_FLOAT, _device=\"/job:localhost/replica:0/task:0/device:CPU:0\"]()]]\nHint: If you want to see a list of allocated tensors when OOM happens, add report_tensor_allocations_upon_oom to RunOptions for current allocation info.\n\n"
     ]
    }
   ],
   "source": [
    "X_adv = attack.attack(X_37_test, y_37_test)"
   ]
  },
  {
   "cell_type": "code",
   "execution_count": 131,
   "metadata": {},
   "outputs": [
    {
     "name": "stdout",
     "output_type": "stream",
     "text": [
      "0.0\n",
      "[9 9 5 9 5]\n"
     ]
    }
   ],
   "source": [
    "p, acc = dknn_acc(A, get_all_rep_nm(X_adv), y_37_test[:5], query, y_train)\n",
    "print(acc)\n",
    "print(np.argmax(p, 1))"
   ]
  },
  {
   "cell_type": "code",
   "execution_count": 136,
   "metadata": {},
   "outputs": [
    {
     "data": {
      "image/png": "[encoded data removed]",
      "text/plain": [
       "<Figure size 432x288 with 1 Axes>"
      ]
     },
     "metadata": {
      "needs_background": "light"
     },
     "output_type": "display_data"
    },
    {
     "data": {
      "image/png": "[encoded data removed]",
      "text/plain": [
       "<Figure size 432x288 with 1 Axes>"
      ]
     },
     "metadata": {
      "needs_background": "light"
     },
     "output_type": "display_data"
    }
   ],
   "source": [
    "i = 3\n",
    "plt.imshow(X_37_test[i,:,:,0], cmap='gray')\n",
    "plt.show()\n",
    "plt.imshow(X_adv[i,:,:,0], cmap='gray')\n",
    "plt.show()"
   ]
  },
  {
   "cell_type": "code",
   "execution_count": 112,
   "metadata": {},
   "outputs": [
    {
     "name": "stdout",
     "output_type": "stream",
     "text": [
      "rep:  [<tf.Tensor 'truediv_89:0' shape=(5, 1, 12544) dtype=float32>, <tf.Tensor 'truediv_90:0' shape=(5, 1, 6272) dtype=float32>, <tf.Tensor 'truediv_91:0' shape=(5, 1, 1152) dtype=float32>, <tf.Tensor 'truediv_92:0' shape=(5, 1, 10) dtype=float32>]\n",
      "dist:  Tensor(\"norm_67/Sqrt:0\", shape=(5, 500, 1), dtype=float32)\n",
      "sigmoid:  Tensor(\"truediv_97:0\", shape=(5, 500, 1), dtype=float32)\n",
      "weights:  Tensor(\"mul_113:0\", shape=(5, 500, 1), dtype=float32)\n",
      "loss:  Tensor(\"Sum_47:0\", shape=(5,), dtype=float32)\n",
      "nn_loss:  Tensor(\"add_112:0\", shape=(5,), dtype=float32)\n"
     ]
    }
   ],
   "source": [
    "attack = AttackV5(sess, model, \n",
    "                  [l1_rep, l2_rep, l3_rep, l4_rep], \n",
    "                  X_train, rep_train_nm, y_train, \n",
    "                  pert_norm=np.inf,\n",
    "                  batch_size=5, \n",
    "                  lr=1e-3,\n",
    "                  min_dist=min_dist,\n",
    "                  pert_bound=0.3,\n",
    "                  m=500, \n",
    "                  target_nn=38)"
   ]
  },
  {
   "cell_type": "code",
   "execution_count": 113,
   "metadata": {
    "scrolled": true
   },
   "outputs": [
    {
     "name": "stdout",
     "output_type": "stream",
     "text": [
      "Running Baseline Attack on instance 0 of 5\n",
      "  Finding nn representation as target...\n",
      "[1. 1. 1. 1. 1.]\n",
      "  Binary search step 0 of 5\n",
      "    Iteration 0 of 200: loss=-784 l2=0\n",
      "    Iteration 20 of 200: loss=-784 l2=0\n",
      "    Iteration 40 of 200: loss=-785 l2=0\n",
      "    Iteration 60 of 200: loss=-786 l2=0\n",
      "    Iteration 80 of 200: loss=-787 l2=0\n",
      "    Iteration 100 of 200: loss=-787 l2=0\n",
      "    Iteration 120 of 200: loss=-788 l2=3.6e-05\n",
      "    Iteration 140 of 200: loss=-789 l2=0.00627\n",
      "    Iteration 160 of 200: loss=-789 l2=0.0278\n",
      "    Iteration 180 of 200: loss=-790 l2=0.0549\n",
      "  Binary search step 1 of 5\n",
      "    Iteration 0 of 200: loss=-7.84e+03 l2=0\n",
      "    Iteration 20 of 200: loss=-7.84e+03 l2=0\n",
      "    Iteration 40 of 200: loss=-7.85e+03 l2=0\n",
      "    Iteration 60 of 200: loss=-7.86e+03 l2=0\n",
      "    Iteration 80 of 200: loss=-7.87e+03 l2=0\n",
      "    Iteration 100 of 200: loss=-7.87e+03 l2=0\n",
      "    Iteration 120 of 200: loss=-7.88e+03 l2=3.6e-05\n",
      "    Iteration 140 of 200: loss=-7.89e+03 l2=0.00659\n",
      "    Iteration 160 of 200: loss=-7.89e+03 l2=0.0294\n",
      "    Iteration 180 of 200: loss=-7.9e+03 l2=0.059\n",
      "  Binary search step 2 of 5\n",
      "    Iteration 0 of 200: loss=-7.84e+04 l2=0\n",
      "    Iteration 20 of 200: loss=-7.84e+04 l2=0\n",
      "    Iteration 40 of 200: loss=-7.85e+04 l2=0\n",
      "    Iteration 60 of 200: loss=-7.86e+04 l2=0\n",
      "    Iteration 80 of 200: loss=-7.87e+04 l2=0\n",
      "    Iteration 100 of 200: loss=-7.87e+04 l2=0\n",
      "    Iteration 120 of 200: loss=-7.88e+04 l2=3.6e-05\n",
      "    Iteration 140 of 200: loss=-7.89e+04 l2=0.00662\n",
      "    Iteration 160 of 200: loss=-7.89e+04 l2=0.0296\n",
      "    Iteration 180 of 200: loss=-7.9e+04 l2=0.0595\n",
      "  Binary search step 3 of 5\n",
      "    Iteration 0 of 200: loss=-7.84e+05 l2=0\n",
      "    Iteration 20 of 200: loss=-7.84e+05 l2=0\n",
      "    Iteration 40 of 200: loss=-7.85e+05 l2=0\n",
      "    Iteration 60 of 200: loss=-7.86e+05 l2=0\n",
      "    Iteration 80 of 200: loss=-7.87e+05 l2=0\n",
      "    Iteration 100 of 200: loss=-7.87e+05 l2=0\n",
      "    Iteration 120 of 200: loss=-7.88e+05 l2=3.6e-05\n",
      "    Iteration 140 of 200: loss=-7.89e+05 l2=0.00662\n",
      "    Iteration 160 of 200: loss=-7.89e+05 l2=0.0296\n",
      "    Iteration 180 of 200: loss=-7.9e+05 l2=0.0595\n",
      "  Binary search step 4 of 5\n",
      "    Iteration 0 of 200: loss=-7.84e+06 l2=0\n",
      "    Iteration 20 of 200: loss=-7.84e+06 l2=0\n",
      "    Iteration 40 of 200: loss=-7.85e+06 l2=0\n",
      "    Iteration 60 of 200: loss=-7.86e+06 l2=0\n",
      "    Iteration 80 of 200: loss=-7.87e+06 l2=0\n",
      "    Iteration 100 of 200: loss=-7.87e+06 l2=0\n",
      "    Iteration 120 of 200: loss=-7.88e+06 l2=3.6e-05\n",
      "    Iteration 140 of 200: loss=-7.89e+06 l2=0.00662\n",
      "    Iteration 160 of 200: loss=-7.89e+06 l2=0.0296\n",
      "    Iteration 180 of 200: loss=-7.9e+06 l2=0.0595\n"
     ]
    }
   ],
   "source": [
    "X_adv = attack.attack(X_37_test[:5], y_37_test[:5])"
   ]
  },
  {
   "cell_type": "code",
   "execution_count": 114,
   "metadata": {},
   "outputs": [
    {
     "name": "stdout",
     "output_type": "stream",
     "text": [
      "0.0\n",
      "[5 5 5 5 5]\n"
     ]
    }
   ],
   "source": [
    "p, acc = dknn_acc(A, get_all_rep_nm(X_adv), y_37_test[:5], query, y_train)\n",
    "print(acc)\n",
    "print(np.argmax(p, 1))"
   ]
  },
  {
   "cell_type": "code",
   "execution_count": 116,
   "metadata": {},
   "outputs": [
    {
     "data": {
      "image/png": "[encoded data removed]",
      "text/plain": [
       "<Figure size 432x288 with 1 Axes>"
      ]
     },
     "metadata": {
      "needs_background": "light"
     },
     "output_type": "display_data"
    },
    {
     "data": {
      "image/png": "[encoded data removed]",
      "text/plain": [
       "<Figure size 432x288 with 1 Axes>"
      ]
     },
     "metadata": {
      "needs_background": "light"
     },
     "output_type": "display_data"
    }
   ],
   "source": [
    "i = 0\n",
    "plt.imshow(X_37_test[i,:,:,0], cmap='gray')\n",
    "plt.show()\n",
    "plt.imshow(X_adv[i,:,:,0], cmap='gray')\n",
    "plt.show()"
   ]
  },
  {
   "cell_type": "code",
   "execution_count": 142,
   "metadata": {},
   "outputs": [
    {
     "name": "stdout",
     "output_type": "stream",
     "text": [
      "a4\n"
     ]
    }
   ],
   "source": [
    "print(\"a{:.0f}\".format(3.5))"
   ]
  },
  {
   "cell_type": "code",
   "execution_count": 156,
   "metadata": {},
   "outputs": [],
   "source": [
    "a = (np.pad(X_train[0:3], ((0, 1), (0, 0), (0, 0), (0, 0)),'constant', constant_values=0))"
   ]
  },
  {
   "cell_type": "code",
   "execution_count": 160,
   "metadata": {},
   "outputs": [
    {
     "data": {
      "text/plain": [
       "76.24705882352941"
      ]
     },
     "execution_count": 160,
     "metadata": {},
     "output_type": "execute_result"
    }
   ],
   "source": [
    "np.sum(a[-2])"
   ]
  },
  {
   "cell_type": "code",
   "execution_count": 161,
   "metadata": {},
   "outputs": [
    {
     "data": {
      "text/plain": [
       "(60000,)"
      ]
     },
     "execution_count": 161,
     "metadata": {},
     "output_type": "execute_result"
    }
   ],
   "source": [
    "y_train.shape"
   ]
  },
  {
   "cell_type": "code",
   "execution_count": null,
   "metadata": {},
   "outputs": [],
   "source": []
  },
  {
   "cell_type": "code",
   "execution_count": null,
   "metadata": {},
   "outputs": [],
   "source": []
  },
  {
   "cell_type": "code",
   "execution_count": null,
   "metadata": {},
   "outputs": [],
   "source": []
  },
  {
   "cell_type": "code",
   "execution_count": null,
   "metadata": {},
   "outputs": [],
   "source": []
  }
 ],
 "metadata": {
  "kernelspec": {
   "display_name": "Python 3",
   "language": "python",
   "name": "python3"
  },
  "language_info": {
   "codemirror_mode": {
    "name": "ipython",
    "version": 3
   },
   "file_extension": ".py",
   "mimetype": "text/x-python",
   "name": "python",
   "nbconvert_exporter": "python",
   "pygments_lexer": "ipython3",
   "version": "3.5.2"
  }
 },
 "nbformat": 4,
 "nbformat_minor": 2
}
